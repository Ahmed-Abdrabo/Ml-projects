{
 "cells": [
  {
   "cell_type": "markdown",
   "metadata": {
    "id": "Rg7-WOPt5Go7"
   },
   "source": [
    "# The Training Phase"
   ]
  },
  {
   "cell_type": "markdown",
   "metadata": {
    "id": "X7HOSuzd5Go7"
   },
   "source": [
    "#### Import pandas and all the necessary libraries."
   ]
  },
  {
   "cell_type": "code",
   "execution_count": 1,
   "metadata": {
    "id": "4dWuIJPo5Go7",
    "vscode": {
     "languageId": "plaintext"
    }
   },
   "outputs": [],
   "source": [
    "import numpy as np\n",
    "import pandas as pd\n",
    "import matplotlib.pyplot as plt\n",
    "import seaborn as sns\n",
    "from sklearn.impute import SimpleImputer\n",
    "from sklearn.preprocessing import KBinsDiscretizer\n",
    "from sklearn.preprocessing import StandardScaler\n",
    "from sklearn.svm import SVC\n",
    "from sklearn.model_selection import GridSearchCV\n",
    "from sklearn.metrics import accuracy_score, classification_report, confusion_matrix"
   ]
  },
  {
   "cell_type": "markdown",
   "metadata": {
    "id": "zbgNizue5Go8"
   },
   "source": [
    "#### Load the dataset, split it into 70% training set and 30% test set.\n",
    "save the training set in a file called training.csv, and the test set in a file called test.csv. don't forget to shuffle the dataframe before splitting.\n",
    "**Hint:** don't `use train_test_split()`, instead, use pandas `iloc[]` function."
   ]
  },
  {
   "cell_type": "code",
   "execution_count": 2,
   "metadata": {
    "id": "lTqNFZu95Go8",
    "vscode": {
     "languageId": "plaintext"
    }
   },
   "outputs": [],
   "source": [
    "diabetes_dataset = pd.read_csv('Diabetes dataset.csv') \n",
    "\n",
    "# Shuffle the data\n",
    "df = diabetes_dataset.sample(frac=1, random_state=42).reset_index(drop=True)\n",
    "train_size = int(0.7 * len(df))\n",
    "train_df = df.iloc[:train_size]\n",
    "test_df = df.iloc[train_size:]\n",
    "\n",
    "# Save the training set to a CSV file\n",
    "train_df.to_csv('training.csv', index=False)\n",
    "\n",
    "# Save the test set to a CSV file\n",
    "test_df.to_csv('test.csv', index=False)"
   ]
  },
  {
   "cell_type": "markdown",
   "metadata": {
    "id": "yocMq0qx5Go9"
   },
   "source": [
    "#### Load the file training.csv that you saved in a new data frame."
   ]
  },
  {
   "cell_type": "code",
   "execution_count": 3,
   "metadata": {
    "id": "kPOdvgiL5Go9",
    "vscode": {
     "languageId": "plaintext"
    }
   },
   "outputs": [],
   "source": [
    "train_df = pd.read_csv('training.csv') "
   ]
  },
  {
   "cell_type": "markdown",
   "metadata": {
    "id": "5jlh1Rof5Go9"
   },
   "source": [
    "#### View information about the dataset."
   ]
  },
  {
   "cell_type": "code",
   "execution_count": 4,
   "metadata": {
    "colab": {
     "base_uri": "https://localhost:8080/",
     "height": 206
    },
    "id": "rwsv8OaZ5Go9",
    "outputId": "e36ee786-922f-4186-da51-9b0dfa429ccf",
    "vscode": {
     "languageId": "plaintext"
    }
   },
   "outputs": [
    {
     "data": {
      "text/html": [
       "<div>\n",
       "<style scoped>\n",
       "    .dataframe tbody tr th:only-of-type {\n",
       "        vertical-align: middle;\n",
       "    }\n",
       "\n",
       "    .dataframe tbody tr th {\n",
       "        vertical-align: top;\n",
       "    }\n",
       "\n",
       "    .dataframe thead th {\n",
       "        text-align: right;\n",
       "    }\n",
       "</style>\n",
       "<table border=\"1\" class=\"dataframe\">\n",
       "  <thead>\n",
       "    <tr style=\"text-align: right;\">\n",
       "      <th></th>\n",
       "      <th>Pregnancies</th>\n",
       "      <th>Glucose</th>\n",
       "      <th>BloodPressure</th>\n",
       "      <th>SkinThickness</th>\n",
       "      <th>Insulin</th>\n",
       "      <th>BMI</th>\n",
       "      <th>DiabetesPedigreeFunction</th>\n",
       "      <th>Age</th>\n",
       "      <th>Outcome</th>\n",
       "    </tr>\n",
       "  </thead>\n",
       "  <tbody>\n",
       "    <tr>\n",
       "      <th>0</th>\n",
       "      <td>6</td>\n",
       "      <td>98</td>\n",
       "      <td>58</td>\n",
       "      <td>33</td>\n",
       "      <td>190</td>\n",
       "      <td>34.0</td>\n",
       "      <td>0.430</td>\n",
       "      <td>43</td>\n",
       "      <td>0</td>\n",
       "    </tr>\n",
       "    <tr>\n",
       "      <th>1</th>\n",
       "      <td>2</td>\n",
       "      <td>112</td>\n",
       "      <td>75</td>\n",
       "      <td>32</td>\n",
       "      <td>0</td>\n",
       "      <td>35.7</td>\n",
       "      <td>0.148</td>\n",
       "      <td>21</td>\n",
       "      <td>0</td>\n",
       "    </tr>\n",
       "    <tr>\n",
       "      <th>2</th>\n",
       "      <td>2</td>\n",
       "      <td>108</td>\n",
       "      <td>64</td>\n",
       "      <td>0</td>\n",
       "      <td>0</td>\n",
       "      <td>30.8</td>\n",
       "      <td>0.158</td>\n",
       "      <td>21</td>\n",
       "      <td>0</td>\n",
       "    </tr>\n",
       "    <tr>\n",
       "      <th>3</th>\n",
       "      <td>8</td>\n",
       "      <td>107</td>\n",
       "      <td>80</td>\n",
       "      <td>0</td>\n",
       "      <td>0</td>\n",
       "      <td>24.6</td>\n",
       "      <td>0.856</td>\n",
       "      <td>34</td>\n",
       "      <td>0</td>\n",
       "    </tr>\n",
       "    <tr>\n",
       "      <th>4</th>\n",
       "      <td>7</td>\n",
       "      <td>136</td>\n",
       "      <td>90</td>\n",
       "      <td>0</td>\n",
       "      <td>0</td>\n",
       "      <td>29.9</td>\n",
       "      <td>0.210</td>\n",
       "      <td>50</td>\n",
       "      <td>0</td>\n",
       "    </tr>\n",
       "  </tbody>\n",
       "</table>\n",
       "</div>"
      ],
      "text/plain": [
       "   Pregnancies  Glucose  BloodPressure  SkinThickness  Insulin   BMI  \\\n",
       "0            6       98             58             33      190  34.0   \n",
       "1            2      112             75             32        0  35.7   \n",
       "2            2      108             64              0        0  30.8   \n",
       "3            8      107             80              0        0  24.6   \n",
       "4            7      136             90              0        0  29.9   \n",
       "\n",
       "   DiabetesPedigreeFunction  Age  Outcome  \n",
       "0                     0.430   43        0  \n",
       "1                     0.148   21        0  \n",
       "2                     0.158   21        0  \n",
       "3                     0.856   34        0  \n",
       "4                     0.210   50        0  "
      ]
     },
     "execution_count": 4,
     "metadata": {},
     "output_type": "execute_result"
    }
   ],
   "source": [
    "train_df.head()"
   ]
  },
  {
   "cell_type": "code",
   "execution_count": 5,
   "metadata": {
    "colab": {
     "base_uri": "https://localhost:8080/",
     "height": 300
    },
    "id": "nXIGB_PY5Go-",
    "outputId": "a8a19107-fed0-4300-c862-6e95d83290d9"
   },
   "outputs": [
    {
     "data": {
      "text/html": [
       "<div>\n",
       "<style scoped>\n",
       "    .dataframe tbody tr th:only-of-type {\n",
       "        vertical-align: middle;\n",
       "    }\n",
       "\n",
       "    .dataframe tbody tr th {\n",
       "        vertical-align: top;\n",
       "    }\n",
       "\n",
       "    .dataframe thead th {\n",
       "        text-align: right;\n",
       "    }\n",
       "</style>\n",
       "<table border=\"1\" class=\"dataframe\">\n",
       "  <thead>\n",
       "    <tr style=\"text-align: right;\">\n",
       "      <th></th>\n",
       "      <th>Pregnancies</th>\n",
       "      <th>Glucose</th>\n",
       "      <th>BloodPressure</th>\n",
       "      <th>SkinThickness</th>\n",
       "      <th>Insulin</th>\n",
       "      <th>BMI</th>\n",
       "      <th>DiabetesPedigreeFunction</th>\n",
       "      <th>Age</th>\n",
       "      <th>Outcome</th>\n",
       "    </tr>\n",
       "  </thead>\n",
       "  <tbody>\n",
       "    <tr>\n",
       "      <th>count</th>\n",
       "      <td>768.000000</td>\n",
       "      <td>768.000000</td>\n",
       "      <td>768.000000</td>\n",
       "      <td>768.000000</td>\n",
       "      <td>768.000000</td>\n",
       "      <td>768.000000</td>\n",
       "      <td>768.000000</td>\n",
       "      <td>768.000000</td>\n",
       "      <td>768.000000</td>\n",
       "    </tr>\n",
       "    <tr>\n",
       "      <th>mean</th>\n",
       "      <td>3.845052</td>\n",
       "      <td>120.894531</td>\n",
       "      <td>69.105469</td>\n",
       "      <td>20.536458</td>\n",
       "      <td>79.799479</td>\n",
       "      <td>31.992578</td>\n",
       "      <td>0.471876</td>\n",
       "      <td>33.240885</td>\n",
       "      <td>0.348958</td>\n",
       "    </tr>\n",
       "    <tr>\n",
       "      <th>std</th>\n",
       "      <td>3.369578</td>\n",
       "      <td>31.972618</td>\n",
       "      <td>19.355807</td>\n",
       "      <td>15.952218</td>\n",
       "      <td>115.244002</td>\n",
       "      <td>7.884160</td>\n",
       "      <td>0.331329</td>\n",
       "      <td>11.760232</td>\n",
       "      <td>0.476951</td>\n",
       "    </tr>\n",
       "    <tr>\n",
       "      <th>min</th>\n",
       "      <td>0.000000</td>\n",
       "      <td>0.000000</td>\n",
       "      <td>0.000000</td>\n",
       "      <td>0.000000</td>\n",
       "      <td>0.000000</td>\n",
       "      <td>0.000000</td>\n",
       "      <td>0.078000</td>\n",
       "      <td>21.000000</td>\n",
       "      <td>0.000000</td>\n",
       "    </tr>\n",
       "    <tr>\n",
       "      <th>25%</th>\n",
       "      <td>1.000000</td>\n",
       "      <td>99.000000</td>\n",
       "      <td>62.000000</td>\n",
       "      <td>0.000000</td>\n",
       "      <td>0.000000</td>\n",
       "      <td>27.300000</td>\n",
       "      <td>0.243750</td>\n",
       "      <td>24.000000</td>\n",
       "      <td>0.000000</td>\n",
       "    </tr>\n",
       "    <tr>\n",
       "      <th>50%</th>\n",
       "      <td>3.000000</td>\n",
       "      <td>117.000000</td>\n",
       "      <td>72.000000</td>\n",
       "      <td>23.000000</td>\n",
       "      <td>30.500000</td>\n",
       "      <td>32.000000</td>\n",
       "      <td>0.372500</td>\n",
       "      <td>29.000000</td>\n",
       "      <td>0.000000</td>\n",
       "    </tr>\n",
       "    <tr>\n",
       "      <th>75%</th>\n",
       "      <td>6.000000</td>\n",
       "      <td>140.250000</td>\n",
       "      <td>80.000000</td>\n",
       "      <td>32.000000</td>\n",
       "      <td>127.250000</td>\n",
       "      <td>36.600000</td>\n",
       "      <td>0.626250</td>\n",
       "      <td>41.000000</td>\n",
       "      <td>1.000000</td>\n",
       "    </tr>\n",
       "    <tr>\n",
       "      <th>max</th>\n",
       "      <td>17.000000</td>\n",
       "      <td>199.000000</td>\n",
       "      <td>122.000000</td>\n",
       "      <td>99.000000</td>\n",
       "      <td>846.000000</td>\n",
       "      <td>67.100000</td>\n",
       "      <td>2.420000</td>\n",
       "      <td>81.000000</td>\n",
       "      <td>1.000000</td>\n",
       "    </tr>\n",
       "  </tbody>\n",
       "</table>\n",
       "</div>"
      ],
      "text/plain": [
       "       Pregnancies     Glucose  BloodPressure  SkinThickness     Insulin  \\\n",
       "count   768.000000  768.000000     768.000000     768.000000  768.000000   \n",
       "mean      3.845052  120.894531      69.105469      20.536458   79.799479   \n",
       "std       3.369578   31.972618      19.355807      15.952218  115.244002   \n",
       "min       0.000000    0.000000       0.000000       0.000000    0.000000   \n",
       "25%       1.000000   99.000000      62.000000       0.000000    0.000000   \n",
       "50%       3.000000  117.000000      72.000000      23.000000   30.500000   \n",
       "75%       6.000000  140.250000      80.000000      32.000000  127.250000   \n",
       "max      17.000000  199.000000     122.000000      99.000000  846.000000   \n",
       "\n",
       "              BMI  DiabetesPedigreeFunction         Age     Outcome  \n",
       "count  768.000000                768.000000  768.000000  768.000000  \n",
       "mean    31.992578                  0.471876   33.240885    0.348958  \n",
       "std      7.884160                  0.331329   11.760232    0.476951  \n",
       "min      0.000000                  0.078000   21.000000    0.000000  \n",
       "25%     27.300000                  0.243750   24.000000    0.000000  \n",
       "50%     32.000000                  0.372500   29.000000    0.000000  \n",
       "75%     36.600000                  0.626250   41.000000    1.000000  \n",
       "max     67.100000                  2.420000   81.000000    1.000000  "
      ]
     },
     "execution_count": 5,
     "metadata": {},
     "output_type": "execute_result"
    }
   ],
   "source": [
    "df.describe()"
   ]
  },
  {
   "cell_type": "markdown",
   "metadata": {
    "id": "OxoV7AGo5Go_"
   },
   "source": [
    "#### Clean the dataset.\n",
    "drop the useless columns, deal with the null values.   \n",
    "will you drop the rows, or use pandas mean(), or use sklearn simple Imputer?"
   ]
  },
  {
   "cell_type": "code",
   "execution_count": 7,
   "metadata": {
    "colab": {
     "base_uri": "https://localhost:8080/"
    },
    "id": "-w7PkWqC5Go_",
    "outputId": "6ad5ee75-d58d-4c9d-84e3-51ba61a6a784",
    "vscode": {
     "languageId": "plaintext"
    }
   },
   "outputs": [
    {
     "name": "stdout",
     "output_type": "stream",
     "text": [
      "Number of zeros in Pregnancies: 82\n",
      "Number of zeros in Glucose: 4\n",
      "Number of zeros in BloodPressure: 29\n",
      "Number of zeros in SkinThickness: 163\n",
      "Number of zeros in Insulin: 261\n",
      "Number of zeros in BMI: 10\n",
      "Number of zeros in DiabetesPedigreeFunction: 0\n",
      "Number of zeros in Age: 0\n",
      "Number of zeros in Outcome: 348\n"
     ]
    }
   ],
   "source": [
    "for column in train_df.columns:\n",
    "\tnum_zeros = (train_df[column] == 0).sum()\n",
    "\n",
    "\tprint(f\"Number of zeros in {column}: {num_zeros}\")    "
   ]
  },
  {
   "cell_type": "code",
   "execution_count": 8,
   "metadata": {
    "id": "sSZGjrnb5Go_"
   },
   "outputs": [],
   "source": [
    "col=[\"Glucose\", \"BloodPressure\", \"SkinThickness\", \"Insulin\", \"BMI\"]"
   ]
  },
  {
   "cell_type": "code",
   "execution_count": 9,
   "metadata": {
    "id": "fhuHUSil5Go_"
   },
   "outputs": [],
   "source": [
    "train_df[col]=train_df[col].replace(0, np.NaN) "
   ]
  },
  {
   "cell_type": "code",
   "execution_count": 10,
   "metadata": {
    "colab": {
     "base_uri": "https://localhost:8080/"
    },
    "id": "P3YyRiib5Go_",
    "outputId": "ede19e44-020c-4655-c52e-78aca3b1212d"
   },
   "outputs": [
    {
     "data": {
      "text/plain": [
       "Pregnancies                   0\n",
       "Glucose                       4\n",
       "BloodPressure                29\n",
       "SkinThickness               163\n",
       "Insulin                     261\n",
       "BMI                          10\n",
       "DiabetesPedigreeFunction      0\n",
       "Age                           0\n",
       "Outcome                       0\n",
       "dtype: int64"
      ]
     },
     "execution_count": 10,
     "metadata": {},
     "output_type": "execute_result"
    }
   ],
   "source": [
    "train_df.isna().sum()"
   ]
  },
  {
   "cell_type": "code",
   "execution_count": 11,
   "metadata": {
    "id": "sojYuLEt5GpA"
   },
   "outputs": [],
   "source": [
    "imputer = SimpleImputer(strategy='mean')\n",
    "\n",
    "imputer.fit(train_df[col])\n",
    "\n",
    "train_df[col] = imputer.transform(train_df[col])"
   ]
  },
  {
   "cell_type": "code",
   "execution_count": 12,
   "metadata": {
    "colab": {
     "base_uri": "https://localhost:8080/"
    },
    "id": "cDKihO9u5GpA",
    "outputId": "ae2b62db-42c0-46f4-88ff-de1066c1ef19"
   },
   "outputs": [
    {
     "data": {
      "text/plain": [
       "Pregnancies                 0\n",
       "Glucose                     0\n",
       "BloodPressure               0\n",
       "SkinThickness               0\n",
       "Insulin                     0\n",
       "BMI                         0\n",
       "DiabetesPedigreeFunction    0\n",
       "Age                         0\n",
       "Outcome                     0\n",
       "dtype: int64"
      ]
     },
     "execution_count": 12,
     "metadata": {},
     "output_type": "execute_result"
    }
   ],
   "source": [
    "train_df.isna().sum()"
   ]
  },
  {
   "cell_type": "code",
   "execution_count": 13,
   "metadata": {
    "colab": {
     "base_uri": "https://localhost:8080/",
     "height": 206
    },
    "id": "4uSczm9E5GpA",
    "outputId": "0756b833-5ed7-4b4b-86bf-d49b8e407325"
   },
   "outputs": [
    {
     "data": {
      "text/html": [
       "<div>\n",
       "<style scoped>\n",
       "    .dataframe tbody tr th:only-of-type {\n",
       "        vertical-align: middle;\n",
       "    }\n",
       "\n",
       "    .dataframe tbody tr th {\n",
       "        vertical-align: top;\n",
       "    }\n",
       "\n",
       "    .dataframe thead th {\n",
       "        text-align: right;\n",
       "    }\n",
       "</style>\n",
       "<table border=\"1\" class=\"dataframe\">\n",
       "  <thead>\n",
       "    <tr style=\"text-align: right;\">\n",
       "      <th></th>\n",
       "      <th>Pregnancies</th>\n",
       "      <th>Glucose</th>\n",
       "      <th>BloodPressure</th>\n",
       "      <th>SkinThickness</th>\n",
       "      <th>Insulin</th>\n",
       "      <th>BMI</th>\n",
       "      <th>DiabetesPedigreeFunction</th>\n",
       "      <th>Age</th>\n",
       "      <th>Outcome</th>\n",
       "    </tr>\n",
       "  </thead>\n",
       "  <tbody>\n",
       "    <tr>\n",
       "      <th>0</th>\n",
       "      <td>6</td>\n",
       "      <td>98.0</td>\n",
       "      <td>58.0</td>\n",
       "      <td>33.000000</td>\n",
       "      <td>190.000000</td>\n",
       "      <td>34.0</td>\n",
       "      <td>0.430</td>\n",
       "      <td>43</td>\n",
       "      <td>0</td>\n",
       "    </tr>\n",
       "    <tr>\n",
       "      <th>1</th>\n",
       "      <td>2</td>\n",
       "      <td>112.0</td>\n",
       "      <td>75.0</td>\n",
       "      <td>32.000000</td>\n",
       "      <td>158.536232</td>\n",
       "      <td>35.7</td>\n",
       "      <td>0.148</td>\n",
       "      <td>21</td>\n",
       "      <td>0</td>\n",
       "    </tr>\n",
       "    <tr>\n",
       "      <th>2</th>\n",
       "      <td>2</td>\n",
       "      <td>108.0</td>\n",
       "      <td>64.0</td>\n",
       "      <td>29.248663</td>\n",
       "      <td>158.536232</td>\n",
       "      <td>30.8</td>\n",
       "      <td>0.158</td>\n",
       "      <td>21</td>\n",
       "      <td>0</td>\n",
       "    </tr>\n",
       "    <tr>\n",
       "      <th>3</th>\n",
       "      <td>8</td>\n",
       "      <td>107.0</td>\n",
       "      <td>80.0</td>\n",
       "      <td>29.248663</td>\n",
       "      <td>158.536232</td>\n",
       "      <td>24.6</td>\n",
       "      <td>0.856</td>\n",
       "      <td>34</td>\n",
       "      <td>0</td>\n",
       "    </tr>\n",
       "    <tr>\n",
       "      <th>4</th>\n",
       "      <td>7</td>\n",
       "      <td>136.0</td>\n",
       "      <td>90.0</td>\n",
       "      <td>29.248663</td>\n",
       "      <td>158.536232</td>\n",
       "      <td>29.9</td>\n",
       "      <td>0.210</td>\n",
       "      <td>50</td>\n",
       "      <td>0</td>\n",
       "    </tr>\n",
       "  </tbody>\n",
       "</table>\n",
       "</div>"
      ],
      "text/plain": [
       "   Pregnancies  Glucose  BloodPressure  SkinThickness     Insulin   BMI  \\\n",
       "0            6     98.0           58.0      33.000000  190.000000  34.0   \n",
       "1            2    112.0           75.0      32.000000  158.536232  35.7   \n",
       "2            2    108.0           64.0      29.248663  158.536232  30.8   \n",
       "3            8    107.0           80.0      29.248663  158.536232  24.6   \n",
       "4            7    136.0           90.0      29.248663  158.536232  29.9   \n",
       "\n",
       "   DiabetesPedigreeFunction  Age  Outcome  \n",
       "0                     0.430   43        0  \n",
       "1                     0.148   21        0  \n",
       "2                     0.158   21        0  \n",
       "3                     0.856   34        0  \n",
       "4                     0.210   50        0  "
      ]
     },
     "execution_count": 13,
     "metadata": {},
     "output_type": "execute_result"
    }
   ],
   "source": [
    "train_df.head()"
   ]
  },
  {
   "cell_type": "markdown",
   "metadata": {
    "id": "nxr7kLgt5GpA"
   },
   "source": [
    "#### [BONUS++] Detect if there are any outliers in the dataset, if any, how will you deal with them ?"
   ]
  },
  {
   "cell_type": "code",
   "execution_count": 14,
   "metadata": {
    "id": "QKAjorKn5GpB"
   },
   "outputs": [],
   "source": [
    "def has_outliers(dataframe, variable):\n",
    "    q20, q80 = dataframe[variable].quantile([0.20, 0.80])\n",
    "    iqr = q80 - q20\n",
    "    low_limit= q20 - 1.5 * iqr\n",
    "    up_limit= q80 + 1.5 * iqr\n",
    "    if dataframe[(dataframe[variable] < low_limit) | (dataframe[variable] > up_limit)].any(axis=None):\n",
    "        print(variable, \"yes\")    "
   ]
  },
  {
   "cell_type": "code",
   "execution_count": 15,
   "metadata": {
    "id": "jRlpO77D5GpB"
   },
   "outputs": [],
   "source": [
    "def replace_with_thresholds(dataframe, numeric_columns):\n",
    "    for variable in numeric_columns:\n",
    "        q20, q80 = dataframe[variable].quantile([0.20, 0.80])\n",
    "        iqr = q80 - q20\n",
    "        low_limit= q20 - 1.5 * iqr\n",
    "        up_limit= q80 + 1.5 * iqr\n",
    "        dataframe.loc[(dataframe[variable] < low_limit), variable] = low_limit\n",
    "        dataframe.loc[(dataframe[variable] > up_limit), variable] = up_limit     "
   ]
  },
  {
   "cell_type": "code",
   "execution_count": 16,
   "metadata": {
    "colab": {
     "base_uri": "https://localhost:8080/"
    },
    "id": "C88nKk2w5GpB",
    "outputId": "86299ab5-3ba3-4522-cef9-533892fb3c15"
   },
   "outputs": [
    {
     "name": "stdout",
     "output_type": "stream",
     "text": [
      "BloodPressure yes\n",
      "SkinThickness yes\n",
      "Insulin yes\n",
      "BMI yes\n",
      "DiabetesPedigreeFunction yes\n"
     ]
    }
   ],
   "source": [
    "for col in train_df.columns:\n",
    "    has_outliers(train_df, col)"
   ]
  },
  {
   "cell_type": "code",
   "execution_count": 17,
   "metadata": {
    "id": "0xed5Vqi5GpB"
   },
   "outputs": [],
   "source": [
    "replace_with_thresholds(train_df, train_df.columns)"
   ]
  },
  {
   "cell_type": "code",
   "execution_count": 18,
   "metadata": {
    "colab": {
     "base_uri": "https://localhost:8080/",
     "height": 775
    },
    "id": "kaHFN0tG5GpC",
    "outputId": "e5115eb9-c7e4-4d03-d4a8-3efb640ffdfd"
   },
   "outputs": [
    {
     "data": {
      "text/plain": [
       "(array([0, 1, 2, 3, 4, 5, 6, 7, 8]),\n",
       " [Text(0, 0, 'Pregnancies'),\n",
       "  Text(1, 0, 'Glucose'),\n",
       "  Text(2, 0, 'BloodPressure'),\n",
       "  Text(3, 0, 'SkinThickness'),\n",
       "  Text(4, 0, 'Insulin'),\n",
       "  Text(5, 0, 'BMI'),\n",
       "  Text(6, 0, 'DiabetesPedigreeFunction'),\n",
       "  Text(7, 0, 'Age'),\n",
       "  Text(8, 0, 'Outcome')])"
      ]
     },
     "execution_count": 18,
     "metadata": {},
     "output_type": "execute_result"
    },
    {
     "data": {
      "image/png": "[encoded data removed]",
      "text/plain": [
       "<Figure size 640x480 with 1 Axes>"
      ]
     },
     "metadata": {},
     "output_type": "display_data"
    }
   ],
   "source": [
    "sns.boxplot(data=train_df)\n",
    "plt.xticks(rotation=90)"
   ]
  },
  {
   "cell_type": "markdown",
   "metadata": {
    "id": "tFnBri1l5GpC"
   },
   "source": [
    "#### Provide at least one drawing (histogram, pie chart, etc ..) that you see fit, about the dataset."
   ]
  },
  {
   "cell_type": "code",
   "execution_count": 19,
   "metadata": {
    "colab": {
     "base_uri": "https://localhost:8080/",
     "height": 472
    },
    "id": "JRW-zEM_CB1J",
    "outputId": "48cada9d-85ce-4c3b-b71a-3fdadca5560f"
   },
   "outputs": [
    {
     "data": {
      "image/png": "[encoded data removed]",
      "text/plain": [
       "<Figure size 640x480 with 1 Axes>"
      ]
     },
     "metadata": {},
     "output_type": "display_data"
    }
   ],
   "source": [
    "# Plot a box plot of the BMI variable\n",
    "plt.boxplot(train_df['BMI'], vert=False)\n",
    "plt.xlabel('BMI')\n",
    "plt.title('Distribution of BMI in the Diabetes Dataset')\n",
    "plt.show()"
   ]
  },
  {
   "cell_type": "markdown",
   "metadata": {
    "id": "KrgSvurrBPHS"
   },
   "source": []
  },
  {
   "cell_type": "markdown",
   "metadata": {
    "id": "ZK9VhB6hBPHT"
   },
   "source": [
    "# Plot a histogram of the Glucose variable\n"
   ]
  },
  {
   "cell_type": "code",
   "execution_count": 20,
   "metadata": {
    "colab": {
     "base_uri": "https://localhost:8080/",
     "height": 472
    },
    "id": "CAFZXQfp5GpD",
    "outputId": "69b3365a-378b-4fb4-eff4-11b82cce2bd0",
    "vscode": {
     "languageId": "plaintext"
    }
   },
   "outputs": [
    {
     "data": {
      "image/png": "[encoded data removed]",
      "text/plain": [
       "<Figure size 640x480 with 1 Axes>"
      ]
     },
     "metadata": {},
     "output_type": "display_data"
    }
   ],
   "source": [
    "# Plot a histogram of the Glucose variable\n",
    "plt.hist(train_df['Glucose'], bins=20)\n",
    "plt.xlabel('Glucose')\n",
    "plt.ylabel('Frequency')\n",
    "plt.title('Distribution of Glucose Levels in the Diabetes Dataset')\n",
    "plt.show()"
   ]
  },
  {
   "cell_type": "markdown",
   "metadata": {
    "id": "nlxJViv15GpD"
   },
   "source": [
    "#### Draw a pie chart for the outcome label."
   ]
  },
  {
   "cell_type": "code",
   "execution_count": 21,
   "metadata": {
    "colab": {
     "base_uri": "https://localhost:8080/",
     "height": 445
    },
    "id": "hf0fSjNI5GpD",
    "outputId": "5989a918-c2ee-480d-87ca-4f97541adb9a",
    "vscode": {
     "languageId": "plaintext"
    }
   },
   "outputs": [
    {
     "data": {
      "text/plain": [
       "Text(0.5, 1.0, 'outcome')"
      ]
     },
     "execution_count": 21,
     "metadata": {},
     "output_type": "execute_result"
    },
    {
     "data": {
      "image/png": "[encoded data removed]",
      "text/plain": [
       "<Figure size 640x480 with 1 Axes>"
      ]
     },
     "metadata": {},
     "output_type": "display_data"
    }
   ],
   "source": [
    "counts = train_df['Outcome'].value_counts()\n",
    "\n",
    "# Create a pie chart using matplotlib\n",
    "plt.pie(counts.values, labels=counts.index, autopct='%1.1f%%')\n",
    "\n",
    "# Add a title to the plot\n",
    "plt.title('outcome')"
   ]
  },
  {
   "cell_type": "markdown",
   "metadata": {
    "id": "x0NVQ0825GpD"
   },
   "source": [
    "#### Draw a histogram to see the distribution of ages."
   ]
  },
  {
   "cell_type": "code",
   "execution_count": 22,
   "metadata": {
    "colab": {
     "base_uri": "https://localhost:8080/",
     "height": 472
    },
    "id": "pc1-5K3J5GpD",
    "outputId": "28841473-c981-4130-f026-2644ef35aa3a",
    "vscode": {
     "languageId": "plaintext"
    }
   },
   "outputs": [
    {
     "data": {
      "image/png": "[encoded data removed]",
      "text/plain": [
       "<Figure size 640x480 with 1 Axes>"
      ]
     },
     "metadata": {},
     "output_type": "display_data"
    }
   ],
   "source": [
    "plt.hist(train_df['Age'], bins=10, color='lightblue')\n",
    "plt.xlabel('Age')\n",
    "plt.ylabel('Frequency')\n",
    "plt.title('Histogram of Ages')\n",
    "plt.show()"
   ]
  },
  {
   "cell_type": "markdown",
   "metadata": {
    "id": "8sO-Iqee5GpE"
   },
   "source": [
    "#### Use KBinsDiscretizer to convert age into 5 categories."
   ]
  },
  {
   "cell_type": "code",
   "execution_count": 23,
   "metadata": {
    "id": "0CJqLYtf5GpE",
    "vscode": {
     "languageId": "plaintext"
    }
   },
   "outputs": [],
   "source": [
    "kbins = KBinsDiscretizer(n_bins=5, encode='ordinal', strategy='uniform')\n",
    "\n",
    "age_bins_train = kbins.fit_transform(train_df['Age'].values.reshape(-1, 1))\n",
    "\n",
    "train_df['age_bins'] = age_bins_train"
   ]
  },
  {
   "cell_type": "code",
   "execution_count": 24,
   "metadata": {
    "colab": {
     "base_uri": "https://localhost:8080/",
     "height": 206
    },
    "id": "deeMMrwb5GpE",
    "outputId": "3144468f-4372-4be8-e1c2-7560688da4e2"
   },
   "outputs": [
    {
     "data": {
      "text/html": [
       "<div>\n",
       "<style scoped>\n",
       "    .dataframe tbody tr th:only-of-type {\n",
       "        vertical-align: middle;\n",
       "    }\n",
       "\n",
       "    .dataframe tbody tr th {\n",
       "        vertical-align: top;\n",
       "    }\n",
       "\n",
       "    .dataframe thead th {\n",
       "        text-align: right;\n",
       "    }\n",
       "</style>\n",
       "<table border=\"1\" class=\"dataframe\">\n",
       "  <thead>\n",
       "    <tr style=\"text-align: right;\">\n",
       "      <th></th>\n",
       "      <th>Pregnancies</th>\n",
       "      <th>Glucose</th>\n",
       "      <th>BloodPressure</th>\n",
       "      <th>SkinThickness</th>\n",
       "      <th>Insulin</th>\n",
       "      <th>BMI</th>\n",
       "      <th>DiabetesPedigreeFunction</th>\n",
       "      <th>Age</th>\n",
       "      <th>Outcome</th>\n",
       "      <th>age_bins</th>\n",
       "    </tr>\n",
       "  </thead>\n",
       "  <tbody>\n",
       "    <tr>\n",
       "      <th>0</th>\n",
       "      <td>6</td>\n",
       "      <td>98.0</td>\n",
       "      <td>58.0</td>\n",
       "      <td>33.000000</td>\n",
       "      <td>190.000000</td>\n",
       "      <td>34.0</td>\n",
       "      <td>0.430</td>\n",
       "      <td>43</td>\n",
       "      <td>0.0</td>\n",
       "      <td>2.0</td>\n",
       "    </tr>\n",
       "    <tr>\n",
       "      <th>1</th>\n",
       "      <td>2</td>\n",
       "      <td>112.0</td>\n",
       "      <td>75.0</td>\n",
       "      <td>32.000000</td>\n",
       "      <td>158.536232</td>\n",
       "      <td>35.7</td>\n",
       "      <td>0.148</td>\n",
       "      <td>21</td>\n",
       "      <td>0.0</td>\n",
       "      <td>0.0</td>\n",
       "    </tr>\n",
       "    <tr>\n",
       "      <th>2</th>\n",
       "      <td>2</td>\n",
       "      <td>108.0</td>\n",
       "      <td>64.0</td>\n",
       "      <td>29.248663</td>\n",
       "      <td>158.536232</td>\n",
       "      <td>30.8</td>\n",
       "      <td>0.158</td>\n",
       "      <td>21</td>\n",
       "      <td>0.0</td>\n",
       "      <td>0.0</td>\n",
       "    </tr>\n",
       "    <tr>\n",
       "      <th>3</th>\n",
       "      <td>8</td>\n",
       "      <td>107.0</td>\n",
       "      <td>80.0</td>\n",
       "      <td>29.248663</td>\n",
       "      <td>158.536232</td>\n",
       "      <td>24.6</td>\n",
       "      <td>0.856</td>\n",
       "      <td>34</td>\n",
       "      <td>0.0</td>\n",
       "      <td>1.0</td>\n",
       "    </tr>\n",
       "    <tr>\n",
       "      <th>4</th>\n",
       "      <td>7</td>\n",
       "      <td>136.0</td>\n",
       "      <td>90.0</td>\n",
       "      <td>29.248663</td>\n",
       "      <td>158.536232</td>\n",
       "      <td>29.9</td>\n",
       "      <td>0.210</td>\n",
       "      <td>50</td>\n",
       "      <td>0.0</td>\n",
       "      <td>2.0</td>\n",
       "    </tr>\n",
       "  </tbody>\n",
       "</table>\n",
       "</div>"
      ],
      "text/plain": [
       "   Pregnancies  Glucose  BloodPressure  SkinThickness     Insulin   BMI  \\\n",
       "0            6     98.0           58.0      33.000000  190.000000  34.0   \n",
       "1            2    112.0           75.0      32.000000  158.536232  35.7   \n",
       "2            2    108.0           64.0      29.248663  158.536232  30.8   \n",
       "3            8    107.0           80.0      29.248663  158.536232  24.6   \n",
       "4            7    136.0           90.0      29.248663  158.536232  29.9   \n",
       "\n",
       "   DiabetesPedigreeFunction  Age  Outcome  age_bins  \n",
       "0                     0.430   43      0.0       2.0  \n",
       "1                     0.148   21      0.0       0.0  \n",
       "2                     0.158   21      0.0       0.0  \n",
       "3                     0.856   34      0.0       1.0  \n",
       "4                     0.210   50      0.0       2.0  "
      ]
     },
     "execution_count": 24,
     "metadata": {},
     "output_type": "execute_result"
    }
   ],
   "source": [
    "train_df.head()"
   ]
  },
  {
   "cell_type": "markdown",
   "metadata": {
    "id": "1KcbY9Ik5GpE"
   },
   "source": [
    "#### Use Standard Scaler to scale the data."
   ]
  },
  {
   "cell_type": "code",
   "execution_count": 25,
   "metadata": {
    "colab": {
     "base_uri": "https://localhost:8080/"
    },
    "id": "at4PLZWl5GpU",
    "outputId": "bc449b02-c761-4610-ce6b-564e797d2f15"
   },
   "outputs": [
    {
     "name": "stdout",
     "output_type": "stream",
     "text": [
      "   Pregnancies   Glucose  BloodPressure  SkinThickness   Insulin       BMI  \\\n",
      "0     0.641921 -0.783165      -1.246737       0.475793  0.867413  0.198985   \n",
      "1    -0.541638 -0.325137       0.179960       0.354153  0.232924  0.448105   \n",
      "2    -0.541638 -0.456002      -0.743197       0.019481  0.232924 -0.269946   \n",
      "3     1.233701 -0.488718       0.599577       0.019481  0.232924 -1.178500   \n",
      "4     0.937811  0.460053       1.438810       0.019481  0.232924 -0.401833   \n",
      "\n",
      "   DiabetesPedigreeFunction       Age  Outcome  age_bins  \n",
      "0                 -0.113783  0.811249      0.0       2.0  \n",
      "1                 -1.043815 -1.055177      0.0       0.0  \n",
      "2                 -1.010835 -1.055177      0.0       0.0  \n",
      "3                  1.291157  0.047711      0.0       1.0  \n",
      "4                 -0.839340  1.405112      0.0       2.0  \n"
     ]
    }
   ],
   "source": [
    "scaler = StandardScaler()\n",
    "\n",
    "train_df_scaled = scaler.fit_transform(train_df.drop(['Outcome', 'age_bins'], axis=1))\n",
    "\n",
    "\n",
    "train_df_scaled =pd.concat([pd.DataFrame(train_df_scaled, columns=train_df.columns.drop(['Outcome', 'age_bins'])),train_df[['Outcome', 'age_bins']]], axis=1)\n",
    "\n",
    "print(train_df_scaled.head())"
   ]
  },
  {
   "cell_type": "markdown",
   "metadata": {
    "id": "QhRZmZZt5GpV"
   },
   "source": [
    "#### Split the training data frame into X and y "
   ]
  },
  {
   "cell_type": "code",
   "execution_count": 27,
   "metadata": {
    "id": "6gMMQNQT5GpV",
    "vscode": {
     "languageId": "plaintext"
    }
   },
   "outputs": [],
   "source": [
    "# Split X and y for training data\n",
    "X_train = train_df_scaled.drop('Outcome', axis=1)\n",
    "y_train = train_df_scaled['Outcome']"
   ]
  },
  {
   "cell_type": "code",
   "execution_count": 28,
   "metadata": {
    "colab": {
     "base_uri": "https://localhost:8080/",
     "height": 206
    },
    "id": "9rqUG0Ks5GpV",
    "outputId": "2417d541-80e9-47a6-ee21-26b897b30131"
   },
   "outputs": [
    {
     "data": {
      "text/html": [
       "<div>\n",
       "<style scoped>\n",
       "    .dataframe tbody tr th:only-of-type {\n",
       "        vertical-align: middle;\n",
       "    }\n",
       "\n",
       "    .dataframe tbody tr th {\n",
       "        vertical-align: top;\n",
       "    }\n",
       "\n",
       "    .dataframe thead th {\n",
       "        text-align: right;\n",
       "    }\n",
       "</style>\n",
       "<table border=\"1\" class=\"dataframe\">\n",
       "  <thead>\n",
       "    <tr style=\"text-align: right;\">\n",
       "      <th></th>\n",
       "      <th>Pregnancies</th>\n",
       "      <th>Glucose</th>\n",
       "      <th>BloodPressure</th>\n",
       "      <th>SkinThickness</th>\n",
       "      <th>Insulin</th>\n",
       "      <th>BMI</th>\n",
       "      <th>DiabetesPedigreeFunction</th>\n",
       "      <th>Age</th>\n",
       "      <th>age_bins</th>\n",
       "    </tr>\n",
       "  </thead>\n",
       "  <tbody>\n",
       "    <tr>\n",
       "      <th>0</th>\n",
       "      <td>0.641921</td>\n",
       "      <td>-0.783165</td>\n",
       "      <td>-1.246737</td>\n",
       "      <td>0.475793</td>\n",
       "      <td>0.867413</td>\n",
       "      <td>0.198985</td>\n",
       "      <td>-0.113783</td>\n",
       "      <td>0.811249</td>\n",
       "      <td>2.0</td>\n",
       "    </tr>\n",
       "    <tr>\n",
       "      <th>1</th>\n",
       "      <td>-0.541638</td>\n",
       "      <td>-0.325137</td>\n",
       "      <td>0.179960</td>\n",
       "      <td>0.354153</td>\n",
       "      <td>0.232924</td>\n",
       "      <td>0.448105</td>\n",
       "      <td>-1.043815</td>\n",
       "      <td>-1.055177</td>\n",
       "      <td>0.0</td>\n",
       "    </tr>\n",
       "    <tr>\n",
       "      <th>2</th>\n",
       "      <td>-0.541638</td>\n",
       "      <td>-0.456002</td>\n",
       "      <td>-0.743197</td>\n",
       "      <td>0.019481</td>\n",
       "      <td>0.232924</td>\n",
       "      <td>-0.269946</td>\n",
       "      <td>-1.010835</td>\n",
       "      <td>-1.055177</td>\n",
       "      <td>0.0</td>\n",
       "    </tr>\n",
       "    <tr>\n",
       "      <th>3</th>\n",
       "      <td>1.233701</td>\n",
       "      <td>-0.488718</td>\n",
       "      <td>0.599577</td>\n",
       "      <td>0.019481</td>\n",
       "      <td>0.232924</td>\n",
       "      <td>-1.178500</td>\n",
       "      <td>1.291157</td>\n",
       "      <td>0.047711</td>\n",
       "      <td>1.0</td>\n",
       "    </tr>\n",
       "    <tr>\n",
       "      <th>4</th>\n",
       "      <td>0.937811</td>\n",
       "      <td>0.460053</td>\n",
       "      <td>1.438810</td>\n",
       "      <td>0.019481</td>\n",
       "      <td>0.232924</td>\n",
       "      <td>-0.401833</td>\n",
       "      <td>-0.839340</td>\n",
       "      <td>1.405112</td>\n",
       "      <td>2.0</td>\n",
       "    </tr>\n",
       "  </tbody>\n",
       "</table>\n",
       "</div>"
      ],
      "text/plain": [
       "   Pregnancies   Glucose  BloodPressure  SkinThickness   Insulin       BMI  \\\n",
       "0     0.641921 -0.783165      -1.246737       0.475793  0.867413  0.198985   \n",
       "1    -0.541638 -0.325137       0.179960       0.354153  0.232924  0.448105   \n",
       "2    -0.541638 -0.456002      -0.743197       0.019481  0.232924 -0.269946   \n",
       "3     1.233701 -0.488718       0.599577       0.019481  0.232924 -1.178500   \n",
       "4     0.937811  0.460053       1.438810       0.019481  0.232924 -0.401833   \n",
       "\n",
       "   DiabetesPedigreeFunction       Age  age_bins  \n",
       "0                 -0.113783  0.811249       2.0  \n",
       "1                 -1.043815 -1.055177       0.0  \n",
       "2                 -1.010835 -1.055177       0.0  \n",
       "3                  1.291157  0.047711       1.0  \n",
       "4                 -0.839340  1.405112       2.0  "
      ]
     },
     "execution_count": 28,
     "metadata": {},
     "output_type": "execute_result"
    }
   ],
   "source": [
    "X_train.head()"
   ]
  },
  {
   "cell_type": "markdown",
   "metadata": {
    "id": "u2jmmcQ05GpV"
   },
   "source": [
    "#### Train an SVM Classifier, tune it's hyperparameters use GridsearchCV.    "
   ]
  },
  {
   "cell_type": "code",
   "execution_count": 29,
   "metadata": {
    "colab": {
     "base_uri": "https://localhost:8080/"
    },
    "id": "6e8WRr2a5GpW",
    "outputId": "f25e7f1b-9c02-43ad-8e25-9c38b64536a3",
    "vscode": {
     "languageId": "plaintext"
    }
   },
   "outputs": [
    {
     "name": "stdout",
     "output_type": "stream",
     "text": [
      "Best hyperparameters:  {'C': 1, 'gamma': 'scale', 'kernel': 'rbf'}\n",
      "Best score:  0.769055036344756\n"
     ]
    }
   ],
   "source": [
    "# create the SVM classifier object\n",
    "svm = SVC()\n",
    "\n",
    "# define the hyperparameters to tune and their possible values\n",
    "params = {'C': [0.1, 1, 10, 100],\n",
    "          'kernel': ['linear', 'poly', 'rbf', 'sigmoid'],\n",
    "          'gamma': ['scale', 'auto']}\n",
    "\n",
    "# create the GridSearchCV object with 5-fold cross-validation\n",
    "grid = GridSearchCV(svm, param_grid=params, cv=5)\n",
    "\n",
    "# fit the GridSearchCV object to the training data\n",
    "grid.fit(X_train, y_train)\n",
    "\n",
    "# print the best hyperparameters and their score\n",
    "print(\"Best hyperparameters: \", grid.best_params_)\n",
    "print(\"Best score: \", grid.best_score_)"
   ]
  },
  {
   "cell_type": "code",
   "execution_count": 30,
   "metadata": {
    "colab": {
     "base_uri": "https://localhost:8080/"
    },
    "id": "5MbyN9t55GpW",
    "outputId": "a7a4433d-9947-40d9-f29e-908e5ac86ea2"
   },
   "outputs": [
    {
     "data": {
      "text/plain": [
       "0.8286778398510242"
      ]
     },
     "execution_count": 30,
     "metadata": {},
     "output_type": "execute_result"
    }
   ],
   "source": [
    "grid.score(X_train, y_train)"
   ]
  },
  {
   "cell_type": "markdown",
   "metadata": {
    "id": "EZ7Xaf5_5GpW"
   },
   "source": [
    "#### Print the classification report for the best estimator.  "
   ]
  },
  {
   "cell_type": "code",
   "execution_count": 31,
   "metadata": {
    "colab": {
     "base_uri": "https://localhost:8080/"
    },
    "id": "-ALshLTq5GpW",
    "outputId": "64066b5e-ce0e-40b4-e247-8d425c79e594",
    "vscode": {
     "languageId": "plaintext"
    }
   },
   "outputs": [
    {
     "name": "stdout",
     "output_type": "stream",
     "text": [
      "              precision    recall  f1-score   support\n",
      "\n",
      "         0.0       0.83      0.92      0.87       348\n",
      "         1.0       0.82      0.66      0.73       189\n",
      "\n",
      "    accuracy                           0.83       537\n",
      "   macro avg       0.83      0.79      0.80       537\n",
      "weighted avg       0.83      0.83      0.82       537\n",
      "\n"
     ]
    }
   ],
   "source": [
    "# Get the best estimator from the GridSearchCV object\n",
    "best_estimator = grid.best_estimator_\n",
    "\n",
    "# Predict the target variable for the test data\n",
    "y_pred_train = best_estimator.predict(X_train)\n",
    "\n",
    "# Print the classification report for the best estimator\n",
    "print(classification_report(y_train, y_pred_train))"
   ]
  },
  {
   "cell_type": "markdown",
   "metadata": {
    "id": "hiAglt-I5GpX"
   },
   "source": [
    "#### Plot the confusion matrix.  "
   ]
  },
  {
   "cell_type": "code",
   "execution_count": 32,
   "metadata": {
    "colab": {
     "base_uri": "https://localhost:8080/",
     "height": 501
    },
    "id": "Y7G0ddT45GpX",
    "outputId": "6a885db9-531b-43ff-827b-a889b77188b2",
    "vscode": {
     "languageId": "plaintext"
    }
   },
   "outputs": [
    {
     "data": {
      "text/plain": [
       "<AxesSubplot:>"
      ]
     },
     "execution_count": 32,
     "metadata": {},
     "output_type": "execute_result"
    },
    {
     "data": {
      "image/png": "[encoded data removed]",
      "text/plain": [
       "<Figure size 640x480 with 2 Axes>"
      ]
     },
     "metadata": {},
     "output_type": "display_data"
    }
   ],
   "source": [
    "conf_mat = confusion_matrix(y_train, y_pred_train)\n",
    "\n",
    "sns.heatmap(conf_mat, annot=True, cmap='Blues', fmt='g')"
   ]
  },
  {
   "cell_type": "markdown",
   "metadata": {
    "id": "QaTO9QEg5GpX"
   },
   "source": [
    "#### [BONUS] Try other classifiers  \n",
    "try XGBoost, CatBoost, Light GBM, decision tree and plot the tree, try a library called Lazy Predict. Try some Auto ML Libraries like PyCaret.   "
   ]
  },
  {
   "cell_type": "code",
   "execution_count": 40,
   "metadata": {
    "colab": {
     "base_uri": "https://localhost:8080/"
    },
    "id": "Kc5gafqh5GpX",
    "outputId": "41738213-30cf-47b2-d539-5ec59287c370"
   },
   "outputs": [
    {
     "name": "stdout",
     "output_type": "stream",
     "text": [
      "Requirement already satisfied: catboost in c:\\users\\beboo\\anaconda3\\lib\\site-packages (1.2)\n",
      "Requirement already satisfied: numpy>=1.16.0 in c:\\users\\beboo\\anaconda3\\lib\\site-packages (from catboost) (1.21.5)\n",
      "Requirement already satisfied: plotly in c:\\users\\beboo\\anaconda3\\lib\\site-packages (from catboost) (5.9.0)\n",
      "Requirement already satisfied: matplotlib in c:\\users\\beboo\\anaconda3\\lib\\site-packages (from catboost) (3.5.2)\n",
      "Requirement already satisfied: graphviz in c:\\users\\beboo\\anaconda3\\lib\\site-packages (from catboost) (0.20.1)\n",
      "Requirement already satisfied: pandas>=0.24 in c:\\users\\beboo\\anaconda3\\lib\\site-packages (from catboost) (1.4.4)\n",
      "Requirement already satisfied: scipy in c:\\users\\beboo\\anaconda3\\lib\\site-packages (from catboost) (1.9.1)\n",
      "Requirement already satisfied: six in c:\\users\\beboo\\anaconda3\\lib\\site-packages (from catboost) (1.16.0)\n",
      "Requirement already satisfied: python-dateutil>=2.8.1 in c:\\users\\beboo\\anaconda3\\lib\\site-packages (from pandas>=0.24->catboost) (2.8.2)\n",
      "Requirement already satisfied: pytz>=2020.1 in c:\\users\\beboo\\anaconda3\\lib\\site-packages (from pandas>=0.24->catboost) (2022.1)\n",
      "Requirement already satisfied: kiwisolver>=1.0.1 in c:\\users\\beboo\\anaconda3\\lib\\site-packages (from matplotlib->catboost) (1.4.2)\n",
      "Requirement already satisfied: pyparsing>=2.2.1 in c:\\users\\beboo\\anaconda3\\lib\\site-packages (from matplotlib->catboost) (3.0.9)\n",
      "Requirement already satisfied: pillow>=6.2.0 in c:\\users\\beboo\\anaconda3\\lib\\site-packages (from matplotlib->catboost) (9.2.0)\n",
      "Requirement already satisfied: fonttools>=4.22.0 in c:\\users\\beboo\\anaconda3\\lib\\site-packages (from matplotlib->catboost) (4.25.0)\n",
      "Requirement already satisfied: cycler>=0.10 in c:\\users\\beboo\\anaconda3\\lib\\site-packages (from matplotlib->catboost) (0.11.0)\n",
      "Requirement already satisfied: packaging>=20.0 in c:\\users\\beboo\\anaconda3\\lib\\site-packages (from matplotlib->catboost) (21.3)\n",
      "Requirement already satisfied: tenacity>=6.2.0 in c:\\users\\beboo\\anaconda3\\lib\\site-packages (from plotly->catboost) (8.0.1)\n"
     ]
    }
   ],
   "source": [
    "!pip install catboost"
   ]
  },
  {
   "cell_type": "code",
   "execution_count": 35,
   "metadata": {
    "colab": {
     "base_uri": "https://localhost:8080/"
    },
    "id": "ST2Spwpn5GpY",
    "outputId": "ee95e7ac-088f-46f3-83fc-d77edf382f81"
   },
   "outputs": [
    {
     "name": "stdout",
     "output_type": "stream",
     "text": [
      "Collecting lightgbm\n",
      "  Downloading lightgbm-3.3.5-py3-none-win_amd64.whl (1.0 MB)\n",
      "     ---------------------------------------- 1.0/1.0 MB 2.2 MB/s eta 0:00:00\n",
      "Requirement already satisfied: wheel in c:\\users\\beboo\\anaconda3\\lib\\site-packages (from lightgbm) (0.37.1)\n",
      "Requirement already satisfied: scikit-learn!=0.22.0 in c:\\users\\beboo\\anaconda3\\lib\\site-packages (from lightgbm) (1.0.2)\n",
      "Requirement already satisfied: numpy in c:\\users\\beboo\\anaconda3\\lib\\site-packages (from lightgbm) (1.21.5)\n",
      "Requirement already satisfied: scipy in c:\\users\\beboo\\anaconda3\\lib\\site-packages (from lightgbm) (1.9.1)\n",
      "Requirement already satisfied: joblib>=0.11 in c:\\users\\beboo\\anaconda3\\lib\\site-packages (from scikit-learn!=0.22.0->lightgbm) (1.2.0)\n",
      "Requirement already satisfied: threadpoolctl>=2.0.0 in c:\\users\\beboo\\anaconda3\\lib\\site-packages (from scikit-learn!=0.22.0->lightgbm) (2.2.0)\n",
      "Installing collected packages: lightgbm\n",
      "Successfully installed lightgbm-3.3.5\n"
     ]
    }
   ],
   "source": [
    "!pip install lightgbm"
   ]
  },
  {
   "cell_type": "code",
   "execution_count": 36,
   "metadata": {
    "colab": {
     "base_uri": "https://localhost:8080/"
    },
    "id": "aTtFj5-p7gAi",
    "outputId": "8d3e852c-e28c-48ac-ce5a-122c852af1b3"
   },
   "outputs": [
    {
     "name": "stdout",
     "output_type": "stream",
     "text": [
      "Collecting lazypredict\n",
      "  Downloading lazypredict-0.2.12-py2.py3-none-any.whl (12 kB)\n",
      "Collecting xgboost\n",
      "  Using cached xgboost-1.7.5-py3-none-win_amd64.whl (70.9 MB)\n",
      "Requirement already satisfied: scikit-learn in c:\\users\\beboo\\anaconda3\\lib\\site-packages (from lazypredict) (1.0.2)\n",
      "Requirement already satisfied: click in c:\\users\\beboo\\anaconda3\\lib\\site-packages (from lazypredict) (8.0.4)\n",
      "Requirement already satisfied: pandas in c:\\users\\beboo\\anaconda3\\lib\\site-packages (from lazypredict) (1.4.4)\n",
      "Requirement already satisfied: joblib in c:\\users\\beboo\\anaconda3\\lib\\site-packages (from lazypredict) (1.2.0)\n",
      "Requirement already satisfied: lightgbm in c:\\users\\beboo\\anaconda3\\lib\\site-packages (from lazypredict) (3.3.5)\n",
      "Requirement already satisfied: tqdm in c:\\users\\beboo\\anaconda3\\lib\\site-packages (from lazypredict) (4.64.1)\n",
      "Requirement already satisfied: colorama in c:\\users\\beboo\\anaconda3\\lib\\site-packages (from click->lazypredict) (0.4.5)\n",
      "Requirement already satisfied: scipy in c:\\users\\beboo\\anaconda3\\lib\\site-packages (from lightgbm->lazypredict) (1.9.1)\n",
      "Requirement already satisfied: wheel in c:\\users\\beboo\\anaconda3\\lib\\site-packages (from lightgbm->lazypredict) (0.37.1)\n",
      "Requirement already satisfied: numpy in c:\\users\\beboo\\anaconda3\\lib\\site-packages (from lightgbm->lazypredict) (1.21.5)\n",
      "Requirement already satisfied: threadpoolctl>=2.0.0 in c:\\users\\beboo\\anaconda3\\lib\\site-packages (from scikit-learn->lazypredict) (2.2.0)\n",
      "Requirement already satisfied: pytz>=2020.1 in c:\\users\\beboo\\anaconda3\\lib\\site-packages (from pandas->lazypredict) (2022.1)\n",
      "Requirement already satisfied: python-dateutil>=2.8.1 in c:\\users\\beboo\\anaconda3\\lib\\site-packages (from pandas->lazypredict) (2.8.2)\n",
      "Requirement already satisfied: six>=1.5 in c:\\users\\beboo\\anaconda3\\lib\\site-packages (from python-dateutil>=2.8.1->pandas->lazypredict) (1.16.0)\n",
      "Installing collected packages: xgboost, lazypredict\n",
      "Successfully installed lazypredict-0.2.12 xgboost-1.7.5\n"
     ]
    }
   ],
   "source": [
    "!pip install lazypredict"
   ]
  },
  {
   "cell_type": "code",
   "execution_count": 37,
   "metadata": {
    "colab": {
     "base_uri": "https://localhost:8080/"
    },
    "id": "nBzYbVUn7nej",
    "outputId": "dde448d2-b22b-4c12-e22e-e0cee47d0e92"
   },
   "outputs": [
    {
     "name": "stdout",
     "output_type": "stream",
     "text": [
      "Collecting pycaret\n",
      "  Downloading pycaret-3.0.1-py3-none-any.whl (483 kB)\n",
      "     -------------------------------------- 483.5/483.5 kB 2.2 MB/s eta 0:00:00\n",
      "Collecting schemdraw==0.15\n",
      "  Downloading schemdraw-0.15-py3-none-any.whl (106 kB)\n",
      "     -------------------------------------- 106.8/106.8 kB 3.1 MB/s eta 0:00:00\n",
      "Collecting importlib-metadata>=4.12.0\n",
      "  Downloading importlib_metadata-6.6.0-py3-none-any.whl (22 kB)\n",
      "Requirement already satisfied: cloudpickle in c:\\users\\beboo\\anaconda3\\lib\\site-packages (from pycaret) (2.0.0)\n",
      "Collecting pyod>=1.0.8\n",
      "  Downloading pyod-1.0.9.tar.gz (149 kB)\n",
      "     -------------------------------------- 150.0/150.0 kB 3.0 MB/s eta 0:00:00\n",
      "  Preparing metadata (setup.py): started\n",
      "  Preparing metadata (setup.py): finished with status 'done'\n",
      "Requirement already satisfied: pandas<2.0.0,>=1.3.0 in c:\\users\\beboo\\anaconda3\\lib\\site-packages (from pycaret) (1.4.4)\n",
      "Requirement already satisfied: psutil>=5.9.0 in c:\\users\\beboo\\anaconda3\\lib\\site-packages (from pycaret) (5.9.0)\n",
      "Requirement already satisfied: lightgbm>=3.0.0 in c:\\users\\beboo\\anaconda3\\lib\\site-packages (from pycaret) (3.3.5)\n",
      "Collecting kaleido>=0.2.1\n",
      "  Downloading kaleido-0.2.1-py2.py3-none-win_amd64.whl (65.9 MB)\n",
      "     ---------------------------------------- 65.9/65.9 MB 3.0 MB/s eta 0:00:00\n",
      "Requirement already satisfied: scipy<2.0.0 in c:\\users\\beboo\\anaconda3\\lib\\site-packages (from pycaret) (1.9.1)\n",
      "Requirement already satisfied: markupsafe>=2.0.1 in c:\\users\\beboo\\anaconda3\\lib\\site-packages (from pycaret) (2.0.1)\n",
      "Requirement already satisfied: matplotlib>=3.3.0 in c:\\users\\beboo\\anaconda3\\lib\\site-packages (from pycaret) (3.5.2)\n",
      "Requirement already satisfied: ipython>=5.5.0 in c:\\users\\beboo\\anaconda3\\lib\\site-packages (from pycaret) (7.31.1)\n",
      "Requirement already satisfied: scikit-learn>=1.0 in c:\\users\\beboo\\anaconda3\\lib\\site-packages (from pycaret) (1.0.2)\n",
      "Collecting yellowbrick>=1.4\n",
      "  Downloading yellowbrick-1.5-py3-none-any.whl (282 kB)\n",
      "     -------------------------------------- 282.6/282.6 kB 3.5 MB/s eta 0:00:00\n",
      "Collecting deprecation>=2.1.0\n",
      "  Downloading deprecation-2.1.0-py2.py3-none-any.whl (11 kB)\n",
      "Requirement already satisfied: joblib>=1.2.0 in c:\\users\\beboo\\anaconda3\\lib\\site-packages (from pycaret) (1.2.0)\n",
      "Collecting xxhash\n",
      "  Downloading xxhash-3.2.0-cp39-cp39-win_amd64.whl (30 kB)\n",
      "Collecting pmdarima!=1.8.1,<3.0.0,>=1.8.0\n",
      "  Downloading pmdarima-2.0.3-cp39-cp39-win_amd64.whl (572 kB)\n",
      "     -------------------------------------- 572.7/572.7 kB 3.3 MB/s eta 0:00:00\n",
      "Requirement already satisfied: jinja2>=1.2 in c:\\users\\beboo\\anaconda3\\lib\\site-packages (from pycaret) (2.11.3)\n",
      "Requirement already satisfied: ipywidgets>=7.6.5 in c:\\users\\beboo\\anaconda3\\lib\\site-packages (from pycaret) (7.6.5)\n",
      "Collecting sktime!=0.17.1,<0.17.2,>=0.16.1\n",
      "  Downloading sktime-0.17.0-py3-none-any.whl (16.1 MB)\n",
      "     ---------------------------------------- 16.1/16.1 MB 3.5 MB/s eta 0:00:00\n",
      "Collecting tbats>=1.1.3\n",
      "  Downloading tbats-1.1.3-py3-none-any.whl (44 kB)\n",
      "     ---------------------------------------- 44.0/44.0 kB 2.3 MB/s eta 0:00:00\n",
      "Requirement already satisfied: tqdm>=4.62.0 in c:\\users\\beboo\\anaconda3\\lib\\site-packages (from pycaret) (4.64.1)\n",
      "Requirement already satisfied: statsmodels>=0.12.1 in c:\\users\\beboo\\anaconda3\\lib\\site-packages (from pycaret) (0.13.2)\n",
      "Requirement already satisfied: nbformat>=4.2.0 in c:\\users\\beboo\\anaconda3\\lib\\site-packages (from pycaret) (5.5.0)\n",
      "Collecting scikit-plot>=0.3.7\n",
      "  Downloading scikit_plot-0.3.7-py3-none-any.whl (33 kB)\n",
      "Requirement already satisfied: imbalanced-learn>=0.8.1 in c:\\users\\beboo\\anaconda3\\lib\\site-packages (from pycaret) (0.10.1)\n",
      "Requirement already satisfied: numpy<1.24,>=1.21 in c:\\users\\beboo\\anaconda3\\lib\\site-packages (from pycaret) (1.21.5)\n",
      "Collecting category-encoders>=2.4.0\n",
      "  Downloading category_encoders-2.6.0-py2.py3-none-any.whl (81 kB)\n",
      "     ---------------------------------------- 81.2/81.2 kB 4.4 MB/s eta 0:00:00\n",
      "Collecting plotly-resampler>=0.8.3.1\n",
      "  Downloading plotly_resampler-0.8.3.2.tar.gz (46 kB)\n",
      "     ---------------------------------------- 46.4/46.4 kB 2.3 MB/s eta 0:00:00\n",
      "  Installing build dependencies: started\n",
      "  Installing build dependencies: finished with status 'done'\n",
      "  Getting requirements to build wheel: started\n",
      "  Getting requirements to build wheel: finished with status 'done'\n",
      "  Preparing metadata (pyproject.toml): started\n",
      "  Preparing metadata (pyproject.toml): finished with status 'done'\n",
      "Requirement already satisfied: plotly>=5.0.0 in c:\\users\\beboo\\anaconda3\\lib\\site-packages (from pycaret) (5.9.0)\n",
      "Requirement already satisfied: requests>=2.27.1 in c:\\users\\beboo\\anaconda3\\lib\\site-packages (from pycaret) (2.28.1)\n",
      "Requirement already satisfied: numba>=0.55.0 in c:\\users\\beboo\\anaconda3\\lib\\site-packages (from pycaret) (0.55.1)\n",
      "Requirement already satisfied: patsy>=0.5.1 in c:\\users\\beboo\\anaconda3\\lib\\site-packages (from category-encoders>=2.4.0->pycaret) (0.5.2)\n",
      "Requirement already satisfied: packaging in c:\\users\\beboo\\anaconda3\\lib\\site-packages (from deprecation>=2.1.0->pycaret) (21.3)\n",
      "Requirement already satisfied: threadpoolctl>=2.0.0 in c:\\users\\beboo\\anaconda3\\lib\\site-packages (from imbalanced-learn>=0.8.1->pycaret) (2.2.0)\n",
      "Requirement already satisfied: zipp>=0.5 in c:\\users\\beboo\\anaconda3\\lib\\site-packages (from importlib-metadata>=4.12.0->pycaret) (3.8.0)\n",
      "Requirement already satisfied: traitlets>=4.2 in c:\\users\\beboo\\anaconda3\\lib\\site-packages (from ipython>=5.5.0->pycaret) (5.1.1)\n",
      "Requirement already satisfied: setuptools>=18.5 in c:\\users\\beboo\\anaconda3\\lib\\site-packages (from ipython>=5.5.0->pycaret) (63.4.1)\n",
      "Requirement already satisfied: pickleshare in c:\\users\\beboo\\anaconda3\\lib\\site-packages (from ipython>=5.5.0->pycaret) (0.7.5)\n",
      "Requirement already satisfied: colorama in c:\\users\\beboo\\anaconda3\\lib\\site-packages (from ipython>=5.5.0->pycaret) (0.4.5)\n",
      "Requirement already satisfied: jedi>=0.16 in c:\\users\\beboo\\anaconda3\\lib\\site-packages (from ipython>=5.5.0->pycaret) (0.18.1)\n",
      "Requirement already satisfied: matplotlib-inline in c:\\users\\beboo\\anaconda3\\lib\\site-packages (from ipython>=5.5.0->pycaret) (0.1.6)\n",
      "Requirement already satisfied: pygments in c:\\users\\beboo\\anaconda3\\lib\\site-packages (from ipython>=5.5.0->pycaret) (2.11.2)\n",
      "Requirement already satisfied: decorator in c:\\users\\beboo\\anaconda3\\lib\\site-packages (from ipython>=5.5.0->pycaret) (5.1.1)\n",
      "Requirement already satisfied: prompt-toolkit!=3.0.0,!=3.0.1,<3.1.0,>=2.0.0 in c:\\users\\beboo\\anaconda3\\lib\\site-packages (from ipython>=5.5.0->pycaret) (3.0.20)\n",
      "Requirement already satisfied: backcall in c:\\users\\beboo\\anaconda3\\lib\\site-packages (from ipython>=5.5.0->pycaret) (0.2.0)\n",
      "Requirement already satisfied: ipython-genutils~=0.2.0 in c:\\users\\beboo\\anaconda3\\lib\\site-packages (from ipywidgets>=7.6.5->pycaret) (0.2.0)\n",
      "Requirement already satisfied: widgetsnbextension~=3.5.0 in c:\\users\\beboo\\anaconda3\\lib\\site-packages (from ipywidgets>=7.6.5->pycaret) (3.5.2)\n",
      "Requirement already satisfied: ipykernel>=4.5.1 in c:\\users\\beboo\\anaconda3\\lib\\site-packages (from ipywidgets>=7.6.5->pycaret) (6.15.2)\n",
      "Requirement already satisfied: jupyterlab-widgets>=1.0.0 in c:\\users\\beboo\\anaconda3\\lib\\site-packages (from ipywidgets>=7.6.5->pycaret) (1.0.0)\n",
      "Requirement already satisfied: wheel in c:\\users\\beboo\\anaconda3\\lib\\site-packages (from lightgbm>=3.0.0->pycaret) (0.37.1)\n",
      "Requirement already satisfied: kiwisolver>=1.0.1 in c:\\users\\beboo\\anaconda3\\lib\\site-packages (from matplotlib>=3.3.0->pycaret) (1.4.2)\n",
      "Requirement already satisfied: pyparsing>=2.2.1 in c:\\users\\beboo\\anaconda3\\lib\\site-packages (from matplotlib>=3.3.0->pycaret) (3.0.9)\n",
      "Requirement already satisfied: pillow>=6.2.0 in c:\\users\\beboo\\anaconda3\\lib\\site-packages (from matplotlib>=3.3.0->pycaret) (9.2.0)\n",
      "Requirement already satisfied: fonttools>=4.22.0 in c:\\users\\beboo\\anaconda3\\lib\\site-packages (from matplotlib>=3.3.0->pycaret) (4.25.0)\n",
      "Requirement already satisfied: cycler>=0.10 in c:\\users\\beboo\\anaconda3\\lib\\site-packages (from matplotlib>=3.3.0->pycaret) (0.11.0)\n",
      "Requirement already satisfied: python-dateutil>=2.7 in c:\\users\\beboo\\anaconda3\\lib\\site-packages (from matplotlib>=3.3.0->pycaret) (2.8.2)\n",
      "Requirement already satisfied: fastjsonschema in c:\\users\\beboo\\anaconda3\\lib\\site-packages (from nbformat>=4.2.0->pycaret) (2.16.2)\n",
      "Requirement already satisfied: jsonschema>=2.6 in c:\\users\\beboo\\anaconda3\\lib\\site-packages (from nbformat>=4.2.0->pycaret) (4.16.0)\n",
      "Requirement already satisfied: jupyter_core in c:\\users\\beboo\\anaconda3\\lib\\site-packages (from nbformat>=4.2.0->pycaret) (4.11.1)\n",
      "Requirement already satisfied: llvmlite<0.39,>=0.38.0rc1 in c:\\users\\beboo\\anaconda3\\lib\\site-packages (from numba>=0.55.0->pycaret) (0.38.0)\n",
      "Requirement already satisfied: pytz>=2020.1 in c:\\users\\beboo\\anaconda3\\lib\\site-packages (from pandas<2.0.0,>=1.3.0->pycaret) (2022.1)\n",
      "Requirement already satisfied: tenacity>=6.2.0 in c:\\users\\beboo\\anaconda3\\lib\\site-packages (from plotly>=5.0.0->pycaret) (8.0.1)\n",
      "Collecting dash<3.0.0,>=2.2.0\n",
      "  Downloading dash-2.9.3-py3-none-any.whl (10.2 MB)\n",
      "     ---------------------------------------- 10.2/10.2 MB 3.5 MB/s eta 0:00:00\n",
      "Collecting trace-updater>=0.0.8\n",
      "  Downloading trace_updater-0.0.9.1-py3-none-any.whl (185 kB)\n",
      "     -------------------------------------- 185.2/185.2 kB 3.7 MB/s eta 0:00:00\n",
      "Collecting orjson<4.0.0,>=3.8.0\n",
      "  Downloading orjson-3.8.12-cp39-none-win_amd64.whl (195 kB)\n",
      "     -------------------------------------- 195.0/195.0 kB 3.0 MB/s eta 0:00:00\n",
      "Collecting jupyter-dash>=0.4.2\n",
      "  Downloading jupyter_dash-0.4.2-py3-none-any.whl (23 kB)\n",
      "Requirement already satisfied: Cython!=0.29.18,!=0.29.31,>=0.29 in c:\\users\\beboo\\anaconda3\\lib\\site-packages (from pmdarima!=1.8.1,<3.0.0,>=1.8.0->pycaret) (0.29.32)\n",
      "Requirement already satisfied: urllib3 in c:\\users\\beboo\\anaconda3\\lib\\site-packages (from pmdarima!=1.8.1,<3.0.0,>=1.8.0->pycaret) (1.26.11)\n",
      "Requirement already satisfied: six in c:\\users\\beboo\\anaconda3\\lib\\site-packages (from pyod>=1.0.8->pycaret) (1.16.0)\n",
      "Requirement already satisfied: idna<4,>=2.5 in c:\\users\\beboo\\anaconda3\\lib\\site-packages (from requests>=2.27.1->pycaret) (3.3)\n",
      "Requirement already satisfied: certifi>=2017.4.17 in c:\\users\\beboo\\anaconda3\\lib\\site-packages (from requests>=2.27.1->pycaret) (2022.9.14)\n",
      "Requirement already satisfied: charset-normalizer<3,>=2 in c:\\users\\beboo\\anaconda3\\lib\\site-packages (from requests>=2.27.1->pycaret) (2.0.4)\n",
      "Collecting deprecated>=1.2.13\n",
      "  Downloading Deprecated-1.2.13-py2.py3-none-any.whl (9.6 kB)\n",
      "Collecting dash-html-components==2.0.0\n",
      "  Downloading dash_html_components-2.0.0-py3-none-any.whl (4.1 kB)\n",
      "Collecting dash-core-components==2.0.0\n",
      "  Downloading dash_core_components-2.0.0-py3-none-any.whl (3.8 kB)\n",
      "Requirement already satisfied: Flask>=1.0.4 in c:\\users\\beboo\\anaconda3\\lib\\site-packages (from dash<3.0.0,>=2.2.0->plotly-resampler>=0.8.3.1->pycaret) (1.1.2)\n",
      "Collecting dash-table==5.0.0\n",
      "  Downloading dash_table-5.0.0-py3-none-any.whl (3.9 kB)\n",
      "Requirement already satisfied: wrapt<2,>=1.10 in c:\\users\\beboo\\anaconda3\\lib\\site-packages (from deprecated>=1.2.13->sktime!=0.17.1,<0.17.2,>=0.16.1->pycaret) (1.14.1)\n",
      "Requirement already satisfied: jupyter-client>=6.1.12 in c:\\users\\beboo\\anaconda3\\lib\\site-packages (from ipykernel>=4.5.1->ipywidgets>=7.6.5->pycaret) (7.3.4)\n",
      "Requirement already satisfied: debugpy>=1.0 in c:\\users\\beboo\\anaconda3\\lib\\site-packages (from ipykernel>=4.5.1->ipywidgets>=7.6.5->pycaret) (1.5.1)\n",
      "Requirement already satisfied: tornado>=6.1 in c:\\users\\beboo\\anaconda3\\lib\\site-packages (from ipykernel>=4.5.1->ipywidgets>=7.6.5->pycaret) (6.1)\n",
      "Requirement already satisfied: pyzmq>=17 in c:\\users\\beboo\\anaconda3\\lib\\site-packages (from ipykernel>=4.5.1->ipywidgets>=7.6.5->pycaret) (23.2.0)\n",
      "Requirement already satisfied: nest-asyncio in c:\\users\\beboo\\anaconda3\\lib\\site-packages (from ipykernel>=4.5.1->ipywidgets>=7.6.5->pycaret) (1.5.5)\n",
      "Requirement already satisfied: parso<0.9.0,>=0.8.0 in c:\\users\\beboo\\anaconda3\\lib\\site-packages (from jedi>=0.16->ipython>=5.5.0->pycaret) (0.8.3)\n",
      "Requirement already satisfied: pyrsistent!=0.17.0,!=0.17.1,!=0.17.2,>=0.14.0 in c:\\users\\beboo\\anaconda3\\lib\\site-packages (from jsonschema>=2.6->nbformat>=4.2.0->pycaret) (0.18.0)\n",
      "Requirement already satisfied: attrs>=17.4.0 in c:\\users\\beboo\\anaconda3\\lib\\site-packages (from jsonschema>=2.6->nbformat>=4.2.0->pycaret) (21.4.0)\n",
      "Collecting ansi2html\n",
      "  Downloading ansi2html-1.8.0-py3-none-any.whl (16 kB)\n",
      "Collecting retrying\n",
      "  Downloading retrying-1.3.4-py3-none-any.whl (11 kB)\n",
      "Requirement already satisfied: wcwidth in c:\\users\\beboo\\anaconda3\\lib\\site-packages (from prompt-toolkit!=3.0.0,!=3.0.1,<3.1.0,>=2.0.0->ipython>=5.5.0->pycaret) (0.2.5)\n",
      "Requirement already satisfied: notebook>=4.4.1 in c:\\users\\beboo\\anaconda3\\lib\\site-packages (from widgetsnbextension~=3.5.0->ipywidgets>=7.6.5->pycaret) (6.4.12)\n",
      "Requirement already satisfied: pywin32>=1.0 in c:\\users\\beboo\\anaconda3\\lib\\site-packages (from jupyter_core->nbformat>=4.2.0->pycaret) (302)\n",
      "Requirement already satisfied: click>=5.1 in c:\\users\\beboo\\anaconda3\\lib\\site-packages (from Flask>=1.0.4->dash<3.0.0,>=2.2.0->plotly-resampler>=0.8.3.1->pycaret) (8.0.4)\n",
      "Requirement already satisfied: itsdangerous>=0.24 in c:\\users\\beboo\\anaconda3\\lib\\site-packages (from Flask>=1.0.4->dash<3.0.0,>=2.2.0->plotly-resampler>=0.8.3.1->pycaret) (2.0.1)\n",
      "Requirement already satisfied: Werkzeug>=0.15 in c:\\users\\beboo\\anaconda3\\lib\\site-packages (from Flask>=1.0.4->dash<3.0.0,>=2.2.0->plotly-resampler>=0.8.3.1->pycaret) (2.0.3)\n",
      "Requirement already satisfied: entrypoints in c:\\users\\beboo\\anaconda3\\lib\\site-packages (from jupyter-client>=6.1.12->ipykernel>=4.5.1->ipywidgets>=7.6.5->pycaret) (0.4)\n",
      "Requirement already satisfied: argon2-cffi in c:\\users\\beboo\\anaconda3\\lib\\site-packages (from notebook>=4.4.1->widgetsnbextension~=3.5.0->ipywidgets>=7.6.5->pycaret) (21.3.0)\n",
      "Requirement already satisfied: terminado>=0.8.3 in c:\\users\\beboo\\anaconda3\\lib\\site-packages (from notebook>=4.4.1->widgetsnbextension~=3.5.0->ipywidgets>=7.6.5->pycaret) (0.13.1)\n",
      "Requirement already satisfied: prometheus-client in c:\\users\\beboo\\anaconda3\\lib\\site-packages (from notebook>=4.4.1->widgetsnbextension~=3.5.0->ipywidgets>=7.6.5->pycaret) (0.14.1)\n",
      "Requirement already satisfied: nbconvert>=5 in c:\\users\\beboo\\anaconda3\\lib\\site-packages (from notebook>=4.4.1->widgetsnbextension~=3.5.0->ipywidgets>=7.6.5->pycaret) (6.4.4)\n",
      "Requirement already satisfied: Send2Trash>=1.8.0 in c:\\users\\beboo\\anaconda3\\lib\\site-packages (from notebook>=4.4.1->widgetsnbextension~=3.5.0->ipywidgets>=7.6.5->pycaret) (1.8.0)\n",
      "Requirement already satisfied: defusedxml in c:\\users\\beboo\\anaconda3\\lib\\site-packages (from nbconvert>=5->notebook>=4.4.1->widgetsnbextension~=3.5.0->ipywidgets>=7.6.5->pycaret) (0.7.1)\n",
      "Requirement already satisfied: mistune<2,>=0.8.1 in c:\\users\\beboo\\anaconda3\\lib\\site-packages (from nbconvert>=5->notebook>=4.4.1->widgetsnbextension~=3.5.0->ipywidgets>=7.6.5->pycaret) (0.8.4)\n",
      "Requirement already satisfied: nbclient<0.6.0,>=0.5.0 in c:\\users\\beboo\\anaconda3\\lib\\site-packages (from nbconvert>=5->notebook>=4.4.1->widgetsnbextension~=3.5.0->ipywidgets>=7.6.5->pycaret) (0.5.13)\n",
      "Requirement already satisfied: jupyterlab-pygments in c:\\users\\beboo\\anaconda3\\lib\\site-packages (from nbconvert>=5->notebook>=4.4.1->widgetsnbextension~=3.5.0->ipywidgets>=7.6.5->pycaret) (0.1.2)\n",
      "Requirement already satisfied: bleach in c:\\users\\beboo\\anaconda3\\lib\\site-packages (from nbconvert>=5->notebook>=4.4.1->widgetsnbextension~=3.5.0->ipywidgets>=7.6.5->pycaret) (4.1.0)\n",
      "Requirement already satisfied: pandocfilters>=1.4.1 in c:\\users\\beboo\\anaconda3\\lib\\site-packages (from nbconvert>=5->notebook>=4.4.1->widgetsnbextension~=3.5.0->ipywidgets>=7.6.5->pycaret) (1.5.0)\n",
      "Requirement already satisfied: testpath in c:\\users\\beboo\\anaconda3\\lib\\site-packages (from nbconvert>=5->notebook>=4.4.1->widgetsnbextension~=3.5.0->ipywidgets>=7.6.5->pycaret) (0.6.0)\n",
      "Requirement already satisfied: beautifulsoup4 in c:\\users\\beboo\\anaconda3\\lib\\site-packages (from nbconvert>=5->notebook>=4.4.1->widgetsnbextension~=3.5.0->ipywidgets>=7.6.5->pycaret) (4.11.1)\n",
      "Requirement already satisfied: pywinpty>=1.1.0 in c:\\users\\beboo\\anaconda3\\lib\\site-packages (from terminado>=0.8.3->notebook>=4.4.1->widgetsnbextension~=3.5.0->ipywidgets>=7.6.5->pycaret) (2.0.2)\n",
      "Requirement already satisfied: argon2-cffi-bindings in c:\\users\\beboo\\anaconda3\\lib\\site-packages (from argon2-cffi->notebook>=4.4.1->widgetsnbextension~=3.5.0->ipywidgets>=7.6.5->pycaret) (21.2.0)\n",
      "Requirement already satisfied: cffi>=1.0.1 in c:\\users\\beboo\\anaconda3\\lib\\site-packages (from argon2-cffi-bindings->argon2-cffi->notebook>=4.4.1->widgetsnbextension~=3.5.0->ipywidgets>=7.6.5->pycaret) (1.15.1)\n",
      "Requirement already satisfied: soupsieve>1.2 in c:\\users\\beboo\\anaconda3\\lib\\site-packages (from beautifulsoup4->nbconvert>=5->notebook>=4.4.1->widgetsnbextension~=3.5.0->ipywidgets>=7.6.5->pycaret) (2.3.1)\n",
      "Requirement already satisfied: webencodings in c:\\users\\beboo\\anaconda3\\lib\\site-packages (from bleach->nbconvert>=5->notebook>=4.4.1->widgetsnbextension~=3.5.0->ipywidgets>=7.6.5->pycaret) (0.5.1)\n",
      "Requirement already satisfied: pycparser in c:\\users\\beboo\\anaconda3\\lib\\site-packages (from cffi>=1.0.1->argon2-cffi-bindings->argon2-cffi->notebook>=4.4.1->widgetsnbextension~=3.5.0->ipywidgets>=7.6.5->pycaret) (2.21)\n",
      "Building wheels for collected packages: plotly-resampler, pyod\n",
      "  Building wheel for plotly-resampler (pyproject.toml): started\n",
      "  Building wheel for plotly-resampler (pyproject.toml): finished with status 'done'\n",
      "  Created wheel for plotly-resampler: filename=plotly_resampler-0.8.3.2-cp39-cp39-win_amd64.whl size=56753 sha256=3d0e7bea0573c16364231f566dd7fe3a0fc61f9b2bac26ad3fdd9178a0e7b040\n",
      "  Stored in directory: c:\\users\\beboo\\appdata\\local\\pip\\cache\\wheels\\9e\\36\\06\\4c11e300918011376af149098621ec7ebe06d8256566d43d51\n",
      "  Building wheel for pyod (setup.py): started\n",
      "  Building wheel for pyod (setup.py): finished with status 'done'\n",
      "  Created wheel for pyod: filename=pyod-1.0.9-py3-none-any.whl size=184095 sha256=14e7c0e76f3c8e210da8856f8db6a897a69eaf5b9ceab0cdea03fc985cfa1d74\n",
      "  Stored in directory: c:\\users\\beboo\\appdata\\local\\pip\\cache\\wheels\\1b\\9c\\b8\\9759d7cc64a1e01bb9872ade80cb7db445ccf506e083325106\n",
      "Successfully built plotly-resampler pyod\n",
      "Installing collected packages: trace-updater, kaleido, dash-table, dash-html-components, dash-core-components, xxhash, schemdraw, retrying, orjson, importlib-metadata, deprecated, ansi2html, deprecation, yellowbrick, sktime, scikit-plot, pyod, dash, pmdarima, jupyter-dash, category-encoders, tbats, plotly-resampler, pycaret\n",
      "  Attempting uninstall: importlib-metadata\n",
      "    Found existing installation: importlib-metadata 4.11.3\n",
      "    Uninstalling importlib-metadata-4.11.3:\n",
      "      Successfully uninstalled importlib-metadata-4.11.3\n",
      "Successfully installed ansi2html-1.8.0 category-encoders-2.6.0 dash-2.9.3 dash-core-components-2.0.0 dash-html-components-2.0.0 dash-table-5.0.0 deprecated-1.2.13 deprecation-2.1.0 importlib-metadata-6.6.0 jupyter-dash-0.4.2 kaleido-0.2.1 orjson-3.8.12 plotly-resampler-0.8.3.2 pmdarima-2.0.3 pycaret-3.0.1 pyod-1.0.9 retrying-1.3.4 schemdraw-0.15 scikit-plot-0.3.7 sktime-0.17.0 tbats-1.1.3 trace-updater-0.0.9.1 xxhash-3.2.0 yellowbrick-1.5\n"
     ]
    }
   ],
   "source": [
    "!pip install pycaret"
   ]
  },
  {
   "cell_type": "code",
   "execution_count": 31,
   "metadata": {},
   "outputs": [
    {
     "data": {
      "image/png": "[encoded data removed]",
      "text/plain": [
       "<Figure size 1000x800 with 1 Axes>"
      ]
     },
     "metadata": {},
     "output_type": "display_data"
    },
    {
     "data": {
      "text/plain": [
       "0.776536312849162"
      ]
     },
     "execution_count": 31,
     "metadata": {},
     "output_type": "execute_result"
    }
   ],
   "source": [
    "from sklearn.tree import DecisionTreeClassifier\n",
    "from sklearn.tree import plot_tree\n",
    "dt_clf = DecisionTreeClassifier(max_depth=3)\n",
    "\n",
    "dt_clf.fit(X_train, y_train)\n",
    "\n",
    "plt.figure(figsize=(10,8))\n",
    "plot_tree(dt_clf, feature_names=X_train.columns, class_names=['0', '1'], filled=True)\n",
    "plt.show()\n",
    "dt_clf.score(X_train, y_train)"
   ]
  },
  {
   "cell_type": "code",
   "execution_count": 33,
   "metadata": {},
   "outputs": [
    {
     "name": "stdout",
     "output_type": "stream",
     "text": [
      "Accuracy on train data: 1.0\n"
     ]
    }
   ],
   "source": [
    "from xgboost import XGBClassifier\n",
    "# Train an XGBClassifier on the training set\n",
    "xbg_clf = XGBClassifier()\n",
    "xbg_clf.fit(X_train, y_train)\n",
    "\n",
    "# Get the accuracy on the training set\n",
    "train_acc = xbg_clf.score(X_train, y_train)\n",
    "print(\"Accuracy on train data:\", train_acc)"
   ]
  },
  {
   "cell_type": "code",
   "execution_count": 34,
   "metadata": {},
   "outputs": [
    {
     "name": "stdout",
     "output_type": "stream",
     "text": [
      "Learning rate set to 0.0079\n",
      "0:\tlearn: 0.6886680\ttotal: 154ms\tremaining: 2m 33s\n",
      "1:\tlearn: 0.6841566\ttotal: 159ms\tremaining: 1m 19s\n",
      "2:\tlearn: 0.6806224\ttotal: 163ms\tremaining: 54.1s\n",
      "3:\tlearn: 0.6765299\ttotal: 166ms\tremaining: 41.3s\n",
      "4:\tlearn: 0.6719189\ttotal: 169ms\tremaining: 33.6s\n",
      "5:\tlearn: 0.6683681\ttotal: 172ms\tremaining: 28.5s\n",
      "6:\tlearn: 0.6647632\ttotal: 175ms\tremaining: 24.8s\n",
      "7:\tlearn: 0.6607647\ttotal: 177ms\tremaining: 22s\n",
      "8:\tlearn: 0.6573884\ttotal: 179ms\tremaining: 19.7s\n",
      "9:\tlearn: 0.6534028\ttotal: 181ms\tremaining: 18s\n",
      "10:\tlearn: 0.6502556\ttotal: 183ms\tremaining: 16.5s\n",
      "11:\tlearn: 0.6469930\ttotal: 185ms\tremaining: 15.3s\n",
      "12:\tlearn: 0.6432120\ttotal: 187ms\tremaining: 14.2s\n",
      "13:\tlearn: 0.6393528\ttotal: 189ms\tremaining: 13.3s\n",
      "14:\tlearn: 0.6359311\ttotal: 191ms\tremaining: 12.5s\n",
      "15:\tlearn: 0.6322626\ttotal: 193ms\tremaining: 11.9s\n",
      "16:\tlearn: 0.6289513\ttotal: 195ms\tremaining: 11.3s\n",
      "17:\tlearn: 0.6262529\ttotal: 197ms\tremaining: 10.7s\n",
      "18:\tlearn: 0.6228774\ttotal: 199ms\tremaining: 10.2s\n",
      "19:\tlearn: 0.6197724\ttotal: 200ms\tremaining: 9.82s\n",
      "20:\tlearn: 0.6164161\ttotal: 203ms\tremaining: 9.46s\n",
      "21:\tlearn: 0.6130964\ttotal: 205ms\tremaining: 9.12s\n",
      "22:\tlearn: 0.6104513\ttotal: 207ms\tremaining: 8.8s\n",
      "23:\tlearn: 0.6077068\ttotal: 209ms\tremaining: 8.51s\n",
      "24:\tlearn: 0.6054521\ttotal: 211ms\tremaining: 8.24s\n",
      "25:\tlearn: 0.6029296\ttotal: 213ms\tremaining: 7.99s\n",
      "26:\tlearn: 0.5998770\ttotal: 215ms\tremaining: 7.76s\n",
      "27:\tlearn: 0.5974888\ttotal: 217ms\tremaining: 7.55s\n",
      "28:\tlearn: 0.5950395\ttotal: 219ms\tremaining: 7.35s\n",
      "29:\tlearn: 0.5924664\ttotal: 221ms\tremaining: 7.16s\n",
      "30:\tlearn: 0.5897217\ttotal: 223ms\tremaining: 6.98s\n",
      "31:\tlearn: 0.5871252\ttotal: 225ms\tremaining: 6.81s\n",
      "32:\tlearn: 0.5841123\ttotal: 227ms\tremaining: 6.65s\n",
      "33:\tlearn: 0.5817536\ttotal: 229ms\tremaining: 6.51s\n",
      "34:\tlearn: 0.5792039\ttotal: 231ms\tremaining: 6.37s\n",
      "35:\tlearn: 0.5762473\ttotal: 233ms\tremaining: 6.24s\n",
      "36:\tlearn: 0.5733226\ttotal: 235ms\tremaining: 6.12s\n",
      "37:\tlearn: 0.5707392\ttotal: 237ms\tremaining: 6s\n",
      "38:\tlearn: 0.5676362\ttotal: 239ms\tremaining: 5.88s\n",
      "39:\tlearn: 0.5655755\ttotal: 241ms\tremaining: 5.78s\n",
      "40:\tlearn: 0.5637231\ttotal: 243ms\tremaining: 5.67s\n",
      "41:\tlearn: 0.5611552\ttotal: 245ms\tremaining: 5.58s\n",
      "42:\tlearn: 0.5586274\ttotal: 246ms\tremaining: 5.48s\n",
      "43:\tlearn: 0.5565153\ttotal: 248ms\tremaining: 5.39s\n",
      "44:\tlearn: 0.5543008\ttotal: 250ms\tremaining: 5.31s\n",
      "45:\tlearn: 0.5523712\ttotal: 252ms\tremaining: 5.23s\n",
      "46:\tlearn: 0.5506184\ttotal: 254ms\tremaining: 5.15s\n",
      "47:\tlearn: 0.5482902\ttotal: 256ms\tremaining: 5.08s\n",
      "48:\tlearn: 0.5464224\ttotal: 258ms\tremaining: 5s\n",
      "49:\tlearn: 0.5445470\ttotal: 260ms\tremaining: 4.93s\n",
      "50:\tlearn: 0.5430504\ttotal: 262ms\tremaining: 4.87s\n",
      "51:\tlearn: 0.5417329\ttotal: 263ms\tremaining: 4.8s\n",
      "52:\tlearn: 0.5393009\ttotal: 265ms\tremaining: 4.74s\n",
      "53:\tlearn: 0.5374191\ttotal: 267ms\tremaining: 4.68s\n",
      "54:\tlearn: 0.5355269\ttotal: 269ms\tremaining: 4.62s\n",
      "55:\tlearn: 0.5338709\ttotal: 271ms\tremaining: 4.57s\n",
      "56:\tlearn: 0.5321033\ttotal: 273ms\tremaining: 4.51s\n",
      "57:\tlearn: 0.5305724\ttotal: 275ms\tremaining: 4.46s\n",
      "58:\tlearn: 0.5289604\ttotal: 276ms\tremaining: 4.4s\n",
      "59:\tlearn: 0.5273531\ttotal: 278ms\tremaining: 4.36s\n",
      "60:\tlearn: 0.5259914\ttotal: 280ms\tremaining: 4.31s\n",
      "61:\tlearn: 0.5243065\ttotal: 282ms\tremaining: 4.27s\n",
      "62:\tlearn: 0.5223429\ttotal: 284ms\tremaining: 4.23s\n",
      "63:\tlearn: 0.5208761\ttotal: 286ms\tremaining: 4.18s\n",
      "64:\tlearn: 0.5195145\ttotal: 288ms\tremaining: 4.14s\n",
      "65:\tlearn: 0.5175511\ttotal: 290ms\tremaining: 4.1s\n",
      "66:\tlearn: 0.5160028\ttotal: 292ms\tremaining: 4.06s\n",
      "67:\tlearn: 0.5142444\ttotal: 294ms\tremaining: 4.03s\n",
      "68:\tlearn: 0.5130808\ttotal: 296ms\tremaining: 3.99s\n",
      "69:\tlearn: 0.5113793\ttotal: 298ms\tremaining: 3.96s\n",
      "70:\tlearn: 0.5096768\ttotal: 300ms\tremaining: 3.92s\n",
      "71:\tlearn: 0.5084306\ttotal: 302ms\tremaining: 3.89s\n",
      "72:\tlearn: 0.5070363\ttotal: 303ms\tremaining: 3.85s\n",
      "73:\tlearn: 0.5052429\ttotal: 305ms\tremaining: 3.82s\n",
      "74:\tlearn: 0.5040620\ttotal: 307ms\tremaining: 3.79s\n",
      "75:\tlearn: 0.5023719\ttotal: 309ms\tremaining: 3.76s\n",
      "76:\tlearn: 0.5009062\ttotal: 311ms\tremaining: 3.73s\n",
      "77:\tlearn: 0.4993021\ttotal: 313ms\tremaining: 3.7s\n",
      "78:\tlearn: 0.4980747\ttotal: 315ms\tremaining: 3.67s\n",
      "79:\tlearn: 0.4966395\ttotal: 317ms\tremaining: 3.64s\n",
      "80:\tlearn: 0.4954065\ttotal: 319ms\tremaining: 3.61s\n",
      "81:\tlearn: 0.4940102\ttotal: 321ms\tremaining: 3.59s\n",
      "82:\tlearn: 0.4922827\ttotal: 322ms\tremaining: 3.56s\n",
      "83:\tlearn: 0.4908429\ttotal: 324ms\tremaining: 3.54s\n",
      "84:\tlearn: 0.4892740\ttotal: 326ms\tremaining: 3.51s\n",
      "85:\tlearn: 0.4875927\ttotal: 328ms\tremaining: 3.49s\n",
      "86:\tlearn: 0.4864641\ttotal: 330ms\tremaining: 3.46s\n",
      "87:\tlearn: 0.4852605\ttotal: 332ms\tremaining: 3.44s\n",
      "88:\tlearn: 0.4837351\ttotal: 334ms\tremaining: 3.42s\n",
      "89:\tlearn: 0.4826206\ttotal: 336ms\tremaining: 3.39s\n",
      "90:\tlearn: 0.4814765\ttotal: 338ms\tremaining: 3.37s\n",
      "91:\tlearn: 0.4802195\ttotal: 340ms\tremaining: 3.35s\n",
      "92:\tlearn: 0.4784145\ttotal: 342ms\tremaining: 3.33s\n",
      "93:\tlearn: 0.4773304\ttotal: 344ms\tremaining: 3.31s\n",
      "94:\tlearn: 0.4761672\ttotal: 346ms\tremaining: 3.29s\n",
      "95:\tlearn: 0.4754411\ttotal: 347ms\tremaining: 3.27s\n",
      "96:\tlearn: 0.4745682\ttotal: 349ms\tremaining: 3.25s\n",
      "97:\tlearn: 0.4736617\ttotal: 351ms\tremaining: 3.23s\n",
      "98:\tlearn: 0.4723070\ttotal: 353ms\tremaining: 3.21s\n",
      "99:\tlearn: 0.4711932\ttotal: 355ms\tremaining: 3.2s\n",
      "100:\tlearn: 0.4701405\ttotal: 357ms\tremaining: 3.18s\n",
      "101:\tlearn: 0.4687513\ttotal: 359ms\tremaining: 3.16s\n",
      "102:\tlearn: 0.4677330\ttotal: 361ms\tremaining: 3.15s\n",
      "103:\tlearn: 0.4667009\ttotal: 363ms\tremaining: 3.13s\n",
      "104:\tlearn: 0.4657906\ttotal: 365ms\tremaining: 3.12s\n",
      "105:\tlearn: 0.4643432\ttotal: 368ms\tremaining: 3.1s\n",
      "106:\tlearn: 0.4629412\ttotal: 370ms\tremaining: 3.09s\n",
      "107:\tlearn: 0.4615019\ttotal: 374ms\tremaining: 3.09s\n",
      "108:\tlearn: 0.4607364\ttotal: 378ms\tremaining: 3.09s\n",
      "109:\tlearn: 0.4597068\ttotal: 380ms\tremaining: 3.08s\n",
      "110:\tlearn: 0.4586903\ttotal: 383ms\tremaining: 3.06s\n",
      "111:\tlearn: 0.4577474\ttotal: 385ms\tremaining: 3.05s\n",
      "112:\tlearn: 0.4567295\ttotal: 387ms\tremaining: 3.04s\n",
      "113:\tlearn: 0.4557242\ttotal: 389ms\tremaining: 3.02s\n",
      "114:\tlearn: 0.4547149\ttotal: 391ms\tremaining: 3.01s\n",
      "115:\tlearn: 0.4537924\ttotal: 393ms\tremaining: 2.99s\n",
      "116:\tlearn: 0.4527745\ttotal: 395ms\tremaining: 2.98s\n",
      "117:\tlearn: 0.4516580\ttotal: 397ms\tremaining: 2.96s\n",
      "118:\tlearn: 0.4509877\ttotal: 399ms\tremaining: 2.95s\n",
      "119:\tlearn: 0.4499885\ttotal: 401ms\tremaining: 2.94s\n",
      "120:\tlearn: 0.4487143\ttotal: 403ms\tremaining: 2.93s\n",
      "121:\tlearn: 0.4476789\ttotal: 405ms\tremaining: 2.92s\n",
      "122:\tlearn: 0.4465598\ttotal: 407ms\tremaining: 2.9s\n",
      "123:\tlearn: 0.4457324\ttotal: 409ms\tremaining: 2.89s\n",
      "124:\tlearn: 0.4451243\ttotal: 411ms\tremaining: 2.88s\n",
      "125:\tlearn: 0.4443776\ttotal: 413ms\tremaining: 2.87s\n",
      "126:\tlearn: 0.4435264\ttotal: 415ms\tremaining: 2.85s\n",
      "127:\tlearn: 0.4426695\ttotal: 417ms\tremaining: 2.84s\n",
      "128:\tlearn: 0.4415571\ttotal: 419ms\tremaining: 2.83s\n",
      "129:\tlearn: 0.4409013\ttotal: 421ms\tremaining: 2.82s\n",
      "130:\tlearn: 0.4400238\ttotal: 423ms\tremaining: 2.81s\n",
      "131:\tlearn: 0.4392737\ttotal: 425ms\tremaining: 2.8s\n",
      "132:\tlearn: 0.4386615\ttotal: 427ms\tremaining: 2.78s\n",
      "133:\tlearn: 0.4377085\ttotal: 429ms\tremaining: 2.77s\n",
      "134:\tlearn: 0.4368927\ttotal: 431ms\tremaining: 2.76s\n",
      "135:\tlearn: 0.4358827\ttotal: 433ms\tremaining: 2.75s\n",
      "136:\tlearn: 0.4350290\ttotal: 436ms\tremaining: 2.74s\n",
      "137:\tlearn: 0.4341147\ttotal: 438ms\tremaining: 2.73s\n",
      "138:\tlearn: 0.4330480\ttotal: 440ms\tremaining: 2.72s\n",
      "139:\tlearn: 0.4323670\ttotal: 441ms\tremaining: 2.71s\n",
      "140:\tlearn: 0.4314138\ttotal: 443ms\tremaining: 2.7s\n",
      "141:\tlearn: 0.4303474\ttotal: 445ms\tremaining: 2.69s\n",
      "142:\tlearn: 0.4298073\ttotal: 447ms\tremaining: 2.68s\n",
      "143:\tlearn: 0.4291040\ttotal: 449ms\tremaining: 2.67s\n",
      "144:\tlearn: 0.4284095\ttotal: 451ms\tremaining: 2.66s\n",
      "145:\tlearn: 0.4274782\ttotal: 453ms\tremaining: 2.65s\n",
      "146:\tlearn: 0.4269303\ttotal: 455ms\tremaining: 2.64s\n",
      "147:\tlearn: 0.4257353\ttotal: 457ms\tremaining: 2.63s\n",
      "148:\tlearn: 0.4251840\ttotal: 459ms\tremaining: 2.62s\n",
      "149:\tlearn: 0.4244451\ttotal: 461ms\tremaining: 2.61s\n",
      "150:\tlearn: 0.4238415\ttotal: 463ms\tremaining: 2.6s\n",
      "151:\tlearn: 0.4232038\ttotal: 465ms\tremaining: 2.59s\n",
      "152:\tlearn: 0.4226566\ttotal: 467ms\tremaining: 2.58s\n",
      "153:\tlearn: 0.4219595\ttotal: 468ms\tremaining: 2.57s\n",
      "154:\tlearn: 0.4210608\ttotal: 470ms\tremaining: 2.56s\n",
      "155:\tlearn: 0.4203555\ttotal: 472ms\tremaining: 2.56s\n",
      "156:\tlearn: 0.4195381\ttotal: 474ms\tremaining: 2.55s\n",
      "157:\tlearn: 0.4190179\ttotal: 476ms\tremaining: 2.54s\n",
      "158:\tlearn: 0.4183444\ttotal: 478ms\tremaining: 2.53s\n",
      "159:\tlearn: 0.4175189\ttotal: 480ms\tremaining: 2.52s\n",
      "160:\tlearn: 0.4169105\ttotal: 482ms\tremaining: 2.51s\n",
      "161:\tlearn: 0.4160163\ttotal: 484ms\tremaining: 2.5s\n",
      "162:\tlearn: 0.4152521\ttotal: 486ms\tremaining: 2.5s\n",
      "163:\tlearn: 0.4146457\ttotal: 488ms\tremaining: 2.49s\n",
      "164:\tlearn: 0.4137602\ttotal: 490ms\tremaining: 2.48s\n",
      "165:\tlearn: 0.4132935\ttotal: 492ms\tremaining: 2.47s\n",
      "166:\tlearn: 0.4126585\ttotal: 494ms\tremaining: 2.46s\n",
      "167:\tlearn: 0.4120532\ttotal: 496ms\tremaining: 2.46s\n",
      "168:\tlearn: 0.4114925\ttotal: 498ms\tremaining: 2.45s\n",
      "169:\tlearn: 0.4110361\ttotal: 500ms\tremaining: 2.44s\n",
      "170:\tlearn: 0.4101948\ttotal: 502ms\tremaining: 2.43s\n",
      "171:\tlearn: 0.4096992\ttotal: 503ms\tremaining: 2.42s\n",
      "172:\tlearn: 0.4090173\ttotal: 505ms\tremaining: 2.42s\n",
      "173:\tlearn: 0.4084640\ttotal: 507ms\tremaining: 2.41s\n",
      "174:\tlearn: 0.4079400\ttotal: 509ms\tremaining: 2.4s\n",
      "175:\tlearn: 0.4072366\ttotal: 511ms\tremaining: 2.39s\n",
      "176:\tlearn: 0.4065624\ttotal: 513ms\tremaining: 2.38s\n",
      "177:\tlearn: 0.4058799\ttotal: 515ms\tremaining: 2.38s\n",
      "178:\tlearn: 0.4051442\ttotal: 517ms\tremaining: 2.37s\n",
      "179:\tlearn: 0.4045303\ttotal: 519ms\tremaining: 2.36s\n",
      "180:\tlearn: 0.4039955\ttotal: 521ms\tremaining: 2.36s\n",
      "181:\tlearn: 0.4033508\ttotal: 523ms\tremaining: 2.35s\n",
      "182:\tlearn: 0.4026514\ttotal: 525ms\tremaining: 2.34s\n",
      "183:\tlearn: 0.4020984\ttotal: 527ms\tremaining: 2.33s\n",
      "184:\tlearn: 0.4013426\ttotal: 529ms\tremaining: 2.33s\n",
      "185:\tlearn: 0.4006818\ttotal: 530ms\tremaining: 2.32s\n",
      "186:\tlearn: 0.4000488\ttotal: 532ms\tremaining: 2.31s\n",
      "187:\tlearn: 0.3996645\ttotal: 534ms\tremaining: 2.31s\n",
      "188:\tlearn: 0.3992371\ttotal: 536ms\tremaining: 2.3s\n",
      "189:\tlearn: 0.3986098\ttotal: 538ms\tremaining: 2.29s\n",
      "190:\tlearn: 0.3981619\ttotal: 540ms\tremaining: 2.29s\n",
      "191:\tlearn: 0.3975684\ttotal: 542ms\tremaining: 2.28s\n"
     ]
    },
    {
     "name": "stdout",
     "output_type": "stream",
     "text": [
      "192:\tlearn: 0.3970077\ttotal: 545ms\tremaining: 2.28s\n",
      "193:\tlearn: 0.3965623\ttotal: 547ms\tremaining: 2.27s\n",
      "194:\tlearn: 0.3960319\ttotal: 549ms\tremaining: 2.27s\n",
      "195:\tlearn: 0.3954511\ttotal: 551ms\tremaining: 2.26s\n",
      "196:\tlearn: 0.3949401\ttotal: 553ms\tremaining: 2.25s\n",
      "197:\tlearn: 0.3943848\ttotal: 555ms\tremaining: 2.25s\n",
      "198:\tlearn: 0.3935574\ttotal: 557ms\tremaining: 2.24s\n",
      "199:\tlearn: 0.3930548\ttotal: 559ms\tremaining: 2.23s\n",
      "200:\tlearn: 0.3925130\ttotal: 561ms\tremaining: 2.23s\n",
      "201:\tlearn: 0.3918817\ttotal: 563ms\tremaining: 2.22s\n",
      "202:\tlearn: 0.3914760\ttotal: 565ms\tremaining: 2.22s\n",
      "203:\tlearn: 0.3909455\ttotal: 567ms\tremaining: 2.21s\n",
      "204:\tlearn: 0.3905657\ttotal: 569ms\tremaining: 2.21s\n",
      "205:\tlearn: 0.3901492\ttotal: 571ms\tremaining: 2.2s\n",
      "206:\tlearn: 0.3896425\ttotal: 573ms\tremaining: 2.19s\n",
      "207:\tlearn: 0.3890909\ttotal: 574ms\tremaining: 2.19s\n",
      "208:\tlearn: 0.3886334\ttotal: 576ms\tremaining: 2.18s\n",
      "209:\tlearn: 0.3879142\ttotal: 578ms\tremaining: 2.17s\n",
      "210:\tlearn: 0.3874289\ttotal: 580ms\tremaining: 2.17s\n",
      "211:\tlearn: 0.3870279\ttotal: 582ms\tremaining: 2.16s\n",
      "212:\tlearn: 0.3865825\ttotal: 584ms\tremaining: 2.16s\n",
      "213:\tlearn: 0.3861399\ttotal: 586ms\tremaining: 2.15s\n",
      "214:\tlearn: 0.3855175\ttotal: 588ms\tremaining: 2.15s\n",
      "215:\tlearn: 0.3849596\ttotal: 590ms\tremaining: 2.14s\n",
      "216:\tlearn: 0.3844602\ttotal: 592ms\tremaining: 2.13s\n",
      "217:\tlearn: 0.3841444\ttotal: 593ms\tremaining: 2.13s\n",
      "218:\tlearn: 0.3835924\ttotal: 595ms\tremaining: 2.12s\n",
      "219:\tlearn: 0.3831378\ttotal: 597ms\tremaining: 2.12s\n",
      "220:\tlearn: 0.3829280\ttotal: 599ms\tremaining: 2.11s\n",
      "221:\tlearn: 0.3823315\ttotal: 601ms\tremaining: 2.11s\n",
      "222:\tlearn: 0.3817623\ttotal: 603ms\tremaining: 2.1s\n",
      "223:\tlearn: 0.3813689\ttotal: 605ms\tremaining: 2.09s\n",
      "224:\tlearn: 0.3808216\ttotal: 607ms\tremaining: 2.09s\n",
      "225:\tlearn: 0.3804943\ttotal: 609ms\tremaining: 2.08s\n",
      "226:\tlearn: 0.3801588\ttotal: 611ms\tremaining: 2.08s\n",
      "227:\tlearn: 0.3797831\ttotal: 613ms\tremaining: 2.08s\n",
      "228:\tlearn: 0.3794233\ttotal: 615ms\tremaining: 2.07s\n",
      "229:\tlearn: 0.3790340\ttotal: 617ms\tremaining: 2.06s\n",
      "230:\tlearn: 0.3787001\ttotal: 619ms\tremaining: 2.06s\n",
      "231:\tlearn: 0.3785480\ttotal: 621ms\tremaining: 2.06s\n",
      "232:\tlearn: 0.3782280\ttotal: 623ms\tremaining: 2.05s\n",
      "233:\tlearn: 0.3779244\ttotal: 625ms\tremaining: 2.05s\n",
      "234:\tlearn: 0.3774593\ttotal: 627ms\tremaining: 2.04s\n",
      "235:\tlearn: 0.3770000\ttotal: 630ms\tremaining: 2.04s\n",
      "236:\tlearn: 0.3765510\ttotal: 632ms\tremaining: 2.03s\n",
      "237:\tlearn: 0.3759586\ttotal: 634ms\tremaining: 2.03s\n",
      "238:\tlearn: 0.3755306\ttotal: 636ms\tremaining: 2.02s\n",
      "239:\tlearn: 0.3750723\ttotal: 638ms\tremaining: 2.02s\n",
      "240:\tlearn: 0.3746867\ttotal: 640ms\tremaining: 2.01s\n",
      "241:\tlearn: 0.3742843\ttotal: 641ms\tremaining: 2.01s\n",
      "242:\tlearn: 0.3739697\ttotal: 644ms\tremaining: 2s\n",
      "243:\tlearn: 0.3734400\ttotal: 645ms\tremaining: 2s\n",
      "244:\tlearn: 0.3732251\ttotal: 647ms\tremaining: 1.99s\n",
      "245:\tlearn: 0.3729155\ttotal: 649ms\tremaining: 1.99s\n",
      "246:\tlearn: 0.3725755\ttotal: 651ms\tremaining: 1.99s\n",
      "247:\tlearn: 0.3721338\ttotal: 653ms\tremaining: 1.98s\n",
      "248:\tlearn: 0.3716127\ttotal: 655ms\tremaining: 1.98s\n",
      "249:\tlearn: 0.3711382\ttotal: 657ms\tremaining: 1.97s\n",
      "250:\tlearn: 0.3706920\ttotal: 659ms\tremaining: 1.97s\n",
      "251:\tlearn: 0.3701914\ttotal: 661ms\tremaining: 1.96s\n",
      "252:\tlearn: 0.3698243\ttotal: 663ms\tremaining: 1.96s\n",
      "253:\tlearn: 0.3693334\ttotal: 665ms\tremaining: 1.95s\n",
      "254:\tlearn: 0.3690842\ttotal: 667ms\tremaining: 1.95s\n",
      "255:\tlearn: 0.3686869\ttotal: 669ms\tremaining: 1.94s\n",
      "256:\tlearn: 0.3682590\ttotal: 671ms\tremaining: 1.94s\n",
      "257:\tlearn: 0.3678749\ttotal: 673ms\tremaining: 1.93s\n",
      "258:\tlearn: 0.3671637\ttotal: 675ms\tremaining: 1.93s\n",
      "259:\tlearn: 0.3668930\ttotal: 677ms\tremaining: 1.93s\n",
      "260:\tlearn: 0.3665025\ttotal: 678ms\tremaining: 1.92s\n",
      "261:\tlearn: 0.3662029\ttotal: 680ms\tremaining: 1.92s\n",
      "262:\tlearn: 0.3658841\ttotal: 682ms\tremaining: 1.91s\n",
      "263:\tlearn: 0.3654529\ttotal: 684ms\tremaining: 1.91s\n",
      "264:\tlearn: 0.3650676\ttotal: 686ms\tremaining: 1.9s\n",
      "265:\tlearn: 0.3648816\ttotal: 688ms\tremaining: 1.9s\n",
      "266:\tlearn: 0.3646105\ttotal: 690ms\tremaining: 1.89s\n",
      "267:\tlearn: 0.3644065\ttotal: 692ms\tremaining: 1.89s\n",
      "268:\tlearn: 0.3641453\ttotal: 694ms\tremaining: 1.89s\n",
      "269:\tlearn: 0.3636671\ttotal: 696ms\tremaining: 1.88s\n",
      "270:\tlearn: 0.3632771\ttotal: 698ms\tremaining: 1.88s\n",
      "271:\tlearn: 0.3628347\ttotal: 700ms\tremaining: 1.87s\n",
      "272:\tlearn: 0.3624720\ttotal: 702ms\tremaining: 1.87s\n",
      "273:\tlearn: 0.3620059\ttotal: 704ms\tremaining: 1.86s\n",
      "274:\tlearn: 0.3615632\ttotal: 706ms\tremaining: 1.86s\n",
      "275:\tlearn: 0.3611058\ttotal: 707ms\tremaining: 1.85s\n",
      "276:\tlearn: 0.3607190\ttotal: 710ms\tremaining: 1.85s\n",
      "277:\tlearn: 0.3604394\ttotal: 711ms\tremaining: 1.85s\n",
      "278:\tlearn: 0.3601369\ttotal: 714ms\tremaining: 1.84s\n",
      "279:\tlearn: 0.3597933\ttotal: 716ms\tremaining: 1.84s\n",
      "280:\tlearn: 0.3595659\ttotal: 718ms\tremaining: 1.84s\n",
      "281:\tlearn: 0.3590684\ttotal: 720ms\tremaining: 1.83s\n",
      "282:\tlearn: 0.3586860\ttotal: 722ms\tremaining: 1.83s\n",
      "283:\tlearn: 0.3580192\ttotal: 724ms\tremaining: 1.82s\n",
      "284:\tlearn: 0.3576698\ttotal: 726ms\tremaining: 1.82s\n",
      "285:\tlearn: 0.3573611\ttotal: 728ms\tremaining: 1.82s\n",
      "286:\tlearn: 0.3571071\ttotal: 730ms\tremaining: 1.81s\n",
      "287:\tlearn: 0.3566527\ttotal: 732ms\tremaining: 1.81s\n",
      "288:\tlearn: 0.3561754\ttotal: 734ms\tremaining: 1.81s\n",
      "289:\tlearn: 0.3557469\ttotal: 736ms\tremaining: 1.8s\n",
      "290:\tlearn: 0.3553784\ttotal: 739ms\tremaining: 1.8s\n",
      "291:\tlearn: 0.3549297\ttotal: 741ms\tremaining: 1.79s\n",
      "292:\tlearn: 0.3546684\ttotal: 743ms\tremaining: 1.79s\n",
      "293:\tlearn: 0.3542731\ttotal: 745ms\tremaining: 1.79s\n",
      "294:\tlearn: 0.3539212\ttotal: 747ms\tremaining: 1.78s\n",
      "295:\tlearn: 0.3534357\ttotal: 749ms\tremaining: 1.78s\n",
      "296:\tlearn: 0.3530100\ttotal: 751ms\tremaining: 1.78s\n",
      "297:\tlearn: 0.3526843\ttotal: 753ms\tremaining: 1.77s\n",
      "298:\tlearn: 0.3522828\ttotal: 755ms\tremaining: 1.77s\n",
      "299:\tlearn: 0.3519046\ttotal: 757ms\tremaining: 1.77s\n",
      "300:\tlearn: 0.3515430\ttotal: 759ms\tremaining: 1.76s\n",
      "301:\tlearn: 0.3512064\ttotal: 761ms\tremaining: 1.76s\n",
      "302:\tlearn: 0.3511351\ttotal: 763ms\tremaining: 1.75s\n",
      "303:\tlearn: 0.3508662\ttotal: 765ms\tremaining: 1.75s\n",
      "304:\tlearn: 0.3504454\ttotal: 767ms\tremaining: 1.75s\n",
      "305:\tlearn: 0.3501221\ttotal: 769ms\tremaining: 1.74s\n",
      "306:\tlearn: 0.3496798\ttotal: 771ms\tremaining: 1.74s\n",
      "307:\tlearn: 0.3491321\ttotal: 773ms\tremaining: 1.74s\n",
      "308:\tlearn: 0.3488523\ttotal: 775ms\tremaining: 1.73s\n",
      "309:\tlearn: 0.3484950\ttotal: 777ms\tremaining: 1.73s\n",
      "310:\tlearn: 0.3482527\ttotal: 779ms\tremaining: 1.73s\n",
      "311:\tlearn: 0.3479712\ttotal: 781ms\tremaining: 1.72s\n",
      "312:\tlearn: 0.3476589\ttotal: 783ms\tremaining: 1.72s\n",
      "313:\tlearn: 0.3471160\ttotal: 785ms\tremaining: 1.72s\n",
      "314:\tlearn: 0.3467214\ttotal: 788ms\tremaining: 1.71s\n",
      "315:\tlearn: 0.3463328\ttotal: 790ms\tremaining: 1.71s\n",
      "316:\tlearn: 0.3459409\ttotal: 792ms\tremaining: 1.71s\n",
      "317:\tlearn: 0.3453587\ttotal: 793ms\tremaining: 1.7s\n",
      "318:\tlearn: 0.3448750\ttotal: 795ms\tremaining: 1.7s\n",
      "319:\tlearn: 0.3445760\ttotal: 797ms\tremaining: 1.69s\n",
      "320:\tlearn: 0.3440994\ttotal: 799ms\tremaining: 1.69s\n",
      "321:\tlearn: 0.3437385\ttotal: 801ms\tremaining: 1.69s\n",
      "322:\tlearn: 0.3436091\ttotal: 803ms\tremaining: 1.68s\n",
      "323:\tlearn: 0.3432646\ttotal: 805ms\tremaining: 1.68s\n",
      "324:\tlearn: 0.3430580\ttotal: 807ms\tremaining: 1.68s\n",
      "325:\tlearn: 0.3428086\ttotal: 809ms\tremaining: 1.67s\n",
      "326:\tlearn: 0.3425220\ttotal: 811ms\tremaining: 1.67s\n",
      "327:\tlearn: 0.3423069\ttotal: 813ms\tremaining: 1.67s\n",
      "328:\tlearn: 0.3421686\ttotal: 815ms\tremaining: 1.66s\n",
      "329:\tlearn: 0.3417591\ttotal: 817ms\tremaining: 1.66s\n",
      "330:\tlearn: 0.3413733\ttotal: 819ms\tremaining: 1.65s\n",
      "331:\tlearn: 0.3410821\ttotal: 821ms\tremaining: 1.65s\n",
      "332:\tlearn: 0.3406738\ttotal: 822ms\tremaining: 1.65s\n",
      "333:\tlearn: 0.3403659\ttotal: 824ms\tremaining: 1.64s\n",
      "334:\tlearn: 0.3401146\ttotal: 826ms\tremaining: 1.64s\n",
      "335:\tlearn: 0.3397885\ttotal: 828ms\tremaining: 1.64s\n",
      "336:\tlearn: 0.3391915\ttotal: 830ms\tremaining: 1.63s\n",
      "337:\tlearn: 0.3387495\ttotal: 832ms\tremaining: 1.63s\n",
      "338:\tlearn: 0.3383686\ttotal: 834ms\tremaining: 1.63s\n",
      "339:\tlearn: 0.3380607\ttotal: 836ms\tremaining: 1.62s\n",
      "340:\tlearn: 0.3378200\ttotal: 839ms\tremaining: 1.62s\n",
      "341:\tlearn: 0.3376897\ttotal: 841ms\tremaining: 1.62s\n",
      "342:\tlearn: 0.3373334\ttotal: 843ms\tremaining: 1.61s\n",
      "343:\tlearn: 0.3368419\ttotal: 845ms\tremaining: 1.61s\n",
      "344:\tlearn: 0.3365367\ttotal: 847ms\tremaining: 1.61s\n",
      "345:\tlearn: 0.3362561\ttotal: 849ms\tremaining: 1.6s\n",
      "346:\tlearn: 0.3357126\ttotal: 851ms\tremaining: 1.6s\n",
      "347:\tlearn: 0.3354488\ttotal: 853ms\tremaining: 1.6s\n",
      "348:\tlearn: 0.3351299\ttotal: 855ms\tremaining: 1.59s\n",
      "349:\tlearn: 0.3348475\ttotal: 857ms\tremaining: 1.59s\n",
      "350:\tlearn: 0.3345044\ttotal: 859ms\tremaining: 1.59s\n",
      "351:\tlearn: 0.3340846\ttotal: 861ms\tremaining: 1.58s\n",
      "352:\tlearn: 0.3336797\ttotal: 863ms\tremaining: 1.58s\n",
      "353:\tlearn: 0.3334530\ttotal: 864ms\tremaining: 1.58s\n",
      "354:\tlearn: 0.3332496\ttotal: 866ms\tremaining: 1.57s\n",
      "355:\tlearn: 0.3330020\ttotal: 868ms\tremaining: 1.57s\n",
      "356:\tlearn: 0.3328760\ttotal: 870ms\tremaining: 1.57s\n",
      "357:\tlearn: 0.3326355\ttotal: 872ms\tremaining: 1.56s\n",
      "358:\tlearn: 0.3323877\ttotal: 874ms\tremaining: 1.56s\n",
      "359:\tlearn: 0.3321777\ttotal: 876ms\tremaining: 1.56s\n",
      "360:\tlearn: 0.3318127\ttotal: 878ms\tremaining: 1.55s\n",
      "361:\tlearn: 0.3315399\ttotal: 880ms\tremaining: 1.55s\n",
      "362:\tlearn: 0.3312619\ttotal: 882ms\tremaining: 1.55s\n",
      "363:\tlearn: 0.3311205\ttotal: 884ms\tremaining: 1.54s\n",
      "364:\tlearn: 0.3306981\ttotal: 886ms\tremaining: 1.54s\n",
      "365:\tlearn: 0.3305208\ttotal: 888ms\tremaining: 1.54s\n",
      "366:\tlearn: 0.3301231\ttotal: 891ms\tremaining: 1.53s\n",
      "367:\tlearn: 0.3298019\ttotal: 893ms\tremaining: 1.53s\n",
      "368:\tlearn: 0.3295019\ttotal: 895ms\tremaining: 1.53s\n",
      "369:\tlearn: 0.3293444\ttotal: 897ms\tremaining: 1.53s\n",
      "370:\tlearn: 0.3288872\ttotal: 899ms\tremaining: 1.52s\n",
      "371:\tlearn: 0.3286682\ttotal: 902ms\tremaining: 1.52s\n",
      "372:\tlearn: 0.3283947\ttotal: 904ms\tremaining: 1.52s\n",
      "373:\tlearn: 0.3282006\ttotal: 906ms\tremaining: 1.52s\n",
      "374:\tlearn: 0.3279407\ttotal: 908ms\tremaining: 1.51s\n",
      "375:\tlearn: 0.3277415\ttotal: 911ms\tremaining: 1.51s\n",
      "376:\tlearn: 0.3275088\ttotal: 913ms\tremaining: 1.51s\n",
      "377:\tlearn: 0.3272308\ttotal: 915ms\tremaining: 1.5s\n",
      "378:\tlearn: 0.3271374\ttotal: 917ms\tremaining: 1.5s\n",
      "379:\tlearn: 0.3267601\ttotal: 919ms\tremaining: 1.5s\n",
      "380:\tlearn: 0.3265410\ttotal: 921ms\tremaining: 1.5s\n"
     ]
    },
    {
     "name": "stdout",
     "output_type": "stream",
     "text": [
      "381:\tlearn: 0.3263091\ttotal: 923ms\tremaining: 1.49s\n",
      "382:\tlearn: 0.3259928\ttotal: 926ms\tremaining: 1.49s\n",
      "383:\tlearn: 0.3255837\ttotal: 928ms\tremaining: 1.49s\n",
      "384:\tlearn: 0.3252681\ttotal: 930ms\tremaining: 1.49s\n",
      "385:\tlearn: 0.3246999\ttotal: 932ms\tremaining: 1.48s\n",
      "386:\tlearn: 0.3244611\ttotal: 934ms\tremaining: 1.48s\n",
      "387:\tlearn: 0.3242289\ttotal: 936ms\tremaining: 1.48s\n",
      "388:\tlearn: 0.3239458\ttotal: 938ms\tremaining: 1.47s\n",
      "389:\tlearn: 0.3236699\ttotal: 940ms\tremaining: 1.47s\n",
      "390:\tlearn: 0.3232883\ttotal: 942ms\tremaining: 1.47s\n",
      "391:\tlearn: 0.3230477\ttotal: 944ms\tremaining: 1.46s\n",
      "392:\tlearn: 0.3227681\ttotal: 946ms\tremaining: 1.46s\n",
      "393:\tlearn: 0.3225426\ttotal: 948ms\tremaining: 1.46s\n",
      "394:\tlearn: 0.3223112\ttotal: 950ms\tremaining: 1.46s\n",
      "395:\tlearn: 0.3220721\ttotal: 952ms\tremaining: 1.45s\n",
      "396:\tlearn: 0.3217545\ttotal: 954ms\tremaining: 1.45s\n",
      "397:\tlearn: 0.3214860\ttotal: 957ms\tremaining: 1.45s\n",
      "398:\tlearn: 0.3212692\ttotal: 959ms\tremaining: 1.44s\n",
      "399:\tlearn: 0.3208996\ttotal: 961ms\tremaining: 1.44s\n",
      "400:\tlearn: 0.3207274\ttotal: 963ms\tremaining: 1.44s\n",
      "401:\tlearn: 0.3205382\ttotal: 965ms\tremaining: 1.44s\n",
      "402:\tlearn: 0.3203239\ttotal: 967ms\tremaining: 1.43s\n",
      "403:\tlearn: 0.3200147\ttotal: 969ms\tremaining: 1.43s\n",
      "404:\tlearn: 0.3196406\ttotal: 971ms\tremaining: 1.43s\n",
      "405:\tlearn: 0.3194285\ttotal: 974ms\tremaining: 1.42s\n",
      "406:\tlearn: 0.3192648\ttotal: 976ms\tremaining: 1.42s\n",
      "407:\tlearn: 0.3189236\ttotal: 978ms\tremaining: 1.42s\n",
      "408:\tlearn: 0.3186205\ttotal: 980ms\tremaining: 1.42s\n",
      "409:\tlearn: 0.3183070\ttotal: 982ms\tremaining: 1.41s\n",
      "410:\tlearn: 0.3181126\ttotal: 984ms\tremaining: 1.41s\n",
      "411:\tlearn: 0.3178785\ttotal: 986ms\tremaining: 1.41s\n",
      "412:\tlearn: 0.3176408\ttotal: 988ms\tremaining: 1.4s\n",
      "413:\tlearn: 0.3173884\ttotal: 990ms\tremaining: 1.4s\n",
      "414:\tlearn: 0.3171228\ttotal: 992ms\tremaining: 1.4s\n",
      "415:\tlearn: 0.3169368\ttotal: 993ms\tremaining: 1.39s\n",
      "416:\tlearn: 0.3166705\ttotal: 995ms\tremaining: 1.39s\n",
      "417:\tlearn: 0.3162038\ttotal: 997ms\tremaining: 1.39s\n",
      "418:\tlearn: 0.3158598\ttotal: 999ms\tremaining: 1.39s\n",
      "419:\tlearn: 0.3156462\ttotal: 1s\tremaining: 1.38s\n",
      "420:\tlearn: 0.3153426\ttotal: 1s\tremaining: 1.38s\n",
      "421:\tlearn: 0.3150274\ttotal: 1s\tremaining: 1.38s\n",
      "422:\tlearn: 0.3146776\ttotal: 1.01s\tremaining: 1.37s\n",
      "423:\tlearn: 0.3144563\ttotal: 1.01s\tremaining: 1.37s\n",
      "424:\tlearn: 0.3143651\ttotal: 1.01s\tremaining: 1.37s\n",
      "425:\tlearn: 0.3141891\ttotal: 1.01s\tremaining: 1.36s\n",
      "426:\tlearn: 0.3140618\ttotal: 1.01s\tremaining: 1.36s\n",
      "427:\tlearn: 0.3137543\ttotal: 1.02s\tremaining: 1.36s\n",
      "428:\tlearn: 0.3134884\ttotal: 1.02s\tremaining: 1.36s\n",
      "429:\tlearn: 0.3131861\ttotal: 1.02s\tremaining: 1.35s\n",
      "430:\tlearn: 0.3128994\ttotal: 1.02s\tremaining: 1.35s\n",
      "431:\tlearn: 0.3127136\ttotal: 1.02s\tremaining: 1.35s\n",
      "432:\tlearn: 0.3123899\ttotal: 1.03s\tremaining: 1.34s\n",
      "433:\tlearn: 0.3121535\ttotal: 1.03s\tremaining: 1.34s\n",
      "434:\tlearn: 0.3119045\ttotal: 1.03s\tremaining: 1.34s\n",
      "435:\tlearn: 0.3116418\ttotal: 1.03s\tremaining: 1.34s\n",
      "436:\tlearn: 0.3114865\ttotal: 1.03s\tremaining: 1.33s\n",
      "437:\tlearn: 0.3113212\ttotal: 1.04s\tremaining: 1.33s\n",
      "438:\tlearn: 0.3110040\ttotal: 1.04s\tremaining: 1.33s\n",
      "439:\tlearn: 0.3107607\ttotal: 1.04s\tremaining: 1.32s\n",
      "440:\tlearn: 0.3105477\ttotal: 1.04s\tremaining: 1.32s\n",
      "441:\tlearn: 0.3102411\ttotal: 1.04s\tremaining: 1.32s\n",
      "442:\tlearn: 0.3099653\ttotal: 1.05s\tremaining: 1.31s\n",
      "443:\tlearn: 0.3096955\ttotal: 1.05s\tremaining: 1.31s\n",
      "444:\tlearn: 0.3094704\ttotal: 1.05s\tremaining: 1.31s\n",
      "445:\tlearn: 0.3092377\ttotal: 1.05s\tremaining: 1.31s\n",
      "446:\tlearn: 0.3089505\ttotal: 1.05s\tremaining: 1.3s\n",
      "447:\tlearn: 0.3086921\ttotal: 1.05s\tremaining: 1.3s\n",
      "448:\tlearn: 0.3084695\ttotal: 1.06s\tremaining: 1.3s\n",
      "449:\tlearn: 0.3082161\ttotal: 1.06s\tremaining: 1.29s\n",
      "450:\tlearn: 0.3080158\ttotal: 1.06s\tremaining: 1.29s\n",
      "451:\tlearn: 0.3077684\ttotal: 1.06s\tremaining: 1.29s\n",
      "452:\tlearn: 0.3075733\ttotal: 1.06s\tremaining: 1.29s\n",
      "453:\tlearn: 0.3073426\ttotal: 1.07s\tremaining: 1.28s\n",
      "454:\tlearn: 0.3070952\ttotal: 1.07s\tremaining: 1.28s\n",
      "455:\tlearn: 0.3069524\ttotal: 1.07s\tremaining: 1.28s\n",
      "456:\tlearn: 0.3066612\ttotal: 1.07s\tremaining: 1.27s\n",
      "457:\tlearn: 0.3064234\ttotal: 1.07s\tremaining: 1.27s\n",
      "458:\tlearn: 0.3062639\ttotal: 1.08s\tremaining: 1.27s\n",
      "459:\tlearn: 0.3060788\ttotal: 1.08s\tremaining: 1.27s\n",
      "460:\tlearn: 0.3058546\ttotal: 1.08s\tremaining: 1.26s\n",
      "461:\tlearn: 0.3056427\ttotal: 1.08s\tremaining: 1.26s\n",
      "462:\tlearn: 0.3053166\ttotal: 1.08s\tremaining: 1.26s\n",
      "463:\tlearn: 0.3050258\ttotal: 1.09s\tremaining: 1.25s\n",
      "464:\tlearn: 0.3046948\ttotal: 1.09s\tremaining: 1.25s\n",
      "465:\tlearn: 0.3044937\ttotal: 1.09s\tremaining: 1.25s\n",
      "466:\tlearn: 0.3042441\ttotal: 1.09s\tremaining: 1.25s\n",
      "467:\tlearn: 0.3039843\ttotal: 1.09s\tremaining: 1.24s\n",
      "468:\tlearn: 0.3037309\ttotal: 1.1s\tremaining: 1.24s\n",
      "469:\tlearn: 0.3032998\ttotal: 1.1s\tremaining: 1.24s\n",
      "470:\tlearn: 0.3030621\ttotal: 1.1s\tremaining: 1.24s\n",
      "471:\tlearn: 0.3029235\ttotal: 1.1s\tremaining: 1.23s\n",
      "472:\tlearn: 0.3025936\ttotal: 1.1s\tremaining: 1.23s\n",
      "473:\tlearn: 0.3022273\ttotal: 1.1s\tremaining: 1.23s\n",
      "474:\tlearn: 0.3019930\ttotal: 1.11s\tremaining: 1.22s\n",
      "475:\tlearn: 0.3019288\ttotal: 1.11s\tremaining: 1.22s\n",
      "476:\tlearn: 0.3017683\ttotal: 1.11s\tremaining: 1.22s\n",
      "477:\tlearn: 0.3015777\ttotal: 1.11s\tremaining: 1.22s\n",
      "478:\tlearn: 0.3014735\ttotal: 1.11s\tremaining: 1.21s\n",
      "479:\tlearn: 0.3012728\ttotal: 1.12s\tremaining: 1.21s\n",
      "480:\tlearn: 0.3009850\ttotal: 1.12s\tremaining: 1.21s\n",
      "481:\tlearn: 0.3007909\ttotal: 1.12s\tremaining: 1.2s\n",
      "482:\tlearn: 0.3006460\ttotal: 1.12s\tremaining: 1.2s\n",
      "483:\tlearn: 0.3003522\ttotal: 1.13s\tremaining: 1.2s\n",
      "484:\tlearn: 0.3001459\ttotal: 1.13s\tremaining: 1.2s\n",
      "485:\tlearn: 0.2999657\ttotal: 1.13s\tremaining: 1.19s\n",
      "486:\tlearn: 0.2997291\ttotal: 1.13s\tremaining: 1.19s\n",
      "487:\tlearn: 0.2995065\ttotal: 1.13s\tremaining: 1.19s\n",
      "488:\tlearn: 0.2993256\ttotal: 1.14s\tremaining: 1.19s\n",
      "489:\tlearn: 0.2990976\ttotal: 1.14s\tremaining: 1.18s\n",
      "490:\tlearn: 0.2989020\ttotal: 1.14s\tremaining: 1.18s\n",
      "491:\tlearn: 0.2987704\ttotal: 1.14s\tremaining: 1.18s\n",
      "492:\tlearn: 0.2986834\ttotal: 1.14s\tremaining: 1.18s\n",
      "493:\tlearn: 0.2984522\ttotal: 1.15s\tremaining: 1.17s\n",
      "494:\tlearn: 0.2981249\ttotal: 1.15s\tremaining: 1.17s\n",
      "495:\tlearn: 0.2976969\ttotal: 1.15s\tremaining: 1.17s\n",
      "496:\tlearn: 0.2975012\ttotal: 1.15s\tremaining: 1.17s\n",
      "497:\tlearn: 0.2973127\ttotal: 1.15s\tremaining: 1.16s\n",
      "498:\tlearn: 0.2970248\ttotal: 1.16s\tremaining: 1.16s\n",
      "499:\tlearn: 0.2967217\ttotal: 1.16s\tremaining: 1.16s\n",
      "500:\tlearn: 0.2966142\ttotal: 1.16s\tremaining: 1.16s\n",
      "501:\tlearn: 0.2964591\ttotal: 1.16s\tremaining: 1.15s\n",
      "502:\tlearn: 0.2962713\ttotal: 1.16s\tremaining: 1.15s\n",
      "503:\tlearn: 0.2959430\ttotal: 1.17s\tremaining: 1.15s\n",
      "504:\tlearn: 0.2958046\ttotal: 1.17s\tremaining: 1.14s\n",
      "505:\tlearn: 0.2954969\ttotal: 1.17s\tremaining: 1.14s\n",
      "506:\tlearn: 0.2952287\ttotal: 1.17s\tremaining: 1.14s\n",
      "507:\tlearn: 0.2949691\ttotal: 1.17s\tremaining: 1.14s\n",
      "508:\tlearn: 0.2945321\ttotal: 1.18s\tremaining: 1.13s\n",
      "509:\tlearn: 0.2944304\ttotal: 1.18s\tremaining: 1.13s\n",
      "510:\tlearn: 0.2942839\ttotal: 1.18s\tremaining: 1.13s\n",
      "511:\tlearn: 0.2941334\ttotal: 1.18s\tremaining: 1.13s\n",
      "512:\tlearn: 0.2939255\ttotal: 1.18s\tremaining: 1.12s\n",
      "513:\tlearn: 0.2937088\ttotal: 1.18s\tremaining: 1.12s\n",
      "514:\tlearn: 0.2934274\ttotal: 1.19s\tremaining: 1.12s\n",
      "515:\tlearn: 0.2932843\ttotal: 1.19s\tremaining: 1.11s\n",
      "516:\tlearn: 0.2930392\ttotal: 1.19s\tremaining: 1.11s\n",
      "517:\tlearn: 0.2928637\ttotal: 1.19s\tremaining: 1.11s\n",
      "518:\tlearn: 0.2925203\ttotal: 1.2s\tremaining: 1.11s\n",
      "519:\tlearn: 0.2921396\ttotal: 1.2s\tremaining: 1.1s\n",
      "520:\tlearn: 0.2919902\ttotal: 1.2s\tremaining: 1.1s\n",
      "521:\tlearn: 0.2918882\ttotal: 1.2s\tremaining: 1.1s\n",
      "522:\tlearn: 0.2916485\ttotal: 1.2s\tremaining: 1.1s\n",
      "523:\tlearn: 0.2914808\ttotal: 1.21s\tremaining: 1.09s\n",
      "524:\tlearn: 0.2912305\ttotal: 1.21s\tremaining: 1.09s\n",
      "525:\tlearn: 0.2909302\ttotal: 1.21s\tremaining: 1.09s\n",
      "526:\tlearn: 0.2907730\ttotal: 1.21s\tremaining: 1.09s\n",
      "527:\tlearn: 0.2904930\ttotal: 1.21s\tremaining: 1.08s\n",
      "528:\tlearn: 0.2903262\ttotal: 1.22s\tremaining: 1.08s\n",
      "529:\tlearn: 0.2901933\ttotal: 1.22s\tremaining: 1.08s\n",
      "530:\tlearn: 0.2900770\ttotal: 1.22s\tremaining: 1.08s\n",
      "531:\tlearn: 0.2897428\ttotal: 1.22s\tremaining: 1.07s\n",
      "532:\tlearn: 0.2893794\ttotal: 1.22s\tremaining: 1.07s\n",
      "533:\tlearn: 0.2892346\ttotal: 1.23s\tremaining: 1.07s\n",
      "534:\tlearn: 0.2888482\ttotal: 1.23s\tremaining: 1.07s\n",
      "535:\tlearn: 0.2886516\ttotal: 1.23s\tremaining: 1.06s\n",
      "536:\tlearn: 0.2884577\ttotal: 1.23s\tremaining: 1.06s\n",
      "537:\tlearn: 0.2881980\ttotal: 1.23s\tremaining: 1.06s\n",
      "538:\tlearn: 0.2880464\ttotal: 1.24s\tremaining: 1.06s\n",
      "539:\tlearn: 0.2877942\ttotal: 1.24s\tremaining: 1.05s\n",
      "540:\tlearn: 0.2876237\ttotal: 1.24s\tremaining: 1.05s\n",
      "541:\tlearn: 0.2873785\ttotal: 1.24s\tremaining: 1.05s\n",
      "542:\tlearn: 0.2871875\ttotal: 1.24s\tremaining: 1.05s\n",
      "543:\tlearn: 0.2870495\ttotal: 1.24s\tremaining: 1.04s\n",
      "544:\tlearn: 0.2867735\ttotal: 1.25s\tremaining: 1.04s\n",
      "545:\tlearn: 0.2865659\ttotal: 1.25s\tremaining: 1.04s\n",
      "546:\tlearn: 0.2862842\ttotal: 1.25s\tremaining: 1.03s\n",
      "547:\tlearn: 0.2860005\ttotal: 1.25s\tremaining: 1.03s\n",
      "548:\tlearn: 0.2858925\ttotal: 1.25s\tremaining: 1.03s\n",
      "549:\tlearn: 0.2856588\ttotal: 1.26s\tremaining: 1.03s\n",
      "550:\tlearn: 0.2855314\ttotal: 1.26s\tremaining: 1.03s\n",
      "551:\tlearn: 0.2853632\ttotal: 1.26s\tremaining: 1.02s\n",
      "552:\tlearn: 0.2851778\ttotal: 1.26s\tremaining: 1.02s\n",
      "553:\tlearn: 0.2850483\ttotal: 1.26s\tremaining: 1.02s\n",
      "554:\tlearn: 0.2849059\ttotal: 1.27s\tremaining: 1.01s\n",
      "555:\tlearn: 0.2846817\ttotal: 1.27s\tremaining: 1.01s\n",
      "556:\tlearn: 0.2845363\ttotal: 1.27s\tremaining: 1.01s\n",
      "557:\tlearn: 0.2843862\ttotal: 1.27s\tremaining: 1.01s\n",
      "558:\tlearn: 0.2841529\ttotal: 1.27s\tremaining: 1s\n",
      "559:\tlearn: 0.2838814\ttotal: 1.28s\tremaining: 1s\n",
      "560:\tlearn: 0.2835574\ttotal: 1.28s\tremaining: 1s\n",
      "561:\tlearn: 0.2833479\ttotal: 1.28s\tremaining: 998ms\n",
      "562:\tlearn: 0.2830708\ttotal: 1.28s\tremaining: 995ms\n",
      "563:\tlearn: 0.2828717\ttotal: 1.28s\tremaining: 993ms\n",
      "564:\tlearn: 0.2827796\ttotal: 1.29s\tremaining: 990ms\n",
      "565:\tlearn: 0.2826136\ttotal: 1.29s\tremaining: 988ms\n",
      "566:\tlearn: 0.2824648\ttotal: 1.29s\tremaining: 985ms\n",
      "567:\tlearn: 0.2822570\ttotal: 1.29s\tremaining: 983ms\n",
      "568:\tlearn: 0.2819937\ttotal: 1.29s\tremaining: 980ms\n",
      "569:\tlearn: 0.2816844\ttotal: 1.29s\tremaining: 977ms\n",
      "570:\tlearn: 0.2815389\ttotal: 1.3s\tremaining: 975ms\n",
      "571:\tlearn: 0.2813470\ttotal: 1.3s\tremaining: 972ms\n",
      "572:\tlearn: 0.2811997\ttotal: 1.3s\tremaining: 970ms\n",
      "573:\tlearn: 0.2809773\ttotal: 1.3s\tremaining: 967ms\n",
      "574:\tlearn: 0.2806765\ttotal: 1.3s\tremaining: 965ms\n",
      "575:\tlearn: 0.2804523\ttotal: 1.31s\tremaining: 962ms\n",
      "576:\tlearn: 0.2802449\ttotal: 1.31s\tremaining: 960ms\n",
      "577:\tlearn: 0.2800918\ttotal: 1.31s\tremaining: 957ms\n",
      "578:\tlearn: 0.2799817\ttotal: 1.31s\tremaining: 955ms\n",
      "579:\tlearn: 0.2796388\ttotal: 1.31s\tremaining: 952ms\n",
      "580:\tlearn: 0.2794423\ttotal: 1.32s\tremaining: 950ms\n",
      "581:\tlearn: 0.2792592\ttotal: 1.32s\tremaining: 947ms\n",
      "582:\tlearn: 0.2791002\ttotal: 1.32s\tremaining: 945ms\n",
      "583:\tlearn: 0.2787695\ttotal: 1.32s\tremaining: 942ms\n",
      "584:\tlearn: 0.2786064\ttotal: 1.32s\tremaining: 940ms\n",
      "585:\tlearn: 0.2784730\ttotal: 1.33s\tremaining: 937ms\n"
     ]
    },
    {
     "name": "stdout",
     "output_type": "stream",
     "text": [
      "586:\tlearn: 0.2782292\ttotal: 1.33s\tremaining: 935ms\n",
      "587:\tlearn: 0.2779956\ttotal: 1.33s\tremaining: 932ms\n",
      "588:\tlearn: 0.2776528\ttotal: 1.33s\tremaining: 930ms\n",
      "589:\tlearn: 0.2774486\ttotal: 1.33s\tremaining: 927ms\n",
      "590:\tlearn: 0.2773146\ttotal: 1.34s\tremaining: 925ms\n",
      "591:\tlearn: 0.2771255\ttotal: 1.34s\tremaining: 922ms\n",
      "592:\tlearn: 0.2768395\ttotal: 1.34s\tremaining: 920ms\n",
      "593:\tlearn: 0.2767367\ttotal: 1.34s\tremaining: 918ms\n",
      "594:\tlearn: 0.2766079\ttotal: 1.34s\tremaining: 915ms\n",
      "595:\tlearn: 0.2762717\ttotal: 1.35s\tremaining: 913ms\n",
      "596:\tlearn: 0.2759953\ttotal: 1.35s\tremaining: 910ms\n",
      "597:\tlearn: 0.2758539\ttotal: 1.35s\tremaining: 908ms\n",
      "598:\tlearn: 0.2757303\ttotal: 1.35s\tremaining: 905ms\n",
      "599:\tlearn: 0.2755119\ttotal: 1.35s\tremaining: 903ms\n",
      "600:\tlearn: 0.2753036\ttotal: 1.36s\tremaining: 900ms\n",
      "601:\tlearn: 0.2750284\ttotal: 1.36s\tremaining: 898ms\n",
      "602:\tlearn: 0.2746905\ttotal: 1.36s\tremaining: 895ms\n",
      "603:\tlearn: 0.2746558\ttotal: 1.36s\tremaining: 893ms\n",
      "604:\tlearn: 0.2744313\ttotal: 1.36s\tremaining: 890ms\n",
      "605:\tlearn: 0.2742737\ttotal: 1.36s\tremaining: 888ms\n",
      "606:\tlearn: 0.2740931\ttotal: 1.37s\tremaining: 885ms\n",
      "607:\tlearn: 0.2739020\ttotal: 1.37s\tremaining: 883ms\n",
      "608:\tlearn: 0.2736784\ttotal: 1.37s\tremaining: 880ms\n",
      "609:\tlearn: 0.2735645\ttotal: 1.37s\tremaining: 878ms\n",
      "610:\tlearn: 0.2734950\ttotal: 1.37s\tremaining: 875ms\n",
      "611:\tlearn: 0.2733909\ttotal: 1.38s\tremaining: 873ms\n",
      "612:\tlearn: 0.2731573\ttotal: 1.38s\tremaining: 870ms\n",
      "613:\tlearn: 0.2729438\ttotal: 1.38s\tremaining: 868ms\n",
      "614:\tlearn: 0.2727253\ttotal: 1.38s\tremaining: 866ms\n",
      "615:\tlearn: 0.2725855\ttotal: 1.38s\tremaining: 863ms\n",
      "616:\tlearn: 0.2723947\ttotal: 1.39s\tremaining: 861ms\n",
      "617:\tlearn: 0.2721835\ttotal: 1.39s\tremaining: 858ms\n",
      "618:\tlearn: 0.2719374\ttotal: 1.39s\tremaining: 856ms\n",
      "619:\tlearn: 0.2716556\ttotal: 1.39s\tremaining: 853ms\n",
      "620:\tlearn: 0.2715271\ttotal: 1.39s\tremaining: 851ms\n",
      "621:\tlearn: 0.2713396\ttotal: 1.4s\tremaining: 849ms\n",
      "622:\tlearn: 0.2711309\ttotal: 1.4s\tremaining: 847ms\n",
      "623:\tlearn: 0.2709614\ttotal: 1.4s\tremaining: 844ms\n",
      "624:\tlearn: 0.2706944\ttotal: 1.4s\tremaining: 842ms\n",
      "625:\tlearn: 0.2704945\ttotal: 1.41s\tremaining: 840ms\n",
      "626:\tlearn: 0.2700483\ttotal: 1.41s\tremaining: 838ms\n",
      "627:\tlearn: 0.2698771\ttotal: 1.41s\tremaining: 835ms\n",
      "628:\tlearn: 0.2696624\ttotal: 1.41s\tremaining: 833ms\n",
      "629:\tlearn: 0.2695436\ttotal: 1.41s\tremaining: 831ms\n",
      "630:\tlearn: 0.2692495\ttotal: 1.42s\tremaining: 828ms\n",
      "631:\tlearn: 0.2691234\ttotal: 1.42s\tremaining: 826ms\n",
      "632:\tlearn: 0.2689169\ttotal: 1.42s\tremaining: 824ms\n",
      "633:\tlearn: 0.2686876\ttotal: 1.42s\tremaining: 821ms\n",
      "634:\tlearn: 0.2685207\ttotal: 1.42s\tremaining: 819ms\n",
      "635:\tlearn: 0.2683653\ttotal: 1.43s\tremaining: 816ms\n",
      "636:\tlearn: 0.2682147\ttotal: 1.43s\tremaining: 814ms\n",
      "637:\tlearn: 0.2679202\ttotal: 1.43s\tremaining: 812ms\n",
      "638:\tlearn: 0.2677290\ttotal: 1.43s\tremaining: 809ms\n",
      "639:\tlearn: 0.2675931\ttotal: 1.43s\tremaining: 807ms\n",
      "640:\tlearn: 0.2672077\ttotal: 1.44s\tremaining: 804ms\n",
      "641:\tlearn: 0.2670755\ttotal: 1.44s\tremaining: 802ms\n",
      "642:\tlearn: 0.2668049\ttotal: 1.44s\tremaining: 800ms\n",
      "643:\tlearn: 0.2665772\ttotal: 1.44s\tremaining: 797ms\n",
      "644:\tlearn: 0.2664329\ttotal: 1.44s\tremaining: 795ms\n",
      "645:\tlearn: 0.2660265\ttotal: 1.45s\tremaining: 793ms\n",
      "646:\tlearn: 0.2658185\ttotal: 1.45s\tremaining: 790ms\n",
      "647:\tlearn: 0.2655672\ttotal: 1.45s\tremaining: 788ms\n",
      "648:\tlearn: 0.2654358\ttotal: 1.45s\tremaining: 786ms\n",
      "649:\tlearn: 0.2653143\ttotal: 1.45s\tremaining: 783ms\n",
      "650:\tlearn: 0.2651525\ttotal: 1.46s\tremaining: 781ms\n",
      "651:\tlearn: 0.2650672\ttotal: 1.46s\tremaining: 778ms\n",
      "652:\tlearn: 0.2649262\ttotal: 1.46s\tremaining: 776ms\n",
      "653:\tlearn: 0.2646787\ttotal: 1.46s\tremaining: 774ms\n",
      "654:\tlearn: 0.2644717\ttotal: 1.46s\tremaining: 771ms\n",
      "655:\tlearn: 0.2642407\ttotal: 1.47s\tremaining: 769ms\n",
      "656:\tlearn: 0.2639929\ttotal: 1.47s\tremaining: 766ms\n",
      "657:\tlearn: 0.2637420\ttotal: 1.47s\tremaining: 764ms\n",
      "658:\tlearn: 0.2634985\ttotal: 1.47s\tremaining: 762ms\n",
      "659:\tlearn: 0.2633385\ttotal: 1.47s\tremaining: 759ms\n",
      "660:\tlearn: 0.2632721\ttotal: 1.48s\tremaining: 757ms\n",
      "661:\tlearn: 0.2630280\ttotal: 1.48s\tremaining: 755ms\n",
      "662:\tlearn: 0.2628590\ttotal: 1.48s\tremaining: 752ms\n",
      "663:\tlearn: 0.2625951\ttotal: 1.48s\tremaining: 750ms\n",
      "664:\tlearn: 0.2623537\ttotal: 1.48s\tremaining: 748ms\n",
      "665:\tlearn: 0.2620563\ttotal: 1.49s\tremaining: 745ms\n",
      "666:\tlearn: 0.2619007\ttotal: 1.49s\tremaining: 743ms\n",
      "667:\tlearn: 0.2616748\ttotal: 1.49s\tremaining: 740ms\n",
      "668:\tlearn: 0.2615789\ttotal: 1.49s\tremaining: 738ms\n",
      "669:\tlearn: 0.2614758\ttotal: 1.49s\tremaining: 736ms\n",
      "670:\tlearn: 0.2613067\ttotal: 1.5s\tremaining: 733ms\n",
      "671:\tlearn: 0.2610500\ttotal: 1.5s\tremaining: 731ms\n",
      "672:\tlearn: 0.2608791\ttotal: 1.5s\tremaining: 729ms\n",
      "673:\tlearn: 0.2607120\ttotal: 1.5s\tremaining: 726ms\n",
      "674:\tlearn: 0.2605085\ttotal: 1.5s\tremaining: 724ms\n",
      "675:\tlearn: 0.2603760\ttotal: 1.5s\tremaining: 722ms\n",
      "676:\tlearn: 0.2601098\ttotal: 1.51s\tremaining: 719ms\n",
      "677:\tlearn: 0.2599402\ttotal: 1.51s\tremaining: 717ms\n",
      "678:\tlearn: 0.2598151\ttotal: 1.51s\tremaining: 715ms\n",
      "679:\tlearn: 0.2595598\ttotal: 1.51s\tremaining: 712ms\n",
      "680:\tlearn: 0.2592741\ttotal: 1.51s\tremaining: 710ms\n",
      "681:\tlearn: 0.2591478\ttotal: 1.52s\tremaining: 708ms\n",
      "682:\tlearn: 0.2589890\ttotal: 1.52s\tremaining: 705ms\n",
      "683:\tlearn: 0.2587630\ttotal: 1.52s\tremaining: 703ms\n",
      "684:\tlearn: 0.2585431\ttotal: 1.52s\tremaining: 701ms\n",
      "685:\tlearn: 0.2582352\ttotal: 1.53s\tremaining: 699ms\n",
      "686:\tlearn: 0.2581285\ttotal: 1.53s\tremaining: 696ms\n",
      "687:\tlearn: 0.2579578\ttotal: 1.53s\tremaining: 694ms\n",
      "688:\tlearn: 0.2575892\ttotal: 1.53s\tremaining: 692ms\n",
      "689:\tlearn: 0.2572647\ttotal: 1.53s\tremaining: 689ms\n",
      "690:\tlearn: 0.2570543\ttotal: 1.54s\tremaining: 687ms\n",
      "691:\tlearn: 0.2568551\ttotal: 1.54s\tremaining: 685ms\n",
      "692:\tlearn: 0.2566455\ttotal: 1.54s\tremaining: 682ms\n",
      "693:\tlearn: 0.2563977\ttotal: 1.54s\tremaining: 680ms\n",
      "694:\tlearn: 0.2563294\ttotal: 1.54s\tremaining: 678ms\n",
      "695:\tlearn: 0.2561888\ttotal: 1.55s\tremaining: 676ms\n",
      "696:\tlearn: 0.2560624\ttotal: 1.55s\tremaining: 673ms\n",
      "697:\tlearn: 0.2558222\ttotal: 1.55s\tremaining: 671ms\n",
      "698:\tlearn: 0.2556777\ttotal: 1.55s\tremaining: 669ms\n",
      "699:\tlearn: 0.2554462\ttotal: 1.55s\tremaining: 666ms\n",
      "700:\tlearn: 0.2552608\ttotal: 1.56s\tremaining: 664ms\n",
      "701:\tlearn: 0.2549100\ttotal: 1.56s\tremaining: 662ms\n",
      "702:\tlearn: 0.2546588\ttotal: 1.56s\tremaining: 660ms\n",
      "703:\tlearn: 0.2544784\ttotal: 1.56s\tremaining: 657ms\n",
      "704:\tlearn: 0.2542322\ttotal: 1.56s\tremaining: 655ms\n",
      "705:\tlearn: 0.2540685\ttotal: 1.57s\tremaining: 653ms\n",
      "706:\tlearn: 0.2538503\ttotal: 1.57s\tremaining: 650ms\n",
      "707:\tlearn: 0.2535788\ttotal: 1.57s\tremaining: 648ms\n",
      "708:\tlearn: 0.2533444\ttotal: 1.57s\tremaining: 646ms\n",
      "709:\tlearn: 0.2531198\ttotal: 1.57s\tremaining: 643ms\n",
      "710:\tlearn: 0.2528564\ttotal: 1.58s\tremaining: 641ms\n",
      "711:\tlearn: 0.2526849\ttotal: 1.58s\tremaining: 639ms\n",
      "712:\tlearn: 0.2524806\ttotal: 1.58s\tremaining: 636ms\n",
      "713:\tlearn: 0.2523515\ttotal: 1.58s\tremaining: 634ms\n",
      "714:\tlearn: 0.2522434\ttotal: 1.58s\tremaining: 632ms\n",
      "715:\tlearn: 0.2517529\ttotal: 1.59s\tremaining: 630ms\n",
      "716:\tlearn: 0.2516534\ttotal: 1.59s\tremaining: 628ms\n",
      "717:\tlearn: 0.2515216\ttotal: 1.59s\tremaining: 625ms\n",
      "718:\tlearn: 0.2513155\ttotal: 1.59s\tremaining: 623ms\n",
      "719:\tlearn: 0.2511585\ttotal: 1.6s\tremaining: 621ms\n",
      "720:\tlearn: 0.2508399\ttotal: 1.6s\tremaining: 618ms\n",
      "721:\tlearn: 0.2506962\ttotal: 1.6s\tremaining: 616ms\n",
      "722:\tlearn: 0.2505477\ttotal: 1.6s\tremaining: 614ms\n",
      "723:\tlearn: 0.2503540\ttotal: 1.6s\tremaining: 612ms\n",
      "724:\tlearn: 0.2502064\ttotal: 1.61s\tremaining: 609ms\n",
      "725:\tlearn: 0.2499821\ttotal: 1.61s\tremaining: 607ms\n",
      "726:\tlearn: 0.2497453\ttotal: 1.61s\tremaining: 605ms\n",
      "727:\tlearn: 0.2495734\ttotal: 1.61s\tremaining: 603ms\n",
      "728:\tlearn: 0.2494041\ttotal: 1.61s\tremaining: 600ms\n",
      "729:\tlearn: 0.2492020\ttotal: 1.62s\tremaining: 598ms\n",
      "730:\tlearn: 0.2490228\ttotal: 1.62s\tremaining: 596ms\n",
      "731:\tlearn: 0.2489254\ttotal: 1.62s\tremaining: 593ms\n",
      "732:\tlearn: 0.2485950\ttotal: 1.62s\tremaining: 591ms\n",
      "733:\tlearn: 0.2483617\ttotal: 1.62s\tremaining: 589ms\n",
      "734:\tlearn: 0.2481226\ttotal: 1.63s\tremaining: 586ms\n",
      "735:\tlearn: 0.2478480\ttotal: 1.63s\tremaining: 584ms\n",
      "736:\tlearn: 0.2477711\ttotal: 1.63s\tremaining: 582ms\n",
      "737:\tlearn: 0.2476119\ttotal: 1.63s\tremaining: 580ms\n",
      "738:\tlearn: 0.2475140\ttotal: 1.63s\tremaining: 577ms\n",
      "739:\tlearn: 0.2473986\ttotal: 1.64s\tremaining: 575ms\n",
      "740:\tlearn: 0.2471619\ttotal: 1.64s\tremaining: 573ms\n",
      "741:\tlearn: 0.2469065\ttotal: 1.64s\tremaining: 570ms\n",
      "742:\tlearn: 0.2466528\ttotal: 1.64s\tremaining: 568ms\n",
      "743:\tlearn: 0.2464850\ttotal: 1.64s\tremaining: 566ms\n",
      "744:\tlearn: 0.2463370\ttotal: 1.65s\tremaining: 564ms\n",
      "745:\tlearn: 0.2460932\ttotal: 1.65s\tremaining: 561ms\n",
      "746:\tlearn: 0.2457710\ttotal: 1.65s\tremaining: 559ms\n",
      "747:\tlearn: 0.2455490\ttotal: 1.65s\tremaining: 557ms\n",
      "748:\tlearn: 0.2453182\ttotal: 1.65s\tremaining: 555ms\n",
      "749:\tlearn: 0.2449835\ttotal: 1.66s\tremaining: 552ms\n",
      "750:\tlearn: 0.2448239\ttotal: 1.66s\tremaining: 550ms\n",
      "751:\tlearn: 0.2445340\ttotal: 1.66s\tremaining: 548ms\n",
      "752:\tlearn: 0.2442925\ttotal: 1.66s\tremaining: 545ms\n",
      "753:\tlearn: 0.2440852\ttotal: 1.66s\tremaining: 543ms\n",
      "754:\tlearn: 0.2438518\ttotal: 1.67s\tremaining: 541ms\n",
      "755:\tlearn: 0.2436845\ttotal: 1.67s\tremaining: 539ms\n",
      "756:\tlearn: 0.2435441\ttotal: 1.67s\tremaining: 536ms\n",
      "757:\tlearn: 0.2433878\ttotal: 1.67s\tremaining: 534ms\n",
      "758:\tlearn: 0.2431491\ttotal: 1.67s\tremaining: 532ms\n",
      "759:\tlearn: 0.2429546\ttotal: 1.68s\tremaining: 530ms\n",
      "760:\tlearn: 0.2428605\ttotal: 1.68s\tremaining: 527ms\n",
      "761:\tlearn: 0.2427406\ttotal: 1.68s\tremaining: 525ms\n",
      "762:\tlearn: 0.2426070\ttotal: 1.68s\tremaining: 523ms\n",
      "763:\tlearn: 0.2423940\ttotal: 1.68s\tremaining: 520ms\n",
      "764:\tlearn: 0.2420998\ttotal: 1.69s\tremaining: 518ms\n",
      "765:\tlearn: 0.2420221\ttotal: 1.69s\tremaining: 516ms\n",
      "766:\tlearn: 0.2418958\ttotal: 1.69s\tremaining: 514ms\n",
      "767:\tlearn: 0.2417134\ttotal: 1.69s\tremaining: 511ms\n",
      "768:\tlearn: 0.2415952\ttotal: 1.69s\tremaining: 509ms\n",
      "769:\tlearn: 0.2414570\ttotal: 1.7s\tremaining: 507ms\n",
      "770:\tlearn: 0.2412324\ttotal: 1.7s\tremaining: 505ms\n",
      "771:\tlearn: 0.2409385\ttotal: 1.7s\tremaining: 502ms\n",
      "772:\tlearn: 0.2406920\ttotal: 1.7s\tremaining: 500ms\n",
      "773:\tlearn: 0.2403553\ttotal: 1.7s\tremaining: 498ms\n",
      "774:\tlearn: 0.2401874\ttotal: 1.71s\tremaining: 496ms\n",
      "775:\tlearn: 0.2398982\ttotal: 1.71s\tremaining: 493ms\n",
      "776:\tlearn: 0.2396570\ttotal: 1.71s\tremaining: 491ms\n",
      "777:\tlearn: 0.2395832\ttotal: 1.71s\tremaining: 489ms\n",
      "778:\tlearn: 0.2391347\ttotal: 1.72s\tremaining: 487ms\n",
      "779:\tlearn: 0.2390323\ttotal: 1.72s\tremaining: 484ms\n",
      "780:\tlearn: 0.2388521\ttotal: 1.72s\tremaining: 482ms\n",
      "781:\tlearn: 0.2386778\ttotal: 1.72s\tremaining: 480ms\n",
      "782:\tlearn: 0.2384822\ttotal: 1.72s\tremaining: 478ms\n",
      "783:\tlearn: 0.2384517\ttotal: 1.73s\tremaining: 475ms\n",
      "784:\tlearn: 0.2383134\ttotal: 1.73s\tremaining: 473ms\n",
      "785:\tlearn: 0.2381312\ttotal: 1.73s\tremaining: 471ms\n",
      "786:\tlearn: 0.2378985\ttotal: 1.73s\tremaining: 469ms\n",
      "787:\tlearn: 0.2376043\ttotal: 1.73s\tremaining: 466ms\n"
     ]
    },
    {
     "name": "stdout",
     "output_type": "stream",
     "text": [
      "788:\tlearn: 0.2374025\ttotal: 1.74s\tremaining: 464ms\n",
      "789:\tlearn: 0.2371946\ttotal: 1.74s\tremaining: 462ms\n",
      "790:\tlearn: 0.2369813\ttotal: 1.74s\tremaining: 460ms\n",
      "791:\tlearn: 0.2366900\ttotal: 1.74s\tremaining: 458ms\n",
      "792:\tlearn: 0.2365046\ttotal: 1.74s\tremaining: 455ms\n",
      "793:\tlearn: 0.2363152\ttotal: 1.75s\tremaining: 453ms\n",
      "794:\tlearn: 0.2360092\ttotal: 1.75s\tremaining: 451ms\n",
      "795:\tlearn: 0.2356882\ttotal: 1.75s\tremaining: 449ms\n",
      "796:\tlearn: 0.2354806\ttotal: 1.75s\tremaining: 446ms\n",
      "797:\tlearn: 0.2352692\ttotal: 1.75s\tremaining: 444ms\n",
      "798:\tlearn: 0.2350787\ttotal: 1.76s\tremaining: 442ms\n",
      "799:\tlearn: 0.2349853\ttotal: 1.76s\tremaining: 440ms\n",
      "800:\tlearn: 0.2347860\ttotal: 1.76s\tremaining: 438ms\n",
      "801:\tlearn: 0.2345402\ttotal: 1.76s\tremaining: 435ms\n",
      "802:\tlearn: 0.2342879\ttotal: 1.76s\tremaining: 433ms\n",
      "803:\tlearn: 0.2341791\ttotal: 1.77s\tremaining: 431ms\n",
      "804:\tlearn: 0.2339595\ttotal: 1.77s\tremaining: 429ms\n",
      "805:\tlearn: 0.2337583\ttotal: 1.77s\tremaining: 427ms\n",
      "806:\tlearn: 0.2336149\ttotal: 1.77s\tremaining: 424ms\n",
      "807:\tlearn: 0.2333941\ttotal: 1.78s\tremaining: 422ms\n",
      "808:\tlearn: 0.2333134\ttotal: 1.78s\tremaining: 420ms\n",
      "809:\tlearn: 0.2332389\ttotal: 1.78s\tremaining: 418ms\n",
      "810:\tlearn: 0.2331463\ttotal: 1.78s\tremaining: 415ms\n",
      "811:\tlearn: 0.2330491\ttotal: 1.78s\tremaining: 413ms\n",
      "812:\tlearn: 0.2329370\ttotal: 1.79s\tremaining: 411ms\n",
      "813:\tlearn: 0.2326293\ttotal: 1.79s\tremaining: 409ms\n",
      "814:\tlearn: 0.2324160\ttotal: 1.79s\tremaining: 406ms\n",
      "815:\tlearn: 0.2322851\ttotal: 1.79s\tremaining: 404ms\n",
      "816:\tlearn: 0.2321096\ttotal: 1.79s\tremaining: 402ms\n",
      "817:\tlearn: 0.2319753\ttotal: 1.8s\tremaining: 400ms\n",
      "818:\tlearn: 0.2318000\ttotal: 1.8s\tremaining: 398ms\n",
      "819:\tlearn: 0.2316906\ttotal: 1.8s\tremaining: 395ms\n",
      "820:\tlearn: 0.2314926\ttotal: 1.8s\tremaining: 393ms\n",
      "821:\tlearn: 0.2313686\ttotal: 1.8s\tremaining: 391ms\n",
      "822:\tlearn: 0.2311981\ttotal: 1.81s\tremaining: 389ms\n",
      "823:\tlearn: 0.2310227\ttotal: 1.81s\tremaining: 386ms\n",
      "824:\tlearn: 0.2309217\ttotal: 1.81s\tremaining: 384ms\n",
      "825:\tlearn: 0.2306679\ttotal: 1.81s\tremaining: 382ms\n",
      "826:\tlearn: 0.2305282\ttotal: 1.81s\tremaining: 380ms\n",
      "827:\tlearn: 0.2304009\ttotal: 1.82s\tremaining: 378ms\n",
      "828:\tlearn: 0.2302534\ttotal: 1.82s\tremaining: 375ms\n",
      "829:\tlearn: 0.2300971\ttotal: 1.82s\tremaining: 373ms\n",
      "830:\tlearn: 0.2299718\ttotal: 1.82s\tremaining: 371ms\n",
      "831:\tlearn: 0.2296714\ttotal: 1.82s\tremaining: 369ms\n",
      "832:\tlearn: 0.2295315\ttotal: 1.83s\tremaining: 366ms\n",
      "833:\tlearn: 0.2293514\ttotal: 1.83s\tremaining: 364ms\n",
      "834:\tlearn: 0.2292461\ttotal: 1.83s\tremaining: 362ms\n",
      "835:\tlearn: 0.2290365\ttotal: 1.83s\tremaining: 360ms\n",
      "836:\tlearn: 0.2288163\ttotal: 1.84s\tremaining: 358ms\n",
      "837:\tlearn: 0.2285480\ttotal: 1.84s\tremaining: 355ms\n",
      "838:\tlearn: 0.2284044\ttotal: 1.84s\tremaining: 353ms\n",
      "839:\tlearn: 0.2283435\ttotal: 1.84s\tremaining: 351ms\n",
      "840:\tlearn: 0.2282515\ttotal: 1.84s\tremaining: 349ms\n",
      "841:\tlearn: 0.2279986\ttotal: 1.85s\tremaining: 346ms\n",
      "842:\tlearn: 0.2277737\ttotal: 1.85s\tremaining: 344ms\n",
      "843:\tlearn: 0.2276512\ttotal: 1.85s\tremaining: 342ms\n",
      "844:\tlearn: 0.2274015\ttotal: 1.85s\tremaining: 340ms\n",
      "845:\tlearn: 0.2272845\ttotal: 1.85s\tremaining: 338ms\n",
      "846:\tlearn: 0.2270948\ttotal: 1.86s\tremaining: 335ms\n",
      "847:\tlearn: 0.2269636\ttotal: 1.86s\tremaining: 333ms\n",
      "848:\tlearn: 0.2267983\ttotal: 1.86s\tremaining: 331ms\n",
      "849:\tlearn: 0.2266862\ttotal: 1.86s\tremaining: 329ms\n",
      "850:\tlearn: 0.2264758\ttotal: 1.86s\tremaining: 327ms\n",
      "851:\tlearn: 0.2262940\ttotal: 1.87s\tremaining: 324ms\n",
      "852:\tlearn: 0.2260084\ttotal: 1.87s\tremaining: 322ms\n",
      "853:\tlearn: 0.2257968\ttotal: 1.87s\tremaining: 320ms\n",
      "854:\tlearn: 0.2256454\ttotal: 1.87s\tremaining: 318ms\n",
      "855:\tlearn: 0.2254910\ttotal: 1.88s\tremaining: 315ms\n",
      "856:\tlearn: 0.2252799\ttotal: 1.88s\tremaining: 313ms\n",
      "857:\tlearn: 0.2250315\ttotal: 1.88s\tremaining: 311ms\n",
      "858:\tlearn: 0.2248138\ttotal: 1.88s\tremaining: 309ms\n",
      "859:\tlearn: 0.2246648\ttotal: 1.88s\tremaining: 306ms\n",
      "860:\tlearn: 0.2245312\ttotal: 1.88s\tremaining: 304ms\n",
      "861:\tlearn: 0.2243421\ttotal: 1.89s\tremaining: 302ms\n",
      "862:\tlearn: 0.2241364\ttotal: 1.89s\tremaining: 300ms\n",
      "863:\tlearn: 0.2240400\ttotal: 1.89s\tremaining: 298ms\n",
      "864:\tlearn: 0.2238360\ttotal: 1.89s\tremaining: 295ms\n",
      "865:\tlearn: 0.2235641\ttotal: 1.89s\tremaining: 293ms\n",
      "866:\tlearn: 0.2234353\ttotal: 1.9s\tremaining: 291ms\n",
      "867:\tlearn: 0.2232279\ttotal: 1.9s\tremaining: 289ms\n",
      "868:\tlearn: 0.2230116\ttotal: 1.9s\tremaining: 287ms\n",
      "869:\tlearn: 0.2228018\ttotal: 1.9s\tremaining: 284ms\n",
      "870:\tlearn: 0.2226033\ttotal: 1.91s\tremaining: 282ms\n",
      "871:\tlearn: 0.2224919\ttotal: 1.91s\tremaining: 280ms\n",
      "872:\tlearn: 0.2222896\ttotal: 1.91s\tremaining: 278ms\n",
      "873:\tlearn: 0.2219753\ttotal: 1.91s\tremaining: 276ms\n",
      "874:\tlearn: 0.2217559\ttotal: 1.91s\tremaining: 273ms\n",
      "875:\tlearn: 0.2215473\ttotal: 1.92s\tremaining: 271ms\n",
      "876:\tlearn: 0.2213642\ttotal: 1.92s\tremaining: 269ms\n",
      "877:\tlearn: 0.2211838\ttotal: 1.92s\tremaining: 267ms\n",
      "878:\tlearn: 0.2209523\ttotal: 1.92s\tremaining: 264ms\n",
      "879:\tlearn: 0.2208015\ttotal: 1.92s\tremaining: 262ms\n",
      "880:\tlearn: 0.2205593\ttotal: 1.93s\tremaining: 260ms\n",
      "881:\tlearn: 0.2203441\ttotal: 1.93s\tremaining: 258ms\n",
      "882:\tlearn: 0.2201997\ttotal: 1.93s\tremaining: 256ms\n",
      "883:\tlearn: 0.2200958\ttotal: 1.93s\tremaining: 254ms\n",
      "884:\tlearn: 0.2199935\ttotal: 1.93s\tremaining: 251ms\n",
      "885:\tlearn: 0.2197723\ttotal: 1.94s\tremaining: 249ms\n",
      "886:\tlearn: 0.2195847\ttotal: 1.94s\tremaining: 247ms\n",
      "887:\tlearn: 0.2194873\ttotal: 1.94s\tremaining: 245ms\n",
      "888:\tlearn: 0.2193129\ttotal: 1.94s\tremaining: 243ms\n",
      "889:\tlearn: 0.2191107\ttotal: 1.95s\tremaining: 240ms\n",
      "890:\tlearn: 0.2188518\ttotal: 1.95s\tremaining: 238ms\n",
      "891:\tlearn: 0.2186522\ttotal: 1.95s\tremaining: 236ms\n",
      "892:\tlearn: 0.2185144\ttotal: 1.95s\tremaining: 234ms\n",
      "893:\tlearn: 0.2182391\ttotal: 1.95s\tremaining: 232ms\n",
      "894:\tlearn: 0.2180709\ttotal: 1.96s\tremaining: 229ms\n",
      "895:\tlearn: 0.2178559\ttotal: 1.96s\tremaining: 227ms\n",
      "896:\tlearn: 0.2177642\ttotal: 1.96s\tremaining: 225ms\n",
      "897:\tlearn: 0.2176152\ttotal: 1.96s\tremaining: 223ms\n",
      "898:\tlearn: 0.2174997\ttotal: 1.96s\tremaining: 221ms\n",
      "899:\tlearn: 0.2173753\ttotal: 1.97s\tremaining: 218ms\n",
      "900:\tlearn: 0.2171304\ttotal: 1.97s\tremaining: 216ms\n",
      "901:\tlearn: 0.2169571\ttotal: 1.97s\tremaining: 214ms\n",
      "902:\tlearn: 0.2165823\ttotal: 1.97s\tremaining: 212ms\n",
      "903:\tlearn: 0.2163533\ttotal: 1.97s\tremaining: 210ms\n",
      "904:\tlearn: 0.2161250\ttotal: 1.98s\tremaining: 207ms\n",
      "905:\tlearn: 0.2158272\ttotal: 1.98s\tremaining: 205ms\n",
      "906:\tlearn: 0.2156190\ttotal: 1.98s\tremaining: 203ms\n",
      "907:\tlearn: 0.2154602\ttotal: 1.98s\tremaining: 201ms\n",
      "908:\tlearn: 0.2152058\ttotal: 1.98s\tremaining: 199ms\n",
      "909:\tlearn: 0.2148435\ttotal: 1.99s\tremaining: 196ms\n",
      "910:\tlearn: 0.2147241\ttotal: 1.99s\tremaining: 194ms\n",
      "911:\tlearn: 0.2145649\ttotal: 1.99s\tremaining: 192ms\n",
      "912:\tlearn: 0.2144679\ttotal: 1.99s\tremaining: 190ms\n",
      "913:\tlearn: 0.2143659\ttotal: 1.99s\tremaining: 188ms\n",
      "914:\tlearn: 0.2142234\ttotal: 2s\tremaining: 185ms\n",
      "915:\tlearn: 0.2139789\ttotal: 2s\tremaining: 183ms\n",
      "916:\tlearn: 0.2138392\ttotal: 2s\tremaining: 181ms\n",
      "917:\tlearn: 0.2136955\ttotal: 2s\tremaining: 179ms\n",
      "918:\tlearn: 0.2134328\ttotal: 2s\tremaining: 177ms\n",
      "919:\tlearn: 0.2132290\ttotal: 2.01s\tremaining: 174ms\n",
      "920:\tlearn: 0.2131276\ttotal: 2.01s\tremaining: 172ms\n",
      "921:\tlearn: 0.2130440\ttotal: 2.01s\tremaining: 170ms\n",
      "922:\tlearn: 0.2127213\ttotal: 2.01s\tremaining: 168ms\n",
      "923:\tlearn: 0.2125760\ttotal: 2.01s\tremaining: 166ms\n",
      "924:\tlearn: 0.2122606\ttotal: 2.02s\tremaining: 164ms\n",
      "925:\tlearn: 0.2120874\ttotal: 2.02s\tremaining: 161ms\n",
      "926:\tlearn: 0.2119311\ttotal: 2.02s\tremaining: 159ms\n",
      "927:\tlearn: 0.2117176\ttotal: 2.02s\tremaining: 157ms\n",
      "928:\tlearn: 0.2115509\ttotal: 2.02s\tremaining: 155ms\n",
      "929:\tlearn: 0.2113081\ttotal: 2.03s\tremaining: 153ms\n",
      "930:\tlearn: 0.2110818\ttotal: 2.03s\tremaining: 150ms\n",
      "931:\tlearn: 0.2108681\ttotal: 2.03s\tremaining: 148ms\n",
      "932:\tlearn: 0.2106860\ttotal: 2.03s\tremaining: 146ms\n",
      "933:\tlearn: 0.2105887\ttotal: 2.03s\tremaining: 144ms\n",
      "934:\tlearn: 0.2102968\ttotal: 2.04s\tremaining: 142ms\n",
      "935:\tlearn: 0.2101393\ttotal: 2.04s\tremaining: 139ms\n",
      "936:\tlearn: 0.2099815\ttotal: 2.04s\tremaining: 137ms\n",
      "937:\tlearn: 0.2096990\ttotal: 2.04s\tremaining: 135ms\n",
      "938:\tlearn: 0.2094429\ttotal: 2.04s\tremaining: 133ms\n",
      "939:\tlearn: 0.2092073\ttotal: 2.05s\tremaining: 131ms\n",
      "940:\tlearn: 0.2089970\ttotal: 2.05s\tremaining: 128ms\n",
      "941:\tlearn: 0.2088248\ttotal: 2.05s\tremaining: 126ms\n",
      "942:\tlearn: 0.2086894\ttotal: 2.05s\tremaining: 124ms\n",
      "943:\tlearn: 0.2084450\ttotal: 2.05s\tremaining: 122ms\n",
      "944:\tlearn: 0.2084150\ttotal: 2.06s\tremaining: 120ms\n",
      "945:\tlearn: 0.2082325\ttotal: 2.06s\tremaining: 117ms\n",
      "946:\tlearn: 0.2079779\ttotal: 2.06s\tremaining: 115ms\n",
      "947:\tlearn: 0.2076895\ttotal: 2.06s\tremaining: 113ms\n",
      "948:\tlearn: 0.2075872\ttotal: 2.06s\tremaining: 111ms\n",
      "949:\tlearn: 0.2072631\ttotal: 2.07s\tremaining: 109ms\n",
      "950:\tlearn: 0.2071177\ttotal: 2.07s\tremaining: 107ms\n",
      "951:\tlearn: 0.2070967\ttotal: 2.07s\tremaining: 104ms\n",
      "952:\tlearn: 0.2069192\ttotal: 2.07s\tremaining: 102ms\n",
      "953:\tlearn: 0.2068432\ttotal: 2.07s\tremaining: 100ms\n",
      "954:\tlearn: 0.2065542\ttotal: 2.08s\tremaining: 97.8ms\n",
      "955:\tlearn: 0.2063823\ttotal: 2.08s\tremaining: 95.6ms\n",
      "956:\tlearn: 0.2062913\ttotal: 2.08s\tremaining: 93.5ms\n",
      "957:\tlearn: 0.2062254\ttotal: 2.08s\tremaining: 91.3ms\n",
      "958:\tlearn: 0.2060111\ttotal: 2.08s\tremaining: 89.1ms\n",
      "959:\tlearn: 0.2057779\ttotal: 2.08s\tremaining: 86.9ms\n",
      "960:\tlearn: 0.2055601\ttotal: 2.09s\tremaining: 84.7ms\n",
      "961:\tlearn: 0.2052909\ttotal: 2.09s\tremaining: 82.5ms\n",
      "962:\tlearn: 0.2051467\ttotal: 2.09s\tremaining: 80.4ms\n",
      "963:\tlearn: 0.2050485\ttotal: 2.09s\tremaining: 78.2ms\n",
      "964:\tlearn: 0.2048790\ttotal: 2.1s\tremaining: 76ms\n",
      "965:\tlearn: 0.2046830\ttotal: 2.1s\tremaining: 73.8ms\n",
      "966:\tlearn: 0.2044198\ttotal: 2.1s\tremaining: 71.7ms\n",
      "967:\tlearn: 0.2043142\ttotal: 2.1s\tremaining: 69.5ms\n",
      "968:\tlearn: 0.2041857\ttotal: 2.1s\tremaining: 67.3ms\n",
      "969:\tlearn: 0.2039932\ttotal: 2.1s\tremaining: 65.1ms\n",
      "970:\tlearn: 0.2038734\ttotal: 2.11s\tremaining: 62.9ms\n",
      "971:\tlearn: 0.2037357\ttotal: 2.11s\tremaining: 60.8ms\n",
      "972:\tlearn: 0.2035177\ttotal: 2.11s\tremaining: 58.6ms\n",
      "973:\tlearn: 0.2033414\ttotal: 2.11s\tremaining: 56.4ms\n",
      "974:\tlearn: 0.2030300\ttotal: 2.12s\tremaining: 54.2ms\n",
      "975:\tlearn: 0.2028461\ttotal: 2.12s\tremaining: 52.1ms\n",
      "976:\tlearn: 0.2026172\ttotal: 2.12s\tremaining: 49.9ms\n",
      "977:\tlearn: 0.2023741\ttotal: 2.12s\tremaining: 47.7ms\n",
      "978:\tlearn: 0.2021578\ttotal: 2.12s\tremaining: 45.5ms\n",
      "979:\tlearn: 0.2020312\ttotal: 2.13s\tremaining: 43.4ms\n",
      "980:\tlearn: 0.2016608\ttotal: 2.13s\tremaining: 41.2ms\n",
      "981:\tlearn: 0.2014558\ttotal: 2.13s\tremaining: 39ms\n",
      "982:\tlearn: 0.2013367\ttotal: 2.13s\tremaining: 36.8ms\n"
     ]
    },
    {
     "name": "stdout",
     "output_type": "stream",
     "text": [
      "983:\tlearn: 0.2010995\ttotal: 2.13s\tremaining: 34.7ms\n",
      "984:\tlearn: 0.2008599\ttotal: 2.13s\tremaining: 32.5ms\n",
      "985:\tlearn: 0.2006711\ttotal: 2.14s\tremaining: 30.3ms\n",
      "986:\tlearn: 0.2004379\ttotal: 2.14s\tremaining: 28.2ms\n",
      "987:\tlearn: 0.2004075\ttotal: 2.14s\tremaining: 26ms\n",
      "988:\tlearn: 0.2002171\ttotal: 2.14s\tremaining: 23.8ms\n",
      "989:\tlearn: 0.1999930\ttotal: 2.15s\tremaining: 21.7ms\n",
      "990:\tlearn: 0.1998709\ttotal: 2.15s\tremaining: 19.5ms\n",
      "991:\tlearn: 0.1997390\ttotal: 2.15s\tremaining: 17.3ms\n",
      "992:\tlearn: 0.1996838\ttotal: 2.15s\tremaining: 15.2ms\n",
      "993:\tlearn: 0.1995810\ttotal: 2.15s\tremaining: 13ms\n",
      "994:\tlearn: 0.1993674\ttotal: 2.15s\tremaining: 10.8ms\n",
      "995:\tlearn: 0.1991683\ttotal: 2.16s\tremaining: 8.66ms\n",
      "996:\tlearn: 0.1989579\ttotal: 2.16s\tremaining: 6.5ms\n",
      "997:\tlearn: 0.1987948\ttotal: 2.16s\tremaining: 4.33ms\n",
      "998:\tlearn: 0.1986361\ttotal: 2.16s\tremaining: 2.17ms\n",
      "999:\tlearn: 0.1985063\ttotal: 2.17s\tremaining: 0us\n",
      "Accuracy on train data: 0.957169459962756\n"
     ]
    }
   ],
   "source": [
    "from catboost import CatBoostClassifier\n",
    "cat_clf = CatBoostClassifier()\n",
    "\n",
    "cat_clf = CatBoostClassifier()\n",
    "cat_clf.fit(X_train, y_train)\n",
    "\n",
    "# Get the accuracy on the training set\n",
    "train_acc = cat_clf.score(X_train, y_train)\n",
    "print(\"Accuracy on train data:\", train_acc)"
   ]
  },
  {
   "cell_type": "code",
   "execution_count": 35,
   "metadata": {},
   "outputs": [
    {
     "name": "stdout",
     "output_type": "stream",
     "text": [
      "Accuracy on train data: 1.0\n"
     ]
    }
   ],
   "source": [
    "from lightgbm import LGBMClassifier\n",
    "lgb_clf = LGBMClassifier()\n",
    "lgb_clf.fit(X_train, y_train)\n",
    "\n",
    "# Get the accuracy on the training set\n",
    "train_acc = lgb_clf.score(X_train, y_train)\n",
    "print(\"Accuracy on train data:\", train_acc)"
   ]
  },
  {
   "cell_type": "code",
   "execution_count": 36,
   "metadata": {
    "colab": {
     "base_uri": "https://localhost:8080/",
     "height": 1000,
     "referenced_widgets": [
      "278dda7a90ef435b86cb75ea2d30877d",
      "1ea789e5e37142fda432a945ca1cc2ea",
      "c79369d72f2b4484a4e09e2886dd77fe",
      "1d5c105e9ab647349cc9464fc0b51a77",
      "973d8c7516434ca5820c0f244ec3d3e9",
      "ffa90fa67c4a462e8b89eb07cdf71684",
      "848c08c8d0294d0cba3477ae82e214fa",
      "0cf1552b2e6f4b60ab3c0dce4a533642",
      "724810fd778f4a1cafde9c3072459e64",
      "da35c3deaac7408fb75fec24e449cd67",
      "641165c63d0343a29a6ca970eeff10d2"
     ]
    },
    "id": "p7EQQJ1f5GpY",
    "outputId": "395808ca-69bc-4622-8574-9acae98125e9"
   },
   "outputs": [
    {
     "data": {
      "text/html": [
       "<style type=\"text/css\">\n",
       "#T_d2f45_row8_col1 {\n",
       "  background-color: lightgreen;\n",
       "}\n",
       "</style>\n",
       "<table id=\"T_d2f45\">\n",
       "  <thead>\n",
       "    <tr>\n",
       "      <th class=\"blank level0\" >&nbsp;</th>\n",
       "      <th id=\"T_d2f45_level0_col0\" class=\"col_heading level0 col0\" >Description</th>\n",
       "      <th id=\"T_d2f45_level0_col1\" class=\"col_heading level0 col1\" >Value</th>\n",
       "    </tr>\n",
       "  </thead>\n",
       "  <tbody>\n",
       "    <tr>\n",
       "      <th id=\"T_d2f45_level0_row0\" class=\"row_heading level0 row0\" >0</th>\n",
       "      <td id=\"T_d2f45_row0_col0\" class=\"data row0 col0\" >Session id</td>\n",
       "      <td id=\"T_d2f45_row0_col1\" class=\"data row0 col1\" >6305</td>\n",
       "    </tr>\n",
       "    <tr>\n",
       "      <th id=\"T_d2f45_level0_row1\" class=\"row_heading level0 row1\" >1</th>\n",
       "      <td id=\"T_d2f45_row1_col0\" class=\"data row1 col0\" >Target</td>\n",
       "      <td id=\"T_d2f45_row1_col1\" class=\"data row1 col1\" >Outcome</td>\n",
       "    </tr>\n",
       "    <tr>\n",
       "      <th id=\"T_d2f45_level0_row2\" class=\"row_heading level0 row2\" >2</th>\n",
       "      <td id=\"T_d2f45_row2_col0\" class=\"data row2 col0\" >Target type</td>\n",
       "      <td id=\"T_d2f45_row2_col1\" class=\"data row2 col1\" >Binary</td>\n",
       "    </tr>\n",
       "    <tr>\n",
       "      <th id=\"T_d2f45_level0_row3\" class=\"row_heading level0 row3\" >3</th>\n",
       "      <td id=\"T_d2f45_row3_col0\" class=\"data row3 col0\" >Original data shape</td>\n",
       "      <td id=\"T_d2f45_row3_col1\" class=\"data row3 col1\" >(537, 10)</td>\n",
       "    </tr>\n",
       "    <tr>\n",
       "      <th id=\"T_d2f45_level0_row4\" class=\"row_heading level0 row4\" >4</th>\n",
       "      <td id=\"T_d2f45_row4_col0\" class=\"data row4 col0\" >Transformed data shape</td>\n",
       "      <td id=\"T_d2f45_row4_col1\" class=\"data row4 col1\" >(537, 10)</td>\n",
       "    </tr>\n",
       "    <tr>\n",
       "      <th id=\"T_d2f45_level0_row5\" class=\"row_heading level0 row5\" >5</th>\n",
       "      <td id=\"T_d2f45_row5_col0\" class=\"data row5 col0\" >Transformed train set shape</td>\n",
       "      <td id=\"T_d2f45_row5_col1\" class=\"data row5 col1\" >(375, 10)</td>\n",
       "    </tr>\n",
       "    <tr>\n",
       "      <th id=\"T_d2f45_level0_row6\" class=\"row_heading level0 row6\" >6</th>\n",
       "      <td id=\"T_d2f45_row6_col0\" class=\"data row6 col0\" >Transformed test set shape</td>\n",
       "      <td id=\"T_d2f45_row6_col1\" class=\"data row6 col1\" >(162, 10)</td>\n",
       "    </tr>\n",
       "    <tr>\n",
       "      <th id=\"T_d2f45_level0_row7\" class=\"row_heading level0 row7\" >7</th>\n",
       "      <td id=\"T_d2f45_row7_col0\" class=\"data row7 col0\" >Numeric features</td>\n",
       "      <td id=\"T_d2f45_row7_col1\" class=\"data row7 col1\" >9</td>\n",
       "    </tr>\n",
       "    <tr>\n",
       "      <th id=\"T_d2f45_level0_row8\" class=\"row_heading level0 row8\" >8</th>\n",
       "      <td id=\"T_d2f45_row8_col0\" class=\"data row8 col0\" >Preprocess</td>\n",
       "      <td id=\"T_d2f45_row8_col1\" class=\"data row8 col1\" >True</td>\n",
       "    </tr>\n",
       "    <tr>\n",
       "      <th id=\"T_d2f45_level0_row9\" class=\"row_heading level0 row9\" >9</th>\n",
       "      <td id=\"T_d2f45_row9_col0\" class=\"data row9 col0\" >Imputation type</td>\n",
       "      <td id=\"T_d2f45_row9_col1\" class=\"data row9 col1\" >simple</td>\n",
       "    </tr>\n",
       "    <tr>\n",
       "      <th id=\"T_d2f45_level0_row10\" class=\"row_heading level0 row10\" >10</th>\n",
       "      <td id=\"T_d2f45_row10_col0\" class=\"data row10 col0\" >Numeric imputation</td>\n",
       "      <td id=\"T_d2f45_row10_col1\" class=\"data row10 col1\" >mean</td>\n",
       "    </tr>\n",
       "    <tr>\n",
       "      <th id=\"T_d2f45_level0_row11\" class=\"row_heading level0 row11\" >11</th>\n",
       "      <td id=\"T_d2f45_row11_col0\" class=\"data row11 col0\" >Categorical imputation</td>\n",
       "      <td id=\"T_d2f45_row11_col1\" class=\"data row11 col1\" >mode</td>\n",
       "    </tr>\n",
       "    <tr>\n",
       "      <th id=\"T_d2f45_level0_row12\" class=\"row_heading level0 row12\" >12</th>\n",
       "      <td id=\"T_d2f45_row12_col0\" class=\"data row12 col0\" >Fold Generator</td>\n",
       "      <td id=\"T_d2f45_row12_col1\" class=\"data row12 col1\" >StratifiedKFold</td>\n",
       "    </tr>\n",
       "    <tr>\n",
       "      <th id=\"T_d2f45_level0_row13\" class=\"row_heading level0 row13\" >13</th>\n",
       "      <td id=\"T_d2f45_row13_col0\" class=\"data row13 col0\" >Fold Number</td>\n",
       "      <td id=\"T_d2f45_row13_col1\" class=\"data row13 col1\" >10</td>\n",
       "    </tr>\n",
       "    <tr>\n",
       "      <th id=\"T_d2f45_level0_row14\" class=\"row_heading level0 row14\" >14</th>\n",
       "      <td id=\"T_d2f45_row14_col0\" class=\"data row14 col0\" >CPU Jobs</td>\n",
       "      <td id=\"T_d2f45_row14_col1\" class=\"data row14 col1\" >-1</td>\n",
       "    </tr>\n",
       "    <tr>\n",
       "      <th id=\"T_d2f45_level0_row15\" class=\"row_heading level0 row15\" >15</th>\n",
       "      <td id=\"T_d2f45_row15_col0\" class=\"data row15 col0\" >Use GPU</td>\n",
       "      <td id=\"T_d2f45_row15_col1\" class=\"data row15 col1\" >False</td>\n",
       "    </tr>\n",
       "    <tr>\n",
       "      <th id=\"T_d2f45_level0_row16\" class=\"row_heading level0 row16\" >16</th>\n",
       "      <td id=\"T_d2f45_row16_col0\" class=\"data row16 col0\" >Log Experiment</td>\n",
       "      <td id=\"T_d2f45_row16_col1\" class=\"data row16 col1\" >False</td>\n",
       "    </tr>\n",
       "    <tr>\n",
       "      <th id=\"T_d2f45_level0_row17\" class=\"row_heading level0 row17\" >17</th>\n",
       "      <td id=\"T_d2f45_row17_col0\" class=\"data row17 col0\" >Experiment Name</td>\n",
       "      <td id=\"T_d2f45_row17_col1\" class=\"data row17 col1\" >clf-default-name</td>\n",
       "    </tr>\n",
       "    <tr>\n",
       "      <th id=\"T_d2f45_level0_row18\" class=\"row_heading level0 row18\" >18</th>\n",
       "      <td id=\"T_d2f45_row18_col0\" class=\"data row18 col0\" >USI</td>\n",
       "      <td id=\"T_d2f45_row18_col1\" class=\"data row18 col1\" >93b6</td>\n",
       "    </tr>\n",
       "  </tbody>\n",
       "</table>\n"
      ],
      "text/plain": [
       "<pandas.io.formats.style.Styler at 0x20341bfadf0>"
      ]
     },
     "metadata": {},
     "output_type": "display_data"
    },
    {
     "data": {
      "text/html": [],
      "text/plain": [
       "<IPython.core.display.HTML object>"
      ]
     },
     "metadata": {},
     "output_type": "display_data"
    },
    {
     "data": {
      "text/html": [
       "<style type=\"text/css\">\n",
       "#T_cec87 th {\n",
       "  text-align: left;\n",
       "}\n",
       "#T_cec87_row0_col0, #T_cec87_row0_col3, #T_cec87_row0_col5, #T_cec87_row0_col6, #T_cec87_row0_col7, #T_cec87_row1_col0, #T_cec87_row1_col2, #T_cec87_row1_col3, #T_cec87_row1_col4, #T_cec87_row2_col0, #T_cec87_row2_col1, #T_cec87_row2_col2, #T_cec87_row2_col3, #T_cec87_row2_col4, #T_cec87_row2_col5, #T_cec87_row2_col6, #T_cec87_row2_col7, #T_cec87_row3_col0, #T_cec87_row3_col1, #T_cec87_row3_col2, #T_cec87_row3_col3, #T_cec87_row3_col4, #T_cec87_row3_col5, #T_cec87_row3_col6, #T_cec87_row3_col7, #T_cec87_row4_col0, #T_cec87_row4_col1, #T_cec87_row4_col2, #T_cec87_row4_col3, #T_cec87_row4_col4, #T_cec87_row4_col5, #T_cec87_row4_col6, #T_cec87_row4_col7, #T_cec87_row5_col0, #T_cec87_row5_col1, #T_cec87_row5_col2, #T_cec87_row5_col3, #T_cec87_row5_col4, #T_cec87_row5_col5, #T_cec87_row5_col6, #T_cec87_row5_col7, #T_cec87_row6_col0, #T_cec87_row6_col1, #T_cec87_row6_col2, #T_cec87_row6_col3, #T_cec87_row6_col4, #T_cec87_row6_col5, #T_cec87_row6_col6, #T_cec87_row6_col7, #T_cec87_row7_col0, #T_cec87_row7_col1, #T_cec87_row7_col2, #T_cec87_row7_col3, #T_cec87_row7_col4, #T_cec87_row7_col5, #T_cec87_row7_col6, #T_cec87_row7_col7, #T_cec87_row8_col0, #T_cec87_row8_col1, #T_cec87_row8_col2, #T_cec87_row8_col4, #T_cec87_row8_col5, #T_cec87_row8_col6, #T_cec87_row8_col7, #T_cec87_row9_col0, #T_cec87_row9_col1, #T_cec87_row9_col2, #T_cec87_row9_col3, #T_cec87_row9_col4, #T_cec87_row9_col5, #T_cec87_row9_col6, #T_cec87_row9_col7, #T_cec87_row10_col0, #T_cec87_row10_col1, #T_cec87_row10_col2, #T_cec87_row10_col3, #T_cec87_row10_col4, #T_cec87_row10_col5, #T_cec87_row10_col6, #T_cec87_row10_col7, #T_cec87_row11_col0, #T_cec87_row11_col1, #T_cec87_row11_col2, #T_cec87_row11_col3, #T_cec87_row11_col4, #T_cec87_row11_col5, #T_cec87_row11_col6, #T_cec87_row11_col7, #T_cec87_row12_col0, #T_cec87_row12_col1, #T_cec87_row12_col2, #T_cec87_row12_col3, #T_cec87_row12_col4, #T_cec87_row12_col5, #T_cec87_row12_col6, #T_cec87_row12_col7, #T_cec87_row13_col0, #T_cec87_row13_col1, #T_cec87_row13_col2, #T_cec87_row13_col3, #T_cec87_row13_col4, #T_cec87_row13_col5, #T_cec87_row13_col6, #T_cec87_row13_col7, #T_cec87_row14_col0, #T_cec87_row14_col1, #T_cec87_row14_col2, #T_cec87_row14_col3, #T_cec87_row14_col4, #T_cec87_row14_col5, #T_cec87_row14_col6, #T_cec87_row14_col7, #T_cec87_row15_col0, #T_cec87_row15_col1, #T_cec87_row15_col2, #T_cec87_row15_col3, #T_cec87_row15_col4, #T_cec87_row15_col5, #T_cec87_row15_col6, #T_cec87_row15_col7 {\n",
       "  text-align: left;\n",
       "}\n",
       "#T_cec87_row0_col1, #T_cec87_row0_col2, #T_cec87_row0_col4, #T_cec87_row1_col1, #T_cec87_row1_col5, #T_cec87_row1_col6, #T_cec87_row1_col7, #T_cec87_row8_col3 {\n",
       "  text-align: left;\n",
       "  background-color: yellow;\n",
       "}\n",
       "#T_cec87_row0_col8, #T_cec87_row1_col8, #T_cec87_row2_col8, #T_cec87_row4_col8, #T_cec87_row5_col8, #T_cec87_row6_col8, #T_cec87_row7_col8, #T_cec87_row8_col8, #T_cec87_row9_col8, #T_cec87_row10_col8, #T_cec87_row11_col8, #T_cec87_row12_col8, #T_cec87_row13_col8, #T_cec87_row14_col8, #T_cec87_row15_col8 {\n",
       "  text-align: left;\n",
       "  background-color: lightgrey;\n",
       "}\n",
       "#T_cec87_row3_col8 {\n",
       "  text-align: left;\n",
       "  background-color: yellow;\n",
       "  background-color: lightgrey;\n",
       "}\n",
       "</style>\n",
       "<table id=\"T_cec87\">\n",
       "  <thead>\n",
       "    <tr>\n",
       "      <th class=\"blank level0\" >&nbsp;</th>\n",
       "      <th id=\"T_cec87_level0_col0\" class=\"col_heading level0 col0\" >Model</th>\n",
       "      <th id=\"T_cec87_level0_col1\" class=\"col_heading level0 col1\" >Accuracy</th>\n",
       "      <th id=\"T_cec87_level0_col2\" class=\"col_heading level0 col2\" >AUC</th>\n",
       "      <th id=\"T_cec87_level0_col3\" class=\"col_heading level0 col3\" >Recall</th>\n",
       "      <th id=\"T_cec87_level0_col4\" class=\"col_heading level0 col4\" >Prec.</th>\n",
       "      <th id=\"T_cec87_level0_col5\" class=\"col_heading level0 col5\" >F1</th>\n",
       "      <th id=\"T_cec87_level0_col6\" class=\"col_heading level0 col6\" >Kappa</th>\n",
       "      <th id=\"T_cec87_level0_col7\" class=\"col_heading level0 col7\" >MCC</th>\n",
       "      <th id=\"T_cec87_level0_col8\" class=\"col_heading level0 col8\" >TT (Sec)</th>\n",
       "    </tr>\n",
       "  </thead>\n",
       "  <tbody>\n",
       "    <tr>\n",
       "      <th id=\"T_cec87_level0_row0\" class=\"row_heading level0 row0\" >lr</th>\n",
       "      <td id=\"T_cec87_row0_col0\" class=\"data row0 col0\" >Logistic Regression</td>\n",
       "      <td id=\"T_cec87_row0_col1\" class=\"data row0 col1\" >0.7733</td>\n",
       "      <td id=\"T_cec87_row0_col2\" class=\"data row0 col2\" >0.8432</td>\n",
       "      <td id=\"T_cec87_row0_col3\" class=\"data row0 col3\" >0.5934</td>\n",
       "      <td id=\"T_cec87_row0_col4\" class=\"data row0 col4\" >0.7300</td>\n",
       "      <td id=\"T_cec87_row0_col5\" class=\"data row0 col5\" >0.6437</td>\n",
       "      <td id=\"T_cec87_row0_col6\" class=\"data row0 col6\" >0.4826</td>\n",
       "      <td id=\"T_cec87_row0_col7\" class=\"data row0 col7\" >0.4957</td>\n",
       "      <td id=\"T_cec87_row0_col8\" class=\"data row0 col8\" >0.7640</td>\n",
       "    </tr>\n",
       "    <tr>\n",
       "      <th id=\"T_cec87_level0_row1\" class=\"row_heading level0 row1\" >rf</th>\n",
       "      <td id=\"T_cec87_row1_col0\" class=\"data row1 col0\" >Random Forest Classifier</td>\n",
       "      <td id=\"T_cec87_row1_col1\" class=\"data row1 col1\" >0.7733</td>\n",
       "      <td id=\"T_cec87_row1_col2\" class=\"data row1 col2\" >0.8289</td>\n",
       "      <td id=\"T_cec87_row1_col3\" class=\"data row1 col3\" >0.6148</td>\n",
       "      <td id=\"T_cec87_row1_col4\" class=\"data row1 col4\" >0.7161</td>\n",
       "      <td id=\"T_cec87_row1_col5\" class=\"data row1 col5\" >0.6535</td>\n",
       "      <td id=\"T_cec87_row1_col6\" class=\"data row1 col6\" >0.4877</td>\n",
       "      <td id=\"T_cec87_row1_col7\" class=\"data row1 col7\" >0.4974</td>\n",
       "      <td id=\"T_cec87_row1_col8\" class=\"data row1 col8\" >0.2060</td>\n",
       "    </tr>\n",
       "    <tr>\n",
       "      <th id=\"T_cec87_level0_row2\" class=\"row_heading level0 row2\" >lda</th>\n",
       "      <td id=\"T_cec87_row2_col0\" class=\"data row2 col0\" >Linear Discriminant Analysis</td>\n",
       "      <td id=\"T_cec87_row2_col1\" class=\"data row2 col1\" >0.7706</td>\n",
       "      <td id=\"T_cec87_row2_col2\" class=\"data row2 col2\" >0.8419</td>\n",
       "      <td id=\"T_cec87_row2_col3\" class=\"data row2 col3\" >0.5934</td>\n",
       "      <td id=\"T_cec87_row2_col4\" class=\"data row2 col4\" >0.7199</td>\n",
       "      <td id=\"T_cec87_row2_col5\" class=\"data row2 col5\" >0.6393</td>\n",
       "      <td id=\"T_cec87_row2_col6\" class=\"data row2 col6\" >0.4763</td>\n",
       "      <td id=\"T_cec87_row2_col7\" class=\"data row2 col7\" >0.4889</td>\n",
       "      <td id=\"T_cec87_row2_col8\" class=\"data row2 col8\" >0.1470</td>\n",
       "    </tr>\n",
       "    <tr>\n",
       "      <th id=\"T_cec87_level0_row3\" class=\"row_heading level0 row3\" >ridge</th>\n",
       "      <td id=\"T_cec87_row3_col0\" class=\"data row3 col0\" >Ridge Classifier</td>\n",
       "      <td id=\"T_cec87_row3_col1\" class=\"data row3 col1\" >0.7679</td>\n",
       "      <td id=\"T_cec87_row3_col2\" class=\"data row3 col2\" >0.0000</td>\n",
       "      <td id=\"T_cec87_row3_col3\" class=\"data row3 col3\" >0.5780</td>\n",
       "      <td id=\"T_cec87_row3_col4\" class=\"data row3 col4\" >0.7243</td>\n",
       "      <td id=\"T_cec87_row3_col5\" class=\"data row3 col5\" >0.6332</td>\n",
       "      <td id=\"T_cec87_row3_col6\" class=\"data row3 col6\" >0.4689</td>\n",
       "      <td id=\"T_cec87_row3_col7\" class=\"data row3 col7\" >0.4818</td>\n",
       "      <td id=\"T_cec87_row3_col8\" class=\"data row3 col8\" >0.1340</td>\n",
       "    </tr>\n",
       "    <tr>\n",
       "      <th id=\"T_cec87_level0_row4\" class=\"row_heading level0 row4\" >et</th>\n",
       "      <td id=\"T_cec87_row4_col0\" class=\"data row4 col0\" >Extra Trees Classifier</td>\n",
       "      <td id=\"T_cec87_row4_col1\" class=\"data row4 col1\" >0.7624</td>\n",
       "      <td id=\"T_cec87_row4_col2\" class=\"data row4 col2\" >0.8286</td>\n",
       "      <td id=\"T_cec87_row4_col3\" class=\"data row4 col3\" >0.6000</td>\n",
       "      <td id=\"T_cec87_row4_col4\" class=\"data row4 col4\" >0.7049</td>\n",
       "      <td id=\"T_cec87_row4_col5\" class=\"data row4 col5\" >0.6398</td>\n",
       "      <td id=\"T_cec87_row4_col6\" class=\"data row4 col6\" >0.4653</td>\n",
       "      <td id=\"T_cec87_row4_col7\" class=\"data row4 col7\" >0.4756</td>\n",
       "      <td id=\"T_cec87_row4_col8\" class=\"data row4 col8\" >0.2160</td>\n",
       "    </tr>\n",
       "    <tr>\n",
       "      <th id=\"T_cec87_level0_row5\" class=\"row_heading level0 row5\" >catboost</th>\n",
       "      <td id=\"T_cec87_row5_col0\" class=\"data row5 col0\" >CatBoost Classifier</td>\n",
       "      <td id=\"T_cec87_row5_col1\" class=\"data row5 col1\" >0.7624</td>\n",
       "      <td id=\"T_cec87_row5_col2\" class=\"data row5 col2\" >0.8349</td>\n",
       "      <td id=\"T_cec87_row5_col3\" class=\"data row5 col3\" >0.6225</td>\n",
       "      <td id=\"T_cec87_row5_col4\" class=\"data row5 col4\" >0.6978</td>\n",
       "      <td id=\"T_cec87_row5_col5\" class=\"data row5 col5\" >0.6489</td>\n",
       "      <td id=\"T_cec87_row5_col6\" class=\"data row5 col6\" >0.4715</td>\n",
       "      <td id=\"T_cec87_row5_col7\" class=\"data row5 col7\" >0.4809</td>\n",
       "      <td id=\"T_cec87_row5_col8\" class=\"data row5 col8\" >0.8640</td>\n",
       "    </tr>\n",
       "    <tr>\n",
       "      <th id=\"T_cec87_level0_row6\" class=\"row_heading level0 row6\" >lightgbm</th>\n",
       "      <td id=\"T_cec87_row6_col0\" class=\"data row6 col0\" >Light Gradient Boosting Machine</td>\n",
       "      <td id=\"T_cec87_row6_col1\" class=\"data row6 col1\" >0.7520</td>\n",
       "      <td id=\"T_cec87_row6_col2\" class=\"data row6 col2\" >0.8266</td>\n",
       "      <td id=\"T_cec87_row6_col3\" class=\"data row6 col3\" >0.6000</td>\n",
       "      <td id=\"T_cec87_row6_col4\" class=\"data row6 col4\" >0.6807</td>\n",
       "      <td id=\"T_cec87_row6_col5\" class=\"data row6 col5\" >0.6264</td>\n",
       "      <td id=\"T_cec87_row6_col6\" class=\"data row6 col6\" >0.4438</td>\n",
       "      <td id=\"T_cec87_row6_col7\" class=\"data row6 col7\" >0.4540</td>\n",
       "      <td id=\"T_cec87_row6_col8\" class=\"data row6 col8\" >0.2950</td>\n",
       "    </tr>\n",
       "    <tr>\n",
       "      <th id=\"T_cec87_level0_row7\" class=\"row_heading level0 row7\" >gbc</th>\n",
       "      <td id=\"T_cec87_row7_col0\" class=\"data row7 col0\" >Gradient Boosting Classifier</td>\n",
       "      <td id=\"T_cec87_row7_col1\" class=\"data row7 col1\" >0.7518</td>\n",
       "      <td id=\"T_cec87_row7_col2\" class=\"data row7 col2\" >0.8305</td>\n",
       "      <td id=\"T_cec87_row7_col3\" class=\"data row7 col3\" >0.6005</td>\n",
       "      <td id=\"T_cec87_row7_col4\" class=\"data row7 col4\" >0.6881</td>\n",
       "      <td id=\"T_cec87_row7_col5\" class=\"data row7 col5\" >0.6319</td>\n",
       "      <td id=\"T_cec87_row7_col6\" class=\"data row7 col6\" >0.4479</td>\n",
       "      <td id=\"T_cec87_row7_col7\" class=\"data row7 col7\" >0.4569</td>\n",
       "      <td id=\"T_cec87_row7_col8\" class=\"data row7 col8\" >0.1700</td>\n",
       "    </tr>\n",
       "    <tr>\n",
       "      <th id=\"T_cec87_level0_row8\" class=\"row_heading level0 row8\" >nb</th>\n",
       "      <td id=\"T_cec87_row8_col0\" class=\"data row8 col0\" >Naive Bayes</td>\n",
       "      <td id=\"T_cec87_row8_col1\" class=\"data row8 col1\" >0.7463</td>\n",
       "      <td id=\"T_cec87_row8_col2\" class=\"data row8 col2\" >0.8216</td>\n",
       "      <td id=\"T_cec87_row8_col3\" class=\"data row8 col3\" >0.6610</td>\n",
       "      <td id=\"T_cec87_row8_col4\" class=\"data row8 col4\" >0.6408</td>\n",
       "      <td id=\"T_cec87_row8_col5\" class=\"data row8 col5\" >0.6456</td>\n",
       "      <td id=\"T_cec87_row8_col6\" class=\"data row8 col6\" >0.4495</td>\n",
       "      <td id=\"T_cec87_row8_col7\" class=\"data row8 col7\" >0.4540</td>\n",
       "      <td id=\"T_cec87_row8_col8\" class=\"data row8 col8\" >0.1390</td>\n",
       "    </tr>\n",
       "    <tr>\n",
       "      <th id=\"T_cec87_level0_row9\" class=\"row_heading level0 row9\" >xgboost</th>\n",
       "      <td id=\"T_cec87_row9_col0\" class=\"data row9 col0\" >Extreme Gradient Boosting</td>\n",
       "      <td id=\"T_cec87_row9_col1\" class=\"data row9 col1\" >0.7305</td>\n",
       "      <td id=\"T_cec87_row9_col2\" class=\"data row9 col2\" >0.7933</td>\n",
       "      <td id=\"T_cec87_row9_col3\" class=\"data row9 col3\" >0.5912</td>\n",
       "      <td id=\"T_cec87_row9_col4\" class=\"data row9 col4\" >0.6364</td>\n",
       "      <td id=\"T_cec87_row9_col5\" class=\"data row9 col5\" >0.6043</td>\n",
       "      <td id=\"T_cec87_row9_col6\" class=\"data row9 col6\" >0.4021</td>\n",
       "      <td id=\"T_cec87_row9_col7\" class=\"data row9 col7\" >0.4093</td>\n",
       "      <td id=\"T_cec87_row9_col8\" class=\"data row9 col8\" >0.1750</td>\n",
       "    </tr>\n",
       "    <tr>\n",
       "      <th id=\"T_cec87_level0_row10\" class=\"row_heading level0 row10\" >qda</th>\n",
       "      <td id=\"T_cec87_row10_col0\" class=\"data row10 col0\" >Quadratic Discriminant Analysis</td>\n",
       "      <td id=\"T_cec87_row10_col1\" class=\"data row10 col1\" >0.7280</td>\n",
       "      <td id=\"T_cec87_row10_col2\" class=\"data row10 col2\" >0.8087</td>\n",
       "      <td id=\"T_cec87_row10_col3\" class=\"data row10 col3\" >0.5929</td>\n",
       "      <td id=\"T_cec87_row10_col4\" class=\"data row10 col4\" >0.6297</td>\n",
       "      <td id=\"T_cec87_row10_col5\" class=\"data row10 col5\" >0.6009</td>\n",
       "      <td id=\"T_cec87_row10_col6\" class=\"data row10 col6\" >0.3973</td>\n",
       "      <td id=\"T_cec87_row10_col7\" class=\"data row10 col7\" >0.4049</td>\n",
       "      <td id=\"T_cec87_row10_col8\" class=\"data row10 col8\" >0.1400</td>\n",
       "    </tr>\n",
       "    <tr>\n",
       "      <th id=\"T_cec87_level0_row11\" class=\"row_heading level0 row11\" >ada</th>\n",
       "      <td id=\"T_cec87_row11_col0\" class=\"data row11 col0\" >Ada Boost Classifier</td>\n",
       "      <td id=\"T_cec87_row11_col1\" class=\"data row11 col1\" >0.7279</td>\n",
       "      <td id=\"T_cec87_row11_col2\" class=\"data row11 col2\" >0.7987</td>\n",
       "      <td id=\"T_cec87_row11_col3\" class=\"data row11 col3\" >0.5687</td>\n",
       "      <td id=\"T_cec87_row11_col4\" class=\"data row11 col4\" >0.6409</td>\n",
       "      <td id=\"T_cec87_row11_col5\" class=\"data row11 col5\" >0.5935</td>\n",
       "      <td id=\"T_cec87_row11_col6\" class=\"data row11 col6\" >0.3915</td>\n",
       "      <td id=\"T_cec87_row11_col7\" class=\"data row11 col7\" >0.4001</td>\n",
       "      <td id=\"T_cec87_row11_col8\" class=\"data row11 col8\" >0.1600</td>\n",
       "    </tr>\n",
       "    <tr>\n",
       "      <th id=\"T_cec87_level0_row12\" class=\"row_heading level0 row12\" >knn</th>\n",
       "      <td id=\"T_cec87_row12_col0\" class=\"data row12 col0\" >K Neighbors Classifier</td>\n",
       "      <td id=\"T_cec87_row12_col1\" class=\"data row12 col1\" >0.7252</td>\n",
       "      <td id=\"T_cec87_row12_col2\" class=\"data row12 col2\" >0.7730</td>\n",
       "      <td id=\"T_cec87_row12_col3\" class=\"data row12 col3\" >0.5929</td>\n",
       "      <td id=\"T_cec87_row12_col4\" class=\"data row12 col4\" >0.6287</td>\n",
       "      <td id=\"T_cec87_row12_col5\" class=\"data row12 col5\" >0.5992</td>\n",
       "      <td id=\"T_cec87_row12_col6\" class=\"data row12 col6\" >0.3935</td>\n",
       "      <td id=\"T_cec87_row12_col7\" class=\"data row12 col7\" >0.4021</td>\n",
       "      <td id=\"T_cec87_row12_col8\" class=\"data row12 col8\" >0.2570</td>\n",
       "    </tr>\n",
       "    <tr>\n",
       "      <th id=\"T_cec87_level0_row13\" class=\"row_heading level0 row13\" >dt</th>\n",
       "      <td id=\"T_cec87_row13_col0\" class=\"data row13 col0\" >Decision Tree Classifier</td>\n",
       "      <td id=\"T_cec87_row13_col1\" class=\"data row13 col1\" >0.7039</td>\n",
       "      <td id=\"T_cec87_row13_col2\" class=\"data row13 col2\" >0.6819</td>\n",
       "      <td id=\"T_cec87_row13_col3\" class=\"data row13 col3\" >0.6060</td>\n",
       "      <td id=\"T_cec87_row13_col4\" class=\"data row13 col4\" >0.5976</td>\n",
       "      <td id=\"T_cec87_row13_col5\" class=\"data row13 col5\" >0.5894</td>\n",
       "      <td id=\"T_cec87_row13_col6\" class=\"data row13 col6\" >0.3605</td>\n",
       "      <td id=\"T_cec87_row13_col7\" class=\"data row13 col7\" >0.3702</td>\n",
       "      <td id=\"T_cec87_row13_col8\" class=\"data row13 col8\" >0.1400</td>\n",
       "    </tr>\n",
       "    <tr>\n",
       "      <th id=\"T_cec87_level0_row14\" class=\"row_heading level0 row14\" >dummy</th>\n",
       "      <td id=\"T_cec87_row14_col0\" class=\"data row14 col0\" >Dummy Classifier</td>\n",
       "      <td id=\"T_cec87_row14_col1\" class=\"data row14 col1\" >0.6480</td>\n",
       "      <td id=\"T_cec87_row14_col2\" class=\"data row14 col2\" >0.5000</td>\n",
       "      <td id=\"T_cec87_row14_col3\" class=\"data row14 col3\" >0.0000</td>\n",
       "      <td id=\"T_cec87_row14_col4\" class=\"data row14 col4\" >0.0000</td>\n",
       "      <td id=\"T_cec87_row14_col5\" class=\"data row14 col5\" >0.0000</td>\n",
       "      <td id=\"T_cec87_row14_col6\" class=\"data row14 col6\" >0.0000</td>\n",
       "      <td id=\"T_cec87_row14_col7\" class=\"data row14 col7\" >0.0000</td>\n",
       "      <td id=\"T_cec87_row14_col8\" class=\"data row14 col8\" >0.1580</td>\n",
       "    </tr>\n",
       "    <tr>\n",
       "      <th id=\"T_cec87_level0_row15\" class=\"row_heading level0 row15\" >svm</th>\n",
       "      <td id=\"T_cec87_row15_col0\" class=\"data row15 col0\" >SVM - Linear Kernel</td>\n",
       "      <td id=\"T_cec87_row15_col1\" class=\"data row15 col1\" >0.5889</td>\n",
       "      <td id=\"T_cec87_row15_col2\" class=\"data row15 col2\" >0.0000</td>\n",
       "      <td id=\"T_cec87_row15_col3\" class=\"data row15 col3\" >0.4445</td>\n",
       "      <td id=\"T_cec87_row15_col4\" class=\"data row15 col4\" >0.5374</td>\n",
       "      <td id=\"T_cec87_row15_col5\" class=\"data row15 col5\" >0.3242</td>\n",
       "      <td id=\"T_cec87_row15_col6\" class=\"data row15 col6\" >0.1194</td>\n",
       "      <td id=\"T_cec87_row15_col7\" class=\"data row15 col7\" >0.1801</td>\n",
       "      <td id=\"T_cec87_row15_col8\" class=\"data row15 col8\" >0.1360</td>\n",
       "    </tr>\n",
       "  </tbody>\n",
       "</table>\n"
      ],
      "text/plain": [
       "<pandas.io.formats.style.Styler at 0x203419a25e0>"
      ]
     },
     "metadata": {},
     "output_type": "display_data"
    },
    {
     "data": {
      "application/vnd.jupyter.widget-view+json": {
       "model_id": "",
       "version_major": 2,
       "version_minor": 0
      },
      "text/plain": [
       "Processing:   0%|          | 0/69 [00:00<?, ?it/s]"
      ]
     },
     "metadata": {},
     "output_type": "display_data"
    },
    {
     "name": "stdout",
     "output_type": "stream",
     "text": [
      "PyCaret best model:\n",
      "LogisticRegression(C=1.0, class_weight=None, dual=False, fit_intercept=True,\n",
      "                   intercept_scaling=1, l1_ratio=None, max_iter=1000,\n",
      "                   multi_class='auto', n_jobs=None, penalty='l2',\n",
      "                   random_state=6305, solver='lbfgs', tol=0.0001, verbose=0,\n",
      "                   warm_start=False)\n"
     ]
    }
   ],
   "source": [
    "from pycaret.classification import *\n",
    "# Use PyCaret to perform automated machine learning\n",
    "clf = setup(data=train_df, target='Outcome')\n",
    "best_model = compare_models()\n",
    "print(\"PyCaret best model:\")\n",
    "print(best_model)"
   ]
  },
  {
   "cell_type": "code",
   "execution_count": 64,
   "metadata": {},
   "outputs": [
    {
     "name": "stderr",
     "output_type": "stream",
     "text": [
      "100%|██████████| 29/29 [00:00<00:00, 31.01it/s]"
     ]
    },
    {
     "name": "stdout",
     "output_type": "stream",
     "text": [
      "Lazy Predict accuracy scores:\n",
      "                               Accuracy  Balanced Accuracy  ROC AUC  F1 Score  \\\n",
      "Model                                                                           \n",
      "NearestCentroid                    0.74               0.74     0.74      0.74   \n",
      "GaussianNB                         0.75               0.72     0.72      0.75   \n",
      "XGBClassifier                      0.74               0.72     0.72      0.75   \n",
      "LGBMClassifier                     0.75               0.72     0.72      0.75   \n",
      "PassiveAggressiveClassifier        0.75               0.71     0.71      0.75   \n",
      "KNeighborsClassifier               0.76               0.70     0.70      0.75   \n",
      "DecisionTreeClassifier             0.71               0.69     0.69      0.71   \n",
      "SVC                                0.76               0.69     0.69      0.75   \n",
      "NuSVC                              0.76               0.69     0.69      0.75   \n",
      "QuadraticDiscriminantAnalysis      0.74               0.69     0.69      0.74   \n",
      "BaggingClassifier                  0.76               0.69     0.69      0.74   \n",
      "LogisticRegression                 0.75               0.69     0.69      0.74   \n",
      "AdaBoostClassifier                 0.73               0.69     0.69      0.72   \n",
      "RandomForestClassifier             0.74               0.68     0.68      0.73   \n",
      "ExtraTreesClassifier               0.74               0.68     0.68      0.73   \n",
      "CalibratedClassifierCV             0.74               0.68     0.68      0.73   \n",
      "LinearDiscriminantAnalysis         0.74               0.68     0.68      0.73   \n",
      "RidgeClassifier                    0.74               0.67     0.67      0.73   \n",
      "RidgeClassifierCV                  0.74               0.67     0.67      0.73   \n",
      "LinearSVC                          0.74               0.67     0.67      0.73   \n",
      "LabelSpreading                     0.72               0.67     0.67      0.72   \n",
      "LabelPropagation                   0.72               0.67     0.67      0.71   \n",
      "Perceptron                         0.73               0.66     0.66      0.71   \n",
      "ExtraTreeClassifier                0.69               0.65     0.65      0.69   \n",
      "BernoulliNB                        0.69               0.65     0.65      0.69   \n",
      "SGDClassifier                      0.69               0.63     0.63      0.68   \n",
      "DummyClassifier                    0.66               0.50     0.50      0.52   \n",
      "\n",
      "                               Time Taken  \n",
      "Model                                      \n",
      "NearestCentroid                      0.00  \n",
      "GaussianNB                           0.02  \n",
      "XGBClassifier                        0.08  \n",
      "LGBMClassifier                       0.10  \n",
      "PassiveAggressiveClassifier          0.02  \n",
      "KNeighborsClassifier                 0.02  \n",
      "DecisionTreeClassifier               0.00  \n",
      "SVC                                  0.02  \n",
      "NuSVC                                0.03  \n",
      "QuadraticDiscriminantAnalysis        0.03  \n",
      "BaggingClassifier                    0.03  \n",
      "LogisticRegression                   0.02  \n",
      "AdaBoostClassifier                   0.07  \n",
      "RandomForestClassifier               0.16  \n",
      "ExtraTreesClassifier                 0.10  \n",
      "CalibratedClassifierCV               0.05  \n",
      "LinearDiscriminantAnalysis           0.01  \n",
      "RidgeClassifier                      0.02  \n",
      "RidgeClassifierCV                    0.02  \n",
      "LinearSVC                            0.02  \n",
      "LabelSpreading                       0.02  \n",
      "LabelPropagation                     0.03  \n",
      "Perceptron                           0.00  \n",
      "ExtraTreeClassifier                  0.01  \n",
      "BernoulliNB                          0.02  \n",
      "SGDClassifier                        0.02  \n",
      "DummyClassifier                      0.02  \n"
     ]
    },
    {
     "name": "stderr",
     "output_type": "stream",
     "text": [
      "\n"
     ]
    }
   ],
   "source": [
    "from lazypredict.Supervised import LazyClassifier\n",
    "# Use Lazy Predict to compare the performance of multiple classifiers\n",
    "lazy_clf = LazyClassifier(verbose=0, ignore_warnings=True)\n",
    "models, predictions = lazy_clf.fit(X_train, X_test, y_train, y_test)\n",
    "print(\"Lazy Predict accuracy scores:\")\n",
    "print(models)"
   ]
  },
  {
   "cell_type": "code",
   "execution_count": 41,
   "metadata": {
    "id": "ZsagWYMm5GpY"
   },
   "outputs": [],
   "source": [
    "# from sklearn.ensemble import GradientBoostingClassifier\n",
    "# from sklearn.ensemble import RandomForestClassifier\n",
    "# from sklearn.linear_model import LogisticRegression\n",
    "# from sklearn.neighbors import KNeighborsClassifier\n",
    "# from sklearn.svm import SVC\n",
    "# from sklearn.tree import DecisionTreeClassifier\n",
    "# from sklearn.model_selection import KFold\n",
    "# from sklearn.model_selection import train_test_split, GridSearchCV, cross_val_score\n"
   ]
  },
  {
   "cell_type": "code",
   "execution_count": null,
   "metadata": {
    "id": "XgCpbnHv5GpY",
    "vscode": {
     "languageId": "plaintext"
    }
   },
   "outputs": [],
   "source": [
    "# models = [('LR', LogisticRegression()),\n",
    "#           ('KNN', KNeighborsClassifier()),\n",
    "#           ('CART', DecisionTreeClassifier()),\n",
    "#           ('RF', RandomForestClassifier()),\n",
    "#           ('SVR', SVC(gamma='auto')),\n",
    "#           ('XGBM', XGBClassifier()),\n",
    "#           ('GB',GradientBoostingClassifier()),\n",
    "#           (\"LightGBM\", LGBMClassifier())]"
   ]
  },
  {
   "cell_type": "code",
   "execution_count": null,
   "metadata": {
    "colab": {
     "base_uri": "https://localhost:8080/"
    },
    "id": "cCpkBQKz5GpZ",
    "outputId": "528c9ee4-e11a-48b6-cf44-c9b6dc3d1aa7"
   },
   "outputs": [
    {
     "name": "stdout",
     "output_type": "stream",
     "text": [
      "LR: 0.769147 (0.056591)\n",
      "KNN: 0.733543 (0.063183)\n",
      "CART: 0.724528 (0.053672)\n",
      "RF: 0.759644 (0.068353)\n",
      "SVR: 0.750314 (0.061563)\n",
      "XGBM: 0.709539 (0.045306)\n",
      "GB: 0.767051 (0.052283)\n",
      "LightGBM: 0.733683 (0.040745)\n"
     ]
    }
   ],
   "source": [
    "# # evaluate each model in turn\n",
    "# results = []\n",
    "# names = []\n",
    "\n",
    "# for name, model in models:\n",
    "#     kfold = KFold(n_splits=10)\n",
    "#     cv_results = cross_val_score(model, X_train, y_train, cv=kfold, scoring=\"accuracy\")\n",
    "#     results.append(cv_results)\n",
    "#     names.append(name)\n",
    "#     msg = \"%s: %f (%f)\" % (name, cv_results.mean(), cv_results.std())\n",
    "#     print(msg)"
   ]
  },
  {
   "cell_type": "markdown",
   "metadata": {
    "id": "ClwToCF35GpZ"
   },
   "source": [
    "#### Save the model as a pkl file.\n"
   ]
  },
  {
   "cell_type": "code",
   "execution_count": 37,
   "metadata": {
    "id": "9jflq0x35GpZ",
    "vscode": {
     "languageId": "plaintext"
    }
   },
   "outputs": [],
   "source": [
    "import pickle\n",
    "# Save the trained model as a pkl file\n",
    "with open('Diabetes.pkl', 'wb') as f:\n",
    "    pickle.dump(best_estimator, f)"
   ]
  },
  {
   "cell_type": "markdown",
   "metadata": {
    "id": "YNQhdyLu5GpZ"
   },
   "source": [
    "#### [BONUS] SkLearn Pipelines  \n",
    "If you are able to make this into a single sklearn pipeline (ColumnTransformer-> Onehotencoder -> StandardScaler-> SVM) pkl file, I will give you full mark + bonus + 10 pounds. to get the bonus I need your production code to look like this: `model = pkl.load(model) - model.predict(test set)` all in a single sklearn pipeline, no pandas no nothing.  "
   ]
  },
  {
   "cell_type": "code",
   "execution_count": 38,
   "metadata": {
    "id": "D3tEvY9W5GpZ",
    "vscode": {
     "languageId": "plaintext"
    }
   },
   "outputs": [],
   "source": [
    "import pandas as pd\n",
    "from sklearn.compose import ColumnTransformer\n",
    "from sklearn.pipeline import Pipeline\n",
    "from sklearn.preprocessing import OneHotEncoder, StandardScaler\n",
    "from sklearn.svm import SVC\n",
    "import pickle\n",
    "train_df_pip=pd.read_csv('training.csv') \n",
    "\n",
    "# Define the features and target variable\n",
    "X = train_df_pip.drop('Outcome', axis=1)\n",
    "y = train_df_pip['Outcome']\n",
    "\n",
    "\n",
    "\n",
    "# Define the column transformer to preprocess the data\n",
    "preprocessor = ColumnTransformer(\n",
    "    transformers=[\n",
    "             ('num', StandardScaler(), ['Glucose', 'BloodPressure', 'SkinThickness', 'Insulin', 'BMI', 'DiabetesPedigreeFunction', 'Age'])\n",
    "    ])\n",
    "\n",
    "# Create the SVM model\n",
    "svm_model = SVC(kernel='linear', C=1.0, random_state=42)\n",
    "\n",
    "# Create the pipeline\n",
    "pipeline = Pipeline(steps=[('preprocessor', preprocessor), ('svm', svm_model)])\n",
    "\n",
    "# Fit the pipeline on the data\n",
    "pipeline.fit(X, y)\n",
    "\n",
    "# Save the pipeline as a .pkl file\n",
    "with open('diabetes_pipeline.pkl', 'wb') as f:\n",
    "    pickle.dump(pipeline, f)"
   ]
  },
  {
   "cell_type": "code",
   "execution_count": 39,
   "metadata": {},
   "outputs": [
    {
     "data": {
      "text/plain": [
       "0.7783985102420856"
      ]
     },
     "execution_count": 39,
     "metadata": {},
     "output_type": "execute_result"
    }
   ],
   "source": [
    "pipeline.score(X,y)   "
   ]
  },
  {
   "cell_type": "code",
   "execution_count": 40,
   "metadata": {},
   "outputs": [],
   "source": [
    "test_df_pip=pd.read_csv('test.csv') \n",
    "X_t = test_df_pip.drop('Outcome', axis=1)\n",
    "y_t = test_df_pip['Outcome']"
   ]
  },
  {
   "cell_type": "code",
   "execution_count": 41,
   "metadata": {},
   "outputs": [],
   "source": [
    "with open('diabetes_pipeline.pkl', 'rb') as f:\n",
    "    pipeline = pickle.load(f)\n",
    "predictions = pipeline.predict(X_t)    "
   ]
  },
  {
   "cell_type": "code",
   "execution_count": 42,
   "metadata": {},
   "outputs": [
    {
     "data": {
      "text/plain": [
       "0.7922077922077922"
      ]
     },
     "execution_count": 42,
     "metadata": {},
     "output_type": "execute_result"
    }
   ],
   "source": [
    "pipeline.score(X_t,y_t)   "
   ]
  },
  {
   "cell_type": "markdown",
   "metadata": {
    "id": "bjQ0BNnV5Gpa"
   },
   "source": [
    "# The Production Phase !    "
   ]
  },
  {
   "cell_type": "code",
   "execution_count": null,
   "metadata": {
    "id": "Al-BfLDo9a0G"
   },
   "outputs": [],
   "source": []
  },
  {
   "cell_type": "markdown",
   "metadata": {
    "id": "y5SXGQc55Gpa"
   },
   "source": [
    "#### Load the test set, do your transformations as you did with the training set. "
   ]
  },
  {
   "cell_type": "code",
   "execution_count": 43,
   "metadata": {},
   "outputs": [],
   "source": [
    "test_df = pd.read_csv('test.csv') "
   ]
  },
  {
   "cell_type": "code",
   "execution_count": 44,
   "metadata": {},
   "outputs": [
    {
     "data": {
      "text/html": [
       "<div>\n",
       "<style scoped>\n",
       "    .dataframe tbody tr th:only-of-type {\n",
       "        vertical-align: middle;\n",
       "    }\n",
       "\n",
       "    .dataframe tbody tr th {\n",
       "        vertical-align: top;\n",
       "    }\n",
       "\n",
       "    .dataframe thead th {\n",
       "        text-align: right;\n",
       "    }\n",
       "</style>\n",
       "<table border=\"1\" class=\"dataframe\">\n",
       "  <thead>\n",
       "    <tr style=\"text-align: right;\">\n",
       "      <th></th>\n",
       "      <th>Pregnancies</th>\n",
       "      <th>Glucose</th>\n",
       "      <th>BloodPressure</th>\n",
       "      <th>SkinThickness</th>\n",
       "      <th>Insulin</th>\n",
       "      <th>BMI</th>\n",
       "      <th>DiabetesPedigreeFunction</th>\n",
       "      <th>Age</th>\n",
       "      <th>Outcome</th>\n",
       "    </tr>\n",
       "  </thead>\n",
       "  <tbody>\n",
       "    <tr>\n",
       "      <th>0</th>\n",
       "      <td>1</td>\n",
       "      <td>89</td>\n",
       "      <td>24</td>\n",
       "      <td>19</td>\n",
       "      <td>25</td>\n",
       "      <td>27.8</td>\n",
       "      <td>0.559</td>\n",
       "      <td>21</td>\n",
       "      <td>0</td>\n",
       "    </tr>\n",
       "    <tr>\n",
       "      <th>1</th>\n",
       "      <td>2</td>\n",
       "      <td>197</td>\n",
       "      <td>70</td>\n",
       "      <td>45</td>\n",
       "      <td>543</td>\n",
       "      <td>30.5</td>\n",
       "      <td>0.158</td>\n",
       "      <td>53</td>\n",
       "      <td>1</td>\n",
       "    </tr>\n",
       "    <tr>\n",
       "      <th>2</th>\n",
       "      <td>4</td>\n",
       "      <td>90</td>\n",
       "      <td>88</td>\n",
       "      <td>47</td>\n",
       "      <td>54</td>\n",
       "      <td>37.7</td>\n",
       "      <td>0.362</td>\n",
       "      <td>29</td>\n",
       "      <td>0</td>\n",
       "    </tr>\n",
       "    <tr>\n",
       "      <th>3</th>\n",
       "      <td>11</td>\n",
       "      <td>138</td>\n",
       "      <td>76</td>\n",
       "      <td>0</td>\n",
       "      <td>0</td>\n",
       "      <td>33.2</td>\n",
       "      <td>0.420</td>\n",
       "      <td>35</td>\n",
       "      <td>0</td>\n",
       "    </tr>\n",
       "    <tr>\n",
       "      <th>4</th>\n",
       "      <td>0</td>\n",
       "      <td>91</td>\n",
       "      <td>68</td>\n",
       "      <td>32</td>\n",
       "      <td>210</td>\n",
       "      <td>39.9</td>\n",
       "      <td>0.381</td>\n",
       "      <td>25</td>\n",
       "      <td>0</td>\n",
       "    </tr>\n",
       "    <tr>\n",
       "      <th>...</th>\n",
       "      <td>...</td>\n",
       "      <td>...</td>\n",
       "      <td>...</td>\n",
       "      <td>...</td>\n",
       "      <td>...</td>\n",
       "      <td>...</td>\n",
       "      <td>...</td>\n",
       "      <td>...</td>\n",
       "      <td>...</td>\n",
       "    </tr>\n",
       "    <tr>\n",
       "      <th>226</th>\n",
       "      <td>5</td>\n",
       "      <td>139</td>\n",
       "      <td>64</td>\n",
       "      <td>35</td>\n",
       "      <td>140</td>\n",
       "      <td>28.6</td>\n",
       "      <td>0.411</td>\n",
       "      <td>26</td>\n",
       "      <td>0</td>\n",
       "    </tr>\n",
       "    <tr>\n",
       "      <th>227</th>\n",
       "      <td>1</td>\n",
       "      <td>96</td>\n",
       "      <td>122</td>\n",
       "      <td>0</td>\n",
       "      <td>0</td>\n",
       "      <td>22.4</td>\n",
       "      <td>0.207</td>\n",
       "      <td>27</td>\n",
       "      <td>0</td>\n",
       "    </tr>\n",
       "    <tr>\n",
       "      <th>228</th>\n",
       "      <td>10</td>\n",
       "      <td>101</td>\n",
       "      <td>86</td>\n",
       "      <td>37</td>\n",
       "      <td>0</td>\n",
       "      <td>45.6</td>\n",
       "      <td>1.136</td>\n",
       "      <td>38</td>\n",
       "      <td>1</td>\n",
       "    </tr>\n",
       "    <tr>\n",
       "      <th>229</th>\n",
       "      <td>0</td>\n",
       "      <td>141</td>\n",
       "      <td>0</td>\n",
       "      <td>0</td>\n",
       "      <td>0</td>\n",
       "      <td>42.4</td>\n",
       "      <td>0.205</td>\n",
       "      <td>29</td>\n",
       "      <td>1</td>\n",
       "    </tr>\n",
       "    <tr>\n",
       "      <th>230</th>\n",
       "      <td>0</td>\n",
       "      <td>125</td>\n",
       "      <td>96</td>\n",
       "      <td>0</td>\n",
       "      <td>0</td>\n",
       "      <td>22.5</td>\n",
       "      <td>0.262</td>\n",
       "      <td>21</td>\n",
       "      <td>0</td>\n",
       "    </tr>\n",
       "  </tbody>\n",
       "</table>\n",
       "<p>231 rows × 9 columns</p>\n",
       "</div>"
      ],
      "text/plain": [
       "     Pregnancies  Glucose  BloodPressure  SkinThickness  Insulin   BMI  \\\n",
       "0              1       89             24             19       25  27.8   \n",
       "1              2      197             70             45      543  30.5   \n",
       "2              4       90             88             47       54  37.7   \n",
       "3             11      138             76              0        0  33.2   \n",
       "4              0       91             68             32      210  39.9   \n",
       "..           ...      ...            ...            ...      ...   ...   \n",
       "226            5      139             64             35      140  28.6   \n",
       "227            1       96            122              0        0  22.4   \n",
       "228           10      101             86             37        0  45.6   \n",
       "229            0      141              0              0        0  42.4   \n",
       "230            0      125             96              0        0  22.5   \n",
       "\n",
       "     DiabetesPedigreeFunction  Age  Outcome  \n",
       "0                       0.559   21        0  \n",
       "1                       0.158   53        1  \n",
       "2                       0.362   29        0  \n",
       "3                       0.420   35        0  \n",
       "4                       0.381   25        0  \n",
       "..                        ...  ...      ...  \n",
       "226                     0.411   26        0  \n",
       "227                     0.207   27        0  \n",
       "228                     1.136   38        1  \n",
       "229                     0.205   29        1  \n",
       "230                     0.262   21        0  \n",
       "\n",
       "[231 rows x 9 columns]"
      ]
     },
     "execution_count": 44,
     "metadata": {},
     "output_type": "execute_result"
    }
   ],
   "source": [
    "test_df"
   ]
  },
  {
   "cell_type": "code",
   "execution_count": 45,
   "metadata": {},
   "outputs": [
    {
     "name": "stdout",
     "output_type": "stream",
     "text": [
      "Number of zeros in Pregnancies: 29\n",
      "Number of zeros in Glucose: 1\n",
      "Number of zeros in BloodPressure: 6\n",
      "Number of zeros in SkinThickness: 64\n",
      "Number of zeros in Insulin: 113\n",
      "Number of zeros in BMI: 1\n",
      "Number of zeros in DiabetesPedigreeFunction: 0\n",
      "Number of zeros in Age: 0\n",
      "Number of zeros in Outcome: 152\n"
     ]
    }
   ],
   "source": [
    "for column in test_df.columns:\n",
    "\tnum_zeros = (test_df[column] == 0).sum()\n",
    "\n",
    "\tprint(f\"Number of zeros in {column}: {num_zeros}\")    "
   ]
  },
  {
   "cell_type": "code",
   "execution_count": 47,
   "metadata": {},
   "outputs": [],
   "source": [
    "col=[\"Glucose\", \"BloodPressure\", \"SkinThickness\", \"Insulin\", \"BMI\"]"
   ]
  },
  {
   "cell_type": "code",
   "execution_count": 48,
   "metadata": {},
   "outputs": [
    {
     "data": {
      "text/plain": [
       "Pregnancies                   0\n",
       "Glucose                       1\n",
       "BloodPressure                 6\n",
       "SkinThickness                64\n",
       "Insulin                     113\n",
       "BMI                           1\n",
       "DiabetesPedigreeFunction      0\n",
       "Age                           0\n",
       "Outcome                       0\n",
       "dtype: int64"
      ]
     },
     "execution_count": 48,
     "metadata": {},
     "output_type": "execute_result"
    }
   ],
   "source": [
    "test_df[col]=test_df[col].replace(0, np.NaN) \n",
    "test_df.isna().sum()"
   ]
  },
  {
   "cell_type": "code",
   "execution_count": 49,
   "metadata": {},
   "outputs": [],
   "source": [
    "test_df[col] = imputer.transform(test_df[col])"
   ]
  },
  {
   "cell_type": "code",
   "execution_count": 50,
   "metadata": {},
   "outputs": [],
   "source": [
    "replace_with_thresholds(test_df, test_df.columns)"
   ]
  },
  {
   "cell_type": "code",
   "execution_count": 51,
   "metadata": {
    "colab": {
     "base_uri": "https://localhost:8080/",
     "height": 771
    },
    "id": "85vFle9-5GpC",
    "outputId": "ab06ae8d-d314-400b-c141-a40e4e616933",
    "vscode": {
     "languageId": "plaintext"
    }
   },
   "outputs": [
    {
     "data": {
      "text/plain": [
       "(array([0, 1, 2, 3, 4, 5, 6, 7, 8]),\n",
       " [Text(0, 0, 'Pregnancies'),\n",
       "  Text(1, 0, 'Glucose'),\n",
       "  Text(2, 0, 'BloodPressure'),\n",
       "  Text(3, 0, 'SkinThickness'),\n",
       "  Text(4, 0, 'Insulin'),\n",
       "  Text(5, 0, 'BMI'),\n",
       "  Text(6, 0, 'DiabetesPedigreeFunction'),\n",
       "  Text(7, 0, 'Age'),\n",
       "  Text(8, 0, 'Outcome')])"
      ]
     },
     "execution_count": 51,
     "metadata": {},
     "output_type": "execute_result"
    },
    {
     "data": {
      "image/png": "[encoded data removed]",
      "text/plain": [
       "<Figure size 800x550 with 1 Axes>"
      ]
     },
     "metadata": {},
     "output_type": "display_data"
    }
   ],
   "source": [
    "sns.boxplot(data=test_df)\n",
    "plt.xticks(rotation=90)"
   ]
  },
  {
   "cell_type": "code",
   "execution_count": 52,
   "metadata": {},
   "outputs": [],
   "source": [
    "age_bins_test = kbins.transform(test_df['Age'].values.reshape(-1, 1))\n",
    "\n",
    "test_df['age_bins'] = age_bins_test"
   ]
  },
  {
   "cell_type": "code",
   "execution_count": 53,
   "metadata": {},
   "outputs": [],
   "source": [
    "test_df_scaled = scaler.transform(test_df.drop(['Outcome', 'age_bins'], axis=1))\n",
    "test_df_scaled = pd.concat([pd.DataFrame(test_df_scaled, columns=test_df.columns.drop(['Outcome', 'age_bins'])),test_df[['Outcome', 'age_bins']]], axis=1)"
   ]
  },
  {
   "cell_type": "code",
   "execution_count": 54,
   "metadata": {},
   "outputs": [],
   "source": [
    "# Split X and y for test data\n",
    "X_test = test_df_scaled.drop('Outcome', axis=1)\n",
    "y_test = test_df_scaled['Outcome']"
   ]
  },
  {
   "cell_type": "markdown",
   "metadata": {
    "id": "5VQ8b6zf5Gpa"
   },
   "source": [
    "#### Load the model from the pkl file, use it to predict on the test set."
   ]
  },
  {
   "cell_type": "code",
   "execution_count": 55,
   "metadata": {
    "id": "tkc3wkFg5Gpa",
    "vscode": {
     "languageId": "plaintext"
    }
   },
   "outputs": [],
   "source": [
    "import pickle\n",
    "\n",
    "# Load the trained model from the pkl file\n",
    "with open('Diabetes.pkl', 'rb') as f:\n",
    "    model = pickle.load(f)"
   ]
  },
  {
   "cell_type": "code",
   "execution_count": 56,
   "metadata": {
    "id": "AvL24FmD5Gpa",
    "vscode": {
     "languageId": "plaintext"
    }
   },
   "outputs": [],
   "source": [
    "y_predit_test=model.predict(X_test)"
   ]
  },
  {
   "cell_type": "markdown",
   "metadata": {
    "id": "DlLo62MM5Gpa"
   },
   "source": [
    "#### Print the classification report.  \n",
    "reflect on the results in terms of F1 score, precision and recall. Is the model overfitting, underfitting and why?"
   ]
  },
  {
   "cell_type": "code",
   "execution_count": 57,
   "metadata": {
    "colab": {
     "base_uri": "https://localhost:8080/"
    },
    "id": "7p72uciq5Gpb",
    "outputId": "bd0056a8-8832-4e65-addc-8cdf608051a3",
    "vscode": {
     "languageId": "plaintext"
    }
   },
   "outputs": [
    {
     "name": "stdout",
     "output_type": "stream",
     "text": [
      "              precision    recall  f1-score   support\n",
      "\n",
      "         0.0       0.77      0.91      0.83       152\n",
      "         1.0       0.73      0.48      0.58        79\n",
      "\n",
      "    accuracy                           0.76       231\n",
      "   macro avg       0.75      0.69      0.71       231\n",
      "weighted avg       0.76      0.76      0.75       231\n",
      "\n"
     ]
    }
   ],
   "source": [
    "# Print the classification report\n",
    "print(classification_report(y_test, y_predit_test))"
   ]
  },
  {
   "cell_type": "markdown",
   "metadata": {
    "id": "JlaHpaZ55Gpb"
   },
   "source": [
    "#### Plot the confusion matrix, reflect on the results"
   ]
  },
  {
   "cell_type": "code",
   "execution_count": 58,
   "metadata": {
    "colab": {
     "base_uri": "https://localhost:8080/",
     "height": 501
    },
    "id": "ylXuxdts5Gpb",
    "outputId": "4ae91336-b5e5-4204-9789-21072b93dbcd",
    "vscode": {
     "languageId": "plaintext"
    }
   },
   "outputs": [
    {
     "data": {
      "text/plain": [
       "<AxesSubplot:>"
      ]
     },
     "execution_count": 58,
     "metadata": {},
     "output_type": "execute_result"
    },
    {
     "data": {
      "image/png": "[encoded data removed]",
      "text/plain": [
       "<Figure size 800x550 with 2 Axes>"
      ]
     },
     "metadata": {},
     "output_type": "display_data"
    }
   ],
   "source": [
    "conf_mat = confusion_matrix(y_test, y_predit_test)\n",
    "\n",
    "sns.heatmap(conf_mat, annot=True, cmap='Blues', fmt='g')"
   ]
  },
  {
   "cell_type": "markdown",
   "metadata": {
    "id": "ZBTheGX65Gpb"
   },
   "source": [
    "#### Compare the training accuracy vs test accuracy.\n",
    "reflect on the results, is your model underfitting or overfitting? and why?.  \n",
    "Draw a bar plot comparing the two.  "
   ]
  },
  {
   "cell_type": "code",
   "execution_count": 59,
   "metadata": {
    "colab": {
     "base_uri": "https://localhost:8080/"
    },
    "id": "JC-2C73NrcDL",
    "outputId": "91cf7da8-bc46-405c-c807-a7ec9f11d78b"
   },
   "outputs": [
    {
     "name": "stdout",
     "output_type": "stream",
     "text": [
      "Training Accuracy: 0.8286778398510242\n",
      "Test Accuracy: 0.7619047619047619\n"
     ]
    }
   ],
   "source": [
    "from sklearn.metrics import accuracy_score\n",
    "\n",
    "# y_train_true and y_train_pred are the true and predicted labels for the training dataset, respectively\n",
    "train_acc = accuracy_score(y_train, y_pred_train)\n",
    "\n",
    "# y_test_true and y_test_pred are the true and predicted labels for the test dataset, respectively\n",
    "test_acc = accuracy_score(y_test, y_predit_test)\n",
    "print(\"Training Accuracy:\", train_acc)\n",
    "print(\"Test Accuracy:\", test_acc)"
   ]
  },
  {
   "cell_type": "code",
   "execution_count": 60,
   "metadata": {
    "colab": {
     "base_uri": "https://localhost:8080/",
     "height": 504
    },
    "id": "f0ze8_UB5Gpb",
    "outputId": "31841d30-a8ca-4e37-94d9-6c902688f915",
    "vscode": {
     "languageId": "plaintext"
    }
   },
   "outputs": [
    {
     "data": {
      "image/png": "[encoded data removed]",
      "text/plain": [
       "<Figure size 800x550 with 1 Axes>"
      ]
     },
     "metadata": {},
     "output_type": "display_data"
    }
   ],
   "source": [
    "# train_acc and test_acc are the training and test accuracies, respectively\n",
    "labels = ['Training', 'Test']\n",
    "values = [train_acc, test_acc]\n",
    "\n",
    "plt.bar(labels, values)\n",
    "plt.ylim(0, 1)\n",
    "plt.ylabel('Accuracy')\n",
    "plt.title('Training Accuracy vs Test Accuracy')\n",
    "plt.show()"
   ]
  },
  {
   "cell_type": "code",
   "execution_count": 61,
   "metadata": {},
   "outputs": [
    {
     "data": {
      "text/plain": [
       "<AxesSubplot:>"
      ]
     },
     "execution_count": 61,
     "metadata": {},
     "output_type": "execute_result"
    },
    {
     "data": {
      "image/png": "[encoded data removed]",
      "text/plain": [
       "<Figure size 800x550 with 2 Axes>"
      ]
     },
     "metadata": {},
     "output_type": "display_data"
    }
   ],
   "source": [
    "corr=train_df.corr()\n",
    "sns.heatmap(corr, cmap='coolwarm', annot=True)"
   ]
  },
  {
   "cell_type": "markdown",
   "metadata": {
    "id": "u4l9-GD45Gpb"
   },
   "source": [
    "#### [BONUS] Can you plot the decision boundaries for 2 features?  \n",
    "Hint: steal some code form the internet, google: python plot decision boundary or ask chatGPT"
   ]
  },
  {
   "cell_type": "code",
   "execution_count": 62,
   "metadata": {},
   "outputs": [
    {
     "name": "stdout",
     "output_type": "stream",
     "text": [
      "Selected features: Index(['Glucose', 'BMI'], dtype='object')\n"
     ]
    }
   ],
   "source": [
    "import pandas as pd\n",
    "from sklearn.feature_selection import SelectKBest, f_classif\n",
    "\n",
    "# Separate the features and target variable\n",
    "X = X_train\n",
    "y = y_train\n",
    "\n",
    "# Perform univariate feature selection\n",
    "selector = SelectKBest(f_classif, k=2)  # Select the top 2 features\n",
    "selector.fit(X, y)\n",
    "\n",
    "# Get the names of the selected features\n",
    "selected_features = X.columns[selector.get_support()]\n",
    "\n",
    "# Print the names of the selected features\n",
    "print(\"Selected features:\", selected_features)"
   ]
  },
  {
   "cell_type": "code",
   "execution_count": 63,
   "metadata": {
    "id": "CUPlatbt5Gpb",
    "vscode": {
     "languageId": "plaintext"
    }
   },
   "outputs": [
    {
     "data": {
      "image/png": "[encoded data removed]",
      "text/plain": [
       "<Figure size 800x550 with 1 Axes>"
      ]
     },
     "metadata": {},
     "output_type": "display_data"
    }
   ],
   "source": [
    "from sklearn.linear_model import LogisticRegression\n",
    "from sklearn.preprocessing import StandardScaler\n",
    "from sklearn.decomposition import PCA\n",
    "\n",
    "import seaborn as sns\n",
    "sns.set(style=\"ticks\")\n",
    "\n",
    "# Load the diabetes dataset\n",
    "\n",
    "# Select two features to use for plotting decision boundaries\n",
    "feature_names = ['Glucose', 'BMI']\n",
    "X = train_df[feature_names].values\n",
    "y = train_df['Outcome'].values\n",
    "\n",
    "# Standardize the features\n",
    "scaler = StandardScaler()\n",
    "X = scaler.fit_transform(X)\n",
    "\n",
    "# Apply PCA to reduce the dimensionality of the features\n",
    "pca = PCA(n_components=2)\n",
    "X = pca.fit_transform(X)\n",
    "\n",
    "# Train a logistic regression model on the data\n",
    "model = LogisticRegression(solver='lbfgs')\n",
    "model.fit(X, y)\n",
    "\n",
    "# Plot the decision boundary\n",
    "x_min, x_max = X[:, 0].min() - 1, X[:, 0].max() + 1\n",
    "y_min, y_max = X[:, 1].min() - 1, X[:, 1].max() + 1\n",
    "xx, yy = np.meshgrid(np.arange(x_min, x_max, 0.01),\n",
    "                     np.arange(y_min, y_max, 0.01))\n",
    "Z = model.predict(np.c_[xx.ravel(), yy.ravel()])\n",
    "Z = Z.reshape(xx.shape)\n",
    "plt.contourf(xx, yy, Z, alpha=0.4)\n",
    "\n",
    "# Plot the data points\n",
    "sns.scatterplot(x=X[:, 0], y=X[:, 1], hue=y)\n",
    "\n",
    "# Add plot labels and title\n",
    "plt.xlabel('PCA component 1')\n",
    "plt.ylabel('PCA component 2')\n",
    "plt.title('Decision boundary plot')\n",
    "\n",
    "plt.show()"
   ]
  }
 ],
 "metadata": {
  "colab": {
   "provenance": []
  },
  "kernelspec": {
   "display_name": "Python 3 (ipykernel)",
   "language": "python",
   "name": "python3"
  },
  "language_info": {
   "codemirror_mode": {
    "name": "ipython",
    "version": 3
   },
   "file_extension": ".py",
   "mimetype": "text/x-python",
   "name": "python",
   "nbconvert_exporter": "python",
   "pygments_lexer": "ipython3",
   "version": "3.9.13"
  },
  "widgets": {
   "application/vnd.jupyter.widget-state+json": {
    "0cf1552b2e6f4b60ab3c0dce4a533642": {
     "model_module": "@jupyter-widgets/base",
     "model_module_version": "1.2.0",
     "model_name": "LayoutModel",
     "state": {
      "_model_module": "@jupyter-widgets/base",
      "_model_module_version": "1.2.0",
      "_model_name": "LayoutModel",
      "_view_count": null,
      "_view_module": "@jupyter-widgets/base",
      "_view_module_version": "1.2.0",
      "_view_name": "LayoutView",
      "align_content": null,
      "align_items": null,
      "align_self": null,
      "border": null,
      "bottom": null,
      "display": null,
      "flex": null,
      "flex_flow": null,
      "grid_area": null,
      "grid_auto_columns": null,
      "grid_auto_flow": null,
      "grid_auto_rows": null,
      "grid_column": null,
      "grid_gap": null,
      "grid_row": null,
      "grid_template_areas": null,
      "grid_template_columns": null,
      "grid_template_rows": null,
      "height": null,
      "justify_content": null,
      "justify_items": null,
      "left": null,
      "margin": null,
      "max_height": null,
      "max_width": null,
      "min_height": null,
      "min_width": null,
      "object_fit": null,
      "object_position": null,
      "order": null,
      "overflow": null,
      "overflow_x": null,
      "overflow_y": null,
      "padding": null,
      "right": null,
      "top": null,
      "visibility": null,
      "width": null
     }
    },
    "1d5c105e9ab647349cc9464fc0b51a77": {
     "model_module": "@jupyter-widgets/controls",
     "model_module_version": "1.5.0",
     "model_name": "HTMLModel",
     "state": {
      "_dom_classes": [],
      "_model_module": "@jupyter-widgets/controls",
      "_model_module_version": "1.5.0",
      "_model_name": "HTMLModel",
      "_view_count": null,
      "_view_module": "@jupyter-widgets/controls",
      "_view_module_version": "1.5.0",
      "_view_name": "HTMLView",
      "description": "",
      "description_tooltip": null,
      "layout": "IPY_MODEL_da35c3deaac7408fb75fec24e449cd67",
      "placeholder": "​",
      "style": "IPY_MODEL_641165c63d0343a29a6ca970eeff10d2",
      "value": " 69/69 [01:37&lt;00:00,  1.37s/it]"
     }
    },
    "1ea789e5e37142fda432a945ca1cc2ea": {
     "model_module": "@jupyter-widgets/controls",
     "model_module_version": "1.5.0",
     "model_name": "HTMLModel",
     "state": {
      "_dom_classes": [],
      "_model_module": "@jupyter-widgets/controls",
      "_model_module_version": "1.5.0",
      "_model_name": "HTMLModel",
      "_view_count": null,
      "_view_module": "@jupyter-widgets/controls",
      "_view_module_version": "1.5.0",
      "_view_name": "HTMLView",
      "description": "",
      "description_tooltip": null,
      "layout": "IPY_MODEL_ffa90fa67c4a462e8b89eb07cdf71684",
      "placeholder": "​",
      "style": "IPY_MODEL_848c08c8d0294d0cba3477ae82e214fa",
      "value": "Processing: 100%"
     }
    },
    "278dda7a90ef435b86cb75ea2d30877d": {
     "model_module": "@jupyter-widgets/controls",
     "model_module_version": "1.5.0",
     "model_name": "HBoxModel",
     "state": {
      "_dom_classes": [],
      "_model_module": "@jupyter-widgets/controls",
      "_model_module_version": "1.5.0",
      "_model_name": "HBoxModel",
      "_view_count": null,
      "_view_module": "@jupyter-widgets/controls",
      "_view_module_version": "1.5.0",
      "_view_name": "HBoxView",
      "box_style": "",
      "children": [
       "IPY_MODEL_1ea789e5e37142fda432a945ca1cc2ea",
       "IPY_MODEL_c79369d72f2b4484a4e09e2886dd77fe",
       "IPY_MODEL_1d5c105e9ab647349cc9464fc0b51a77"
      ],
      "layout": "IPY_MODEL_973d8c7516434ca5820c0f244ec3d3e9"
     }
    },
    "641165c63d0343a29a6ca970eeff10d2": {
     "model_module": "@jupyter-widgets/controls",
     "model_module_version": "1.5.0",
     "model_name": "DescriptionStyleModel",
     "state": {
      "_model_module": "@jupyter-widgets/controls",
      "_model_module_version": "1.5.0",
      "_model_name": "DescriptionStyleModel",
      "_view_count": null,
      "_view_module": "@jupyter-widgets/base",
      "_view_module_version": "1.2.0",
      "_view_name": "StyleView",
      "description_width": ""
     }
    },
    "724810fd778f4a1cafde9c3072459e64": {
     "model_module": "@jupyter-widgets/controls",
     "model_module_version": "1.5.0",
     "model_name": "ProgressStyleModel",
     "state": {
      "_model_module": "@jupyter-widgets/controls",
      "_model_module_version": "1.5.0",
      "_model_name": "ProgressStyleModel",
      "_view_count": null,
      "_view_module": "@jupyter-widgets/base",
      "_view_module_version": "1.2.0",
      "_view_name": "StyleView",
      "bar_color": null,
      "description_width": ""
     }
    },
    "848c08c8d0294d0cba3477ae82e214fa": {
     "model_module": "@jupyter-widgets/controls",
     "model_module_version": "1.5.0",
     "model_name": "DescriptionStyleModel",
     "state": {
      "_model_module": "@jupyter-widgets/controls",
      "_model_module_version": "1.5.0",
      "_model_name": "DescriptionStyleModel",
      "_view_count": null,
      "_view_module": "@jupyter-widgets/base",
      "_view_module_version": "1.2.0",
      "_view_name": "StyleView",
      "description_width": ""
     }
    },
    "973d8c7516434ca5820c0f244ec3d3e9": {
     "model_module": "@jupyter-widgets/base",
     "model_module_version": "1.2.0",
     "model_name": "LayoutModel",
     "state": {
      "_model_module": "@jupyter-widgets/base",
      "_model_module_version": "1.2.0",
      "_model_name": "LayoutModel",
      "_view_count": null,
      "_view_module": "@jupyter-widgets/base",
      "_view_module_version": "1.2.0",
      "_view_name": "LayoutView",
      "align_content": null,
      "align_items": null,
      "align_self": null,
      "border": null,
      "bottom": null,
      "display": null,
      "flex": null,
      "flex_flow": null,
      "grid_area": null,
      "grid_auto_columns": null,
      "grid_auto_flow": null,
      "grid_auto_rows": null,
      "grid_column": null,
      "grid_gap": null,
      "grid_row": null,
      "grid_template_areas": null,
      "grid_template_columns": null,
      "grid_template_rows": null,
      "height": null,
      "justify_content": null,
      "justify_items": null,
      "left": null,
      "margin": null,
      "max_height": null,
      "max_width": null,
      "min_height": null,
      "min_width": null,
      "object_fit": null,
      "object_position": null,
      "order": null,
      "overflow": null,
      "overflow_x": null,
      "overflow_y": null,
      "padding": null,
      "right": null,
      "top": null,
      "visibility": "hidden",
      "width": null
     }
    },
    "c79369d72f2b4484a4e09e2886dd77fe": {
     "model_module": "@jupyter-widgets/controls",
     "model_module_version": "1.5.0",
     "model_name": "FloatProgressModel",
     "state": {
      "_dom_classes": [],
      "_model_module": "@jupyter-widgets/controls",
      "_model_module_version": "1.5.0",
      "_model_name": "FloatProgressModel",
      "_view_count": null,
      "_view_module": "@jupyter-widgets/controls",
      "_view_module_version": "1.5.0",
      "_view_name": "ProgressView",
      "bar_style": "",
      "description": "",
      "description_tooltip": null,
      "layout": "IPY_MODEL_0cf1552b2e6f4b60ab3c0dce4a533642",
      "max": 69,
      "min": 0,
      "orientation": "horizontal",
      "style": "IPY_MODEL_724810fd778f4a1cafde9c3072459e64",
      "value": 69
     }
    },
    "da35c3deaac7408fb75fec24e449cd67": {
     "model_module": "@jupyter-widgets/base",
     "model_module_version": "1.2.0",
     "model_name": "LayoutModel",
     "state": {
      "_model_module": "@jupyter-widgets/base",
      "_model_module_version": "1.2.0",
      "_model_name": "LayoutModel",
      "_view_count": null,
      "_view_module": "@jupyter-widgets/base",
      "_view_module_version": "1.2.0",
      "_view_name": "LayoutView",
      "align_content": null,
      "align_items": null,
      "align_self": null,
      "border": null,
      "bottom": null,
      "display": null,
      "flex": null,
      "flex_flow": null,
      "grid_area": null,
      "grid_auto_columns": null,
      "grid_auto_flow": null,
      "grid_auto_rows": null,
      "grid_column": null,
      "grid_gap": null,
      "grid_row": null,
      "grid_template_areas": null,
      "grid_template_columns": null,
      "grid_template_rows": null,
      "height": null,
      "justify_content": null,
      "justify_items": null,
      "left": null,
      "margin": null,
      "max_height": null,
      "max_width": null,
      "min_height": null,
      "min_width": null,
      "object_fit": null,
      "object_position": null,
      "order": null,
      "overflow": null,
      "overflow_x": null,
      "overflow_y": null,
      "padding": null,
      "right": null,
      "top": null,
      "visibility": null,
      "width": null
     }
    },
    "ffa90fa67c4a462e8b89eb07cdf71684": {
     "model_module": "@jupyter-widgets/base",
     "model_module_version": "1.2.0",
     "model_name": "LayoutModel",
     "state": {
      "_model_module": "@jupyter-widgets/base",
      "_model_module_version": "1.2.0",
      "_model_name": "LayoutModel",
      "_view_count": null,
      "_view_module": "@jupyter-widgets/base",
      "_view_module_version": "1.2.0",
      "_view_name": "LayoutView",
      "align_content": null,
      "align_items": null,
      "align_self": null,
      "border": null,
      "bottom": null,
      "display": null,
      "flex": null,
      "flex_flow": null,
      "grid_area": null,
      "grid_auto_columns": null,
      "grid_auto_flow": null,
      "grid_auto_rows": null,
      "grid_column": null,
      "grid_gap": null,
      "grid_row": null,
      "grid_template_areas": null,
      "grid_template_columns": null,
      "grid_template_rows": null,
      "height": null,
      "justify_content": null,
      "justify_items": null,
      "left": null,
      "margin": null,
      "max_height": null,
      "max_width": null,
      "min_height": null,
      "min_width": null,
      "object_fit": null,
      "object_position": null,
      "order": null,
      "overflow": null,
      "overflow_x": null,
      "overflow_y": null,
      "padding": null,
      "right": null,
      "top": null,
      "visibility": null,
      "width": null
     }
    }
   }
  }
 },
 "nbformat": 4,
 "nbformat_minor": 1
}
